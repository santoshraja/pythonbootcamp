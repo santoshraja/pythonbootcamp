{
 "cells": [
  {
   "cell_type": "markdown",
   "id": "b6e3c872-4985-438f-b3bd-9a11ee035848",
   "metadata": {},
   "source": [
    "## <font color='red'>Control Structures and Functions\n",
    "\n",
    "### Control structures\r\n",
    " \r\n",
    "If-elif-ele \r\n",
    "\r\n",
    "For o op\r\n",
    "\r\n",
    "Whil  loop\r\n",
    "\r\n",
    "List compree nsions\r\n",
    "\r\n",
    "Dictionary compe hensions\r",
    "\r",
    " \n",
    "Fuc tions\r",
    "\r",
    " \n",
    "Map\r\n",
    "\r\n",
    "Filter\r\n",
    "\r\n",
    "Reduce"
   ]
  },
  {
   "cell_type": "markdown",
   "id": "fe828c06-8a14-48df-8487-b22a4e01a2c2",
   "metadata": {},
   "source": [
    "## zip() use cases\n",
    "\n",
    "#### Iterating Over Multiple Iterables Simultaneously\n",
    "#### Creating a Dictionary from Two Lists\n",
    "#### Transposing a Matrix\n",
    "#### Counting Unique Elements in Multiple Lists: You can use zip() along with Counter from the collections module to count the occurrences of elements across multiple lists"
   ]
  },
  {
   "cell_type": "code",
   "execution_count": 13,
   "id": "a65ecbfc-2237-4260-b0a7-64e9fdcd9db2",
   "metadata": {},
   "outputs": [
    {
     "name": "stdout",
     "output_type": "stream",
     "text": [
      "[1, 2, 3] [4, 5, 6] [7, 8, 9]\n",
      "1 4 7\n",
      "2 5 8\n",
      "3 6 9\n",
      "[(1, 4, 7), (2, 5, 8), (3, 6, 9)]\n"
     ]
    }
   ],
   "source": [
    "matrix = [\n",
    "    [1, 2, 3],\n",
    "    [4, 5, 6],\n",
    "    [7, 8, 9]\n",
    "]\n",
    "print(*matrix) ## unpacking\n",
    "\n",
    "for a,b,c in zip(*matrix):\n",
    "    print(a,b,c)\n",
    "\n",
    "transposed = list(zip(*matrix))\n",
    "print(transposed)\n"
   ]
  },
  {
   "cell_type": "markdown",
   "id": "a0ccbaa9-6d5d-4f36-98be-e836950875af",
   "metadata": {},
   "source": [
    "## Lambda functions\n",
    "\n",
    "Lambda functions can have any number of arguments, but they can only have one expression. They are useful when you need a simple function for a short period of time\n",
    "\n",
    "### Syntax : lambda arguments: expression\r\n"
   ]
  },
  {
   "cell_type": "code",
   "execution_count": 14,
   "id": "d7a92578-e939-49de-a89e-ca924412eb2e",
   "metadata": {},
   "outputs": [
    {
     "name": "stdout",
     "output_type": "stream",
     "text": [
      "8\n"
     ]
    }
   ],
   "source": [
    "## simple example of lambda \n",
    "add = lambda x, y: x + y\n",
    "print(add(5, 3))  # Output: 8\n"
   ]
  },
  {
   "cell_type": "markdown",
   "id": "5d2da45a-335c-4000-88b2-34a504444af0",
   "metadata": {},
   "source": [
    "One common use case is with the map() function, which applies a given function to each item of an iterable (like a list) and returns a list of the results. Using a lambda function with map(), you can apply a simple operation to each element of a list"
   ]
  },
  {
   "cell_type": "code",
   "execution_count": 15,
   "id": "55b589e9-791f-4743-a891-a4c60c611caa",
   "metadata": {},
   "outputs": [
    {
     "name": "stdout",
     "output_type": "stream",
     "text": [
      "[1, 4, 16, 25]\n"
     ]
    }
   ],
   "source": [
    "numbers = [1,2,4,5]\n",
    "## print square of above list\n",
    "sqlist = list(map(lambda x : x**2,numbers)) ## map is used to apply a function logic to each item\n",
    "print(sqlist)"
   ]
  },
  {
   "cell_type": "markdown",
   "id": "d13125fb-ce5b-49a1-92c8-69f94700fc66",
   "metadata": {},
   "source": [
    "Another common use case is with the filter() function, which creates a new iterable from elements of the original iterable for which a function returns true. Again, a lambda function can be used here to define the condition"
   ]
  },
  {
   "cell_type": "code",
   "execution_count": 16,
   "id": "69b88499-b540-4948-aeac-f2879f5fd578",
   "metadata": {},
   "outputs": [
    {
     "name": "stdout",
     "output_type": "stream",
     "text": [
      "odd number list : [1, 5, 7, 9, 13, 15, 79]\n"
     ]
    }
   ],
   "source": [
    "## get odd numbers from given list\n",
    "numlist = [1,4,5,6,7,8,9,13,15,24,36,79]\n",
    "oddnumlist = list(filter(lambda x:x%2 !=0 ,numlist))\n",
    "print('odd number list :',oddnumlist)"
   ]
  },
  {
   "cell_type": "markdown",
   "id": "9e8d75d0-6180-4588-a973-cb79e58a5eea",
   "metadata": {},
   "source": [
    "#### Ex. Write a python program to count the students above age 18\n"
   ]
  },
  {
   "cell_type": "code",
   "execution_count": 17,
   "id": "4737dc5f-30f9-47e3-897d-b1cf8bf63709",
   "metadata": {},
   "outputs": [
    {
     "data": {
      "text/plain": [
       "2"
      ]
     },
     "execution_count": 17,
     "metadata": {},
     "output_type": "execute_result"
    }
   ],
   "source": [
    "students_data = {1:['Sam', 15] , 2:['Rob',18], 3:['Kyle', 16], 4:['Cornor',19], 5:['Trump',20]}\n",
    "len(list(filter(lambda x : x[1] > 18, students_data.values())))"
   ]
  },
  {
   "cell_type": "markdown",
   "id": "5fdf553c-6d80-481c-910f-14024dafb6d7",
   "metadata": {},
   "source": [
    "The reduce() function in Python is used to apply a function to an iterable (such as a list) and reduce it to a single cumulative value. It is part of the functools module in Python 3. The reduce() function works by taking the first two elements of the iterable and applying the function to them. Then it takes the result and the next element, and applies the function again, and so on, until all elements have been processed.\n",
    "\n",
    "### Syntax : \n",
    "from functools import reduce\r\n",
    "reduce(function, iterable[, initializer])\n",
    "\n",
    "\r\n",
    "function: The function to be applied to the elements. It should take two arguments.\r\n",
    "iterable: The iterable to be reduced.\r\n",
    "initializer (optional): If provided, it will be placed before the items of the iterable in the calculation, and serves as a default when the iterable is empty.\r\n"
   ]
  },
  {
   "cell_type": "code",
   "execution_count": 19,
   "id": "de29e9b6-28f7-4242-9101-e986c2c6a115",
   "metadata": {},
   "outputs": [
    {
     "name": "stdout",
     "output_type": "stream",
     "text": [
      "31\n"
     ]
    }
   ],
   "source": [
    "## total of the given list\n",
    "from functools import reduce\n",
    "\n",
    "list_1 = [1,6,7,8,9]\n",
    "sum = reduce(lambda x,y : x+y,list_1)\n",
    "print(sum)"
   ]
  },
  {
   "cell_type": "code",
   "execution_count": 21,
   "id": "f00ed435-cfa9-4d3a-816e-468371ab8fe8",
   "metadata": {},
   "outputs": [
    {
     "name": "stdout",
     "output_type": "stream",
     "text": [
      "900\n"
     ]
    }
   ],
   "source": [
    "## find max number from list\n",
    "from functools import reduce\n",
    "\n",
    "list_2 = [9,23,58,90,76,900,54]\n",
    "maxi = reduce( lambda x,y : x if x>y else y,list_2)\n",
    "print(maxi)"
   ]
  },
  {
   "cell_type": "code",
   "execution_count": 23,
   "id": "6ee11dc7-43f6-42ac-8103-3de361df2082",
   "metadata": {},
   "outputs": [
    {
     "name": "stdout",
     "output_type": "stream",
     "text": [
      "c\n"
     ]
    }
   ],
   "source": [
    "a=10\n",
    "b=16\n",
    "c=20\n",
    "\n",
    "if( a>b & a>c ):\n",
    "    print(\"a\")\n",
    "elif( b>a & b>c):\n",
    "    print(\"b\")\n",
    "else:\n",
    "     print(\"c\")"
   ]
  },
  {
   "cell_type": "markdown",
   "id": "836a9fa8-6640-41d3-be7c-e3221bdfb975",
   "metadata": {},
   "source": [
    "## <p><font color='red'>Boot camp 3rd week 13th April 6:00 pm</p>\n",
    "### <b>Functional Programming</b>\n",
    "###### Lambda\n",
    "###### Apply\n",
    "###### Map-Filter-Reduce\n",
    "### I/O error handling\n"
   ]
  },
  {
   "cell_type": "code",
   "execution_count": 3,
   "id": "482054b4-c678-4e09-acac-094e84ac17ae",
   "metadata": {},
   "outputs": [
    {
     "name": "stdout",
     "output_type": "stream",
     "text": [
      "out side of fuction\n"
     ]
    }
   ],
   "source": [
    "# example of function , unctions not used any pulic,private ,protect keywords, no return data type like retun string,boolean\n",
    "def myworld():\n",
    "    print('hellooooo')\n",
    "\n",
    "print('out side of fuction')"
   ]
  },
  {
   "cell_type": "code",
   "execution_count": 4,
   "id": "71ee72b6-cf9c-4d0a-84cf-fdbf75b136d2",
   "metadata": {},
   "outputs": [
    {
     "name": "stdout",
     "output_type": "stream",
     "text": [
      "hellooooo\n"
     ]
    }
   ],
   "source": [
    "myworld()"
   ]
  },
  {
   "cell_type": "code",
   "execution_count": 6,
   "id": "a32700d8-e25b-46b9-8f16-96315059b037",
   "metadata": {},
   "outputs": [],
   "source": [
    "def addnum(n1,n2):\n",
    "    return n1+n2"
   ]
  },
  {
   "cell_type": "code",
   "execution_count": 7,
   "id": "030c7cea-eb39-4e33-8a6f-23a08d4f3521",
   "metadata": {},
   "outputs": [
    {
     "name": "stdout",
     "output_type": "stream",
     "text": [
      "5\n"
     ]
    }
   ],
   "source": [
    "total = addnum(2,3)\n",
    "print(total)"
   ]
  },
  {
   "cell_type": "code",
   "execution_count": null,
   "id": "c76f0862-ddae-46fb-9337-995e791accaa",
   "metadata": {},
   "outputs": [],
   "source": [
    "## lambda for simple operations with out any implementation functions\n",
    "## syntax like lambda arguments:operation\n",
    "lambda x,y:x+y"
   ]
  },
  {
   "cell_type": "code",
   "execution_count": 9,
   "id": "6ecc2fe5-0e30-4f48-af7f-c6a3e5b47f15",
   "metadata": {},
   "outputs": [
    {
     "name": "stdout",
     "output_type": "stream",
     "text": [
      "Hi brilliant !!!! ('Ravi', 'Ramu', 'Raja')\n",
      "Hi brilliant !!!! ('Ravi',)\n"
     ]
    }
   ],
   "source": [
    "## *args -- we can pass any number of args\n",
    "\n",
    "def students(*students):\n",
    "    print('Hi brilliant !!!!',students)\n",
    "\n",
    "students('Ravi','Ramu','Raja')\n",
    "students('Ravi')"
   ]
  },
  {
   "cell_type": "code",
   "execution_count": 18,
   "id": "176deb5b-4f8d-498d-bf6d-d0d9b66d16d8",
   "metadata": {},
   "outputs": [
    {
     "ename": "ValueError",
     "evalue": "All arrays must be of the same length",
     "output_type": "error",
     "traceback": [
      "\u001b[1;31m---------------------------------------------------------------------------\u001b[0m",
      "\u001b[1;31mValueError\u001b[0m                                Traceback (most recent call last)",
      "Cell \u001b[1;32mIn[18], line 7\u001b[0m\n\u001b[0;32m      4\u001b[0m \u001b[38;5;28;01mimport\u001b[39;00m \u001b[38;5;21;01mpandas\u001b[39;00m \u001b[38;5;28;01mas\u001b[39;00m \u001b[38;5;21;01mpd\u001b[39;00m\n\u001b[0;32m      6\u001b[0m df \u001b[38;5;241m=\u001b[39m {\u001b[38;5;124m\"\u001b[39m\u001b[38;5;124mA\u001b[39m\u001b[38;5;124m\"\u001b[39m:[\u001b[38;5;241m1\u001b[39m,\u001b[38;5;241m2\u001b[39m,\u001b[38;5;241m3\u001b[39m,\u001b[38;5;241m4\u001b[39m,\u001b[38;5;241m5\u001b[39m,\u001b[38;5;241m6\u001b[39m],\u001b[38;5;124m\"\u001b[39m\u001b[38;5;124mB\u001b[39m\u001b[38;5;124m\"\u001b[39m:[\u001b[38;5;241m10\u001b[39m,\u001b[38;5;241m20\u001b[39m,\u001b[38;5;241m30\u001b[39m,\u001b[38;5;241m40\u001b[39m,\u001b[38;5;241m50\u001b[39m],\u001b[38;5;124m\"\u001b[39m\u001b[38;5;124mC\u001b[39m\u001b[38;5;124m\"\u001b[39m:[\u001b[38;5;241m100\u001b[39m,\u001b[38;5;241m200\u001b[39m,\u001b[38;5;241m300\u001b[39m,\u001b[38;5;241m400\u001b[39m,\u001b[38;5;241m500\u001b[39m]}\n\u001b[1;32m----> 7\u001b[0m df1\u001b[38;5;241m=\u001b[39m pd\u001b[38;5;241m.\u001b[39mDataFrame(df)\n\u001b[0;32m      8\u001b[0m \u001b[38;5;28mprint\u001b[39m(df1)    \n\u001b[0;32m      9\u001b[0m \u001b[38;5;28;01mdef\u001b[39;00m \u001b[38;5;21msq\u001b[39m(x):\n",
      "File \u001b[1;32m~\\anaconda3\\Lib\\site-packages\\pandas\\core\\frame.py:733\u001b[0m, in \u001b[0;36mDataFrame.__init__\u001b[1;34m(self, data, index, columns, dtype, copy)\u001b[0m\n\u001b[0;32m    727\u001b[0m     mgr \u001b[38;5;241m=\u001b[39m \u001b[38;5;28mself\u001b[39m\u001b[38;5;241m.\u001b[39m_init_mgr(\n\u001b[0;32m    728\u001b[0m         data, axes\u001b[38;5;241m=\u001b[39m{\u001b[38;5;124m\"\u001b[39m\u001b[38;5;124mindex\u001b[39m\u001b[38;5;124m\"\u001b[39m: index, \u001b[38;5;124m\"\u001b[39m\u001b[38;5;124mcolumns\u001b[39m\u001b[38;5;124m\"\u001b[39m: columns}, dtype\u001b[38;5;241m=\u001b[39mdtype, copy\u001b[38;5;241m=\u001b[39mcopy\n\u001b[0;32m    729\u001b[0m     )\n\u001b[0;32m    731\u001b[0m \u001b[38;5;28;01melif\u001b[39;00m \u001b[38;5;28misinstance\u001b[39m(data, \u001b[38;5;28mdict\u001b[39m):\n\u001b[0;32m    732\u001b[0m     \u001b[38;5;66;03m# GH#38939 de facto copy defaults to False only in non-dict cases\u001b[39;00m\n\u001b[1;32m--> 733\u001b[0m     mgr \u001b[38;5;241m=\u001b[39m dict_to_mgr(data, index, columns, dtype\u001b[38;5;241m=\u001b[39mdtype, copy\u001b[38;5;241m=\u001b[39mcopy, typ\u001b[38;5;241m=\u001b[39mmanager)\n\u001b[0;32m    734\u001b[0m \u001b[38;5;28;01melif\u001b[39;00m \u001b[38;5;28misinstance\u001b[39m(data, ma\u001b[38;5;241m.\u001b[39mMaskedArray):\n\u001b[0;32m    735\u001b[0m     \u001b[38;5;28;01mfrom\u001b[39;00m \u001b[38;5;21;01mnumpy\u001b[39;00m\u001b[38;5;21;01m.\u001b[39;00m\u001b[38;5;21;01mma\u001b[39;00m \u001b[38;5;28;01mimport\u001b[39;00m mrecords\n",
      "File \u001b[1;32m~\\anaconda3\\Lib\\site-packages\\pandas\\core\\internals\\construction.py:503\u001b[0m, in \u001b[0;36mdict_to_mgr\u001b[1;34m(data, index, columns, dtype, typ, copy)\u001b[0m\n\u001b[0;32m    499\u001b[0m     \u001b[38;5;28;01melse\u001b[39;00m:\n\u001b[0;32m    500\u001b[0m         \u001b[38;5;66;03m# dtype check to exclude e.g. range objects, scalars\u001b[39;00m\n\u001b[0;32m    501\u001b[0m         arrays \u001b[38;5;241m=\u001b[39m [x\u001b[38;5;241m.\u001b[39mcopy() \u001b[38;5;28;01mif\u001b[39;00m \u001b[38;5;28mhasattr\u001b[39m(x, \u001b[38;5;124m\"\u001b[39m\u001b[38;5;124mdtype\u001b[39m\u001b[38;5;124m\"\u001b[39m) \u001b[38;5;28;01melse\u001b[39;00m x \u001b[38;5;28;01mfor\u001b[39;00m x \u001b[38;5;129;01min\u001b[39;00m arrays]\n\u001b[1;32m--> 503\u001b[0m \u001b[38;5;28;01mreturn\u001b[39;00m arrays_to_mgr(arrays, columns, index, dtype\u001b[38;5;241m=\u001b[39mdtype, typ\u001b[38;5;241m=\u001b[39mtyp, consolidate\u001b[38;5;241m=\u001b[39mcopy)\n",
      "File \u001b[1;32m~\\anaconda3\\Lib\\site-packages\\pandas\\core\\internals\\construction.py:114\u001b[0m, in \u001b[0;36marrays_to_mgr\u001b[1;34m(arrays, columns, index, dtype, verify_integrity, typ, consolidate)\u001b[0m\n\u001b[0;32m    111\u001b[0m \u001b[38;5;28;01mif\u001b[39;00m verify_integrity:\n\u001b[0;32m    112\u001b[0m     \u001b[38;5;66;03m# figure out the index, if necessary\u001b[39;00m\n\u001b[0;32m    113\u001b[0m     \u001b[38;5;28;01mif\u001b[39;00m index \u001b[38;5;129;01mis\u001b[39;00m \u001b[38;5;28;01mNone\u001b[39;00m:\n\u001b[1;32m--> 114\u001b[0m         index \u001b[38;5;241m=\u001b[39m _extract_index(arrays)\n\u001b[0;32m    115\u001b[0m     \u001b[38;5;28;01melse\u001b[39;00m:\n\u001b[0;32m    116\u001b[0m         index \u001b[38;5;241m=\u001b[39m ensure_index(index)\n",
      "File \u001b[1;32m~\\anaconda3\\Lib\\site-packages\\pandas\\core\\internals\\construction.py:677\u001b[0m, in \u001b[0;36m_extract_index\u001b[1;34m(data)\u001b[0m\n\u001b[0;32m    675\u001b[0m lengths \u001b[38;5;241m=\u001b[39m \u001b[38;5;28mlist\u001b[39m(\u001b[38;5;28mset\u001b[39m(raw_lengths))\n\u001b[0;32m    676\u001b[0m \u001b[38;5;28;01mif\u001b[39;00m \u001b[38;5;28mlen\u001b[39m(lengths) \u001b[38;5;241m>\u001b[39m \u001b[38;5;241m1\u001b[39m:\n\u001b[1;32m--> 677\u001b[0m     \u001b[38;5;28;01mraise\u001b[39;00m \u001b[38;5;167;01mValueError\u001b[39;00m(\u001b[38;5;124m\"\u001b[39m\u001b[38;5;124mAll arrays must be of the same length\u001b[39m\u001b[38;5;124m\"\u001b[39m)\n\u001b[0;32m    679\u001b[0m \u001b[38;5;28;01mif\u001b[39;00m have_dicts:\n\u001b[0;32m    680\u001b[0m     \u001b[38;5;28;01mraise\u001b[39;00m \u001b[38;5;167;01mValueError\u001b[39;00m(\n\u001b[0;32m    681\u001b[0m         \u001b[38;5;124m\"\u001b[39m\u001b[38;5;124mMixing dicts with non-Series may lead to ambiguous ordering.\u001b[39m\u001b[38;5;124m\"\u001b[39m\n\u001b[0;32m    682\u001b[0m     )\n",
      "\u001b[1;31mValueError\u001b[0m: All arrays must be of the same length"
     ]
    }
   ],
   "source": [
    "## Apply function , use tables , rows and columns generally use apply function\n",
    "## every fumction inside clik shift+tab to dive detail description\n",
    "import numpy as np\n",
    "import pandas as pd\n",
    "\n",
    "df = {\"A\":[1,2,3,4,5,6],\"B\":[10,20,30,40,50],\"C\":[100,200,300,400,500]}\n",
    "df1= pd.DataFrame(df)\n",
    "print(df1)    \n",
    "def sq(x):\n",
    "     return x**2\n",
    "##df.apply(sq,axis=0)"
   ]
  },
  {
   "cell_type": "code",
   "execution_count": 1,
   "id": "f40411e4-97de-41cc-825e-27ec7877bc26",
   "metadata": {},
   "outputs": [
    {
     "name": "stdout",
     "output_type": "stream",
     "text": [
      "B\n"
     ]
    }
   ],
   "source": [
    "if True or True:\n",
    "    if False and True or False:\n",
    "        print('A')\n",
    "    elif False and False or True and True:\n",
    "        print('B')\n",
    "    else:\n",
    "        print('C')\n",
    "else:\n",
    "    print('D')"
   ]
  },
  {
   "cell_type": "code",
   "execution_count": 6,
   "id": "b80ccd67-60d4-41a9-ab24-6ebb107037c5",
   "metadata": {},
   "outputs": [
    {
     "name": "stdout",
     "output_type": "stream",
     "text": [
      "YES\n"
     ]
    }
   ],
   "source": [
    "import ast,sys\n",
    "input_str = 'apple'\n",
    "\n",
    "vowels = ['a','e','i','o','u']\n",
    "#Write your code here\n",
    "if input_str[0].lower() in vowels:\n",
    "    print ('YES')\n",
    "else:\n",
    "    print( 'NO')\n",
    "#Use capital YES or NO"
   ]
  },
  {
   "cell_type": "code",
   "execution_count": 11,
   "id": "7df0b495-de5d-4c20-b07b-8d755e35e643",
   "metadata": {},
   "outputs": [
    {
     "name": "stdout",
     "output_type": "stream",
     "text": [
      "0\n",
      "1\n",
      "2\n",
      "3\n",
      "4\n"
     ]
    },
    {
     "data": {
      "text/plain": [
       "[-2, -6, -15, -4, -8]"
      ]
     },
     "execution_count": 11,
     "metadata": {},
     "output_type": "execute_result"
    }
   ],
   "source": [
    "L1 = [10, 20, 30, 24, 18]\n",
    "L2 = [8, 14, 15, 20, 10]\n",
    "L3=[]\n",
    "for  i in range(len(L1)):\n",
    "    L3.append(L2[i] - L1[i])\n",
    "    print(i)\n",
    "L3"
   ]
  },
  {
   "cell_type": "code",
   "execution_count": 23,
   "id": "43a247dd-011e-43a6-ae7b-405fa73fc72e",
   "metadata": {},
   "outputs": [
    {
     "data": {
      "text/plain": [
       "['Varma', 'Raj', 'Gupta', 'Sandeep']"
      ]
     },
     "execution_count": 23,
     "metadata": {},
     "output_type": "execute_result"
    }
   ],
   "source": [
    "import ast,sys\n",
    "##input_str = sys.stdin.read()\n",
    "##input_list = ast.literal_eval(input_str)\n",
    "input_list = ['VARMA', 'raj', 'Gupta', 'SaNdeeP']\n",
    "input_list2=[]\n",
    "# Type your code here\n",
    "for i in input_list:\n",
    "    ##input_list2.append(i.lower().capitalize()) ## this approach is ok but no need to use lower\n",
    "    ## optimize approach\n",
    "    input_list2.append(i.capitalize())\n",
    "\n",
    "input_list2 ## ouput like ['Varma', 'Raj', 'Gupta', 'Sandeep']"
   ]
  },
  {
   "cell_type": "code",
   "execution_count": 24,
   "id": "7a7bbd16-0a96-4072-82f7-be6f8345f717",
   "metadata": {},
   "outputs": [
    {
     "data": {
      "text/plain": [
       "[-100,\n",
       " -98,\n",
       " -96,\n",
       " -94,\n",
       " -92,\n",
       " -90,\n",
       " -88,\n",
       " -86,\n",
       " -84,\n",
       " -82,\n",
       " -80,\n",
       " -78,\n",
       " -76,\n",
       " -74,\n",
       " -72,\n",
       " -70,\n",
       " -68,\n",
       " -66,\n",
       " -64,\n",
       " -62,\n",
       " -60,\n",
       " -58,\n",
       " -56,\n",
       " -54,\n",
       " -52,\n",
       " -50,\n",
       " -48,\n",
       " -46,\n",
       " -44,\n",
       " -42,\n",
       " -40,\n",
       " -38,\n",
       " -36,\n",
       " -34,\n",
       " -32,\n",
       " -30,\n",
       " -28,\n",
       " -26,\n",
       " -24,\n",
       " -22,\n",
       " -20,\n",
       " -18,\n",
       " -16,\n",
       " -14,\n",
       " -12,\n",
       " -10,\n",
       " -8,\n",
       " -6,\n",
       " -4,\n",
       " -2]"
      ]
     },
     "execution_count": 24,
     "metadata": {},
     "output_type": "execute_result"
    }
   ],
   "source": [
    "l = []\n",
    "for i in range(-100, 0):\n",
    "    if(i % 2 == 0):\n",
    "        l.append(i)\n",
    "l"
   ]
  },
  {
   "cell_type": "code",
   "execution_count": 25,
   "id": "cd2d94b2-06c0-442f-93f3-4faa028ef43a",
   "metadata": {},
   "outputs": [
    {
     "data": {
      "text/plain": [
       "[-100,\n",
       " -98,\n",
       " -96,\n",
       " -94,\n",
       " -92,\n",
       " -90,\n",
       " -88,\n",
       " -86,\n",
       " -84,\n",
       " -82,\n",
       " -80,\n",
       " -78,\n",
       " -76,\n",
       " -74,\n",
       " -72,\n",
       " -70,\n",
       " -68,\n",
       " -66,\n",
       " -64,\n",
       " -62,\n",
       " -60,\n",
       " -58,\n",
       " -56,\n",
       " -54,\n",
       " -52,\n",
       " -50,\n",
       " -48,\n",
       " -46,\n",
       " -44,\n",
       " -42,\n",
       " -40,\n",
       " -38,\n",
       " -36,\n",
       " -34,\n",
       " -32,\n",
       " -30,\n",
       " -28,\n",
       " -26,\n",
       " -24,\n",
       " -22,\n",
       " -20,\n",
       " -18,\n",
       " -16,\n",
       " -14,\n",
       " -12,\n",
       " -10,\n",
       " -8,\n",
       " -6,\n",
       " -4,\n",
       " -2]"
      ]
     },
     "execution_count": 25,
     "metadata": {},
     "output_type": "execute_result"
    }
   ],
   "source": [
    "list(range(-100, -1, 2))"
   ]
  },
  {
   "cell_type": "code",
   "execution_count": 27,
   "id": "18374830-d6b8-4824-adb1-2d2e63c3f8e6",
   "metadata": {},
   "outputs": [
    {
     "data": {
      "text/plain": [
       "[]"
      ]
     },
     "execution_count": 27,
     "metadata": {},
     "output_type": "execute_result"
    }
   ],
   "source": [
    "list(range(0, -101, 2))"
   ]
  },
  {
   "cell_type": "code",
   "execution_count": 28,
   "id": "f8adeed6-45bd-4f17-b83c-ccae3a0ef929",
   "metadata": {},
   "outputs": [
    {
     "data": {
      "text/plain": [
       "[-100,\n",
       " -98,\n",
       " -96,\n",
       " -94,\n",
       " -92,\n",
       " -90,\n",
       " -88,\n",
       " -86,\n",
       " -84,\n",
       " -82,\n",
       " -80,\n",
       " -78,\n",
       " -76,\n",
       " -74,\n",
       " -72,\n",
       " -70,\n",
       " -68,\n",
       " -66,\n",
       " -64,\n",
       " -62,\n",
       " -60,\n",
       " -58,\n",
       " -56,\n",
       " -54,\n",
       " -52,\n",
       " -50,\n",
       " -48,\n",
       " -46,\n",
       " -44,\n",
       " -42,\n",
       " -40,\n",
       " -38,\n",
       " -36,\n",
       " -34,\n",
       " -32,\n",
       " -30,\n",
       " -28,\n",
       " -26,\n",
       " -24,\n",
       " -22,\n",
       " -20,\n",
       " -18,\n",
       " -16,\n",
       " -14,\n",
       " -12,\n",
       " -10,\n",
       " -8,\n",
       " -6,\n",
       " -4,\n",
       " -2]"
      ]
     },
     "execution_count": 28,
     "metadata": {},
     "output_type": "execute_result"
    }
   ],
   "source": [
    "sorted(set(range(-2, -101, -2)))"
   ]
  },
  {
   "cell_type": "code",
   "execution_count": 29,
   "id": "b0845458-1714-4af7-9c98-23021cfe8223",
   "metadata": {},
   "outputs": [
    {
     "name": "stdout",
     "output_type": "stream",
     "text": [
      "0\n",
      "1\n",
      "2\n"
     ]
    }
   ],
   "source": [
    "d = {0: 'Fish', 1: 'Bird', 2: 'Mammal'}\n",
    "for i in d:\n",
    "    print(i)"
   ]
  },
  {
   "cell_type": "markdown",
   "id": "6ab78757-0851-4080-a210-c04532a865f2",
   "metadata": {},
   "source": [
    "### List Comprehensions"
   ]
  },
  {
   "cell_type": "code",
   "execution_count": 31,
   "id": "f52ab0ed-7079-40d9-9236-cff013939f75",
   "metadata": {},
   "outputs": [
    {
     "name": "stdin",
     "output_type": "stream",
     "text": [
      " 4\n"
     ]
    },
    {
     "name": "stdout",
     "output_type": "stream",
     "text": [
      "[1, 4, 9, 16]\n"
     ]
    }
   ],
   "source": [
    "#You are given an integer 'n' as the input. \n",
    "#Create a list comprehension containing the squares of the \n",
    "#integers from 1 till n^2 (including 1 and n), and print the list. \n",
    "\n",
    "n = int(input())\n",
    "list_1 = [ i**2 for i in range(1,n+1) ]\n",
    "print(list_1)\n",
    "\n"
   ]
  },
  {
   "cell_type": "code",
   "execution_count": 32,
   "id": "45be52f9-039c-4466-b518-de674f727c01",
   "metadata": {},
   "outputs": [
    {
     "name": "stdout",
     "output_type": "stream",
     "text": [
      "['old', 'apple', 'item', 'euphoria']\n"
     ]
    }
   ],
   "source": [
    "list = ['wood','old','apple','big','item','euphoria']\n",
    "## extract vowels list from input list using comprehension\n",
    "vowels = ['a','e','i','o','u']  ## oter approach take vowels = 'aeiou'\n",
    "list_1 = [i for i in list if i[0].lower() in vowels ]\n",
    "print(list_1)"
   ]
  },
  {
   "cell_type": "code",
   "execution_count": 33,
   "id": "c7baf73f-ddd2-4ee7-9cc6-305cea8ce33b",
   "metadata": {},
   "outputs": [
    {
     "ename": "TypeError",
     "evalue": "'list' object is not callable",
     "output_type": "error",
     "traceback": [
      "\u001b[1;31m---------------------------------------------------------------------------\u001b[0m",
      "\u001b[1;31mTypeError\u001b[0m                                 Traceback (most recent call last)",
      "Cell \u001b[1;32mIn[33], line 1\u001b[0m\n\u001b[1;32m----> 1\u001b[0m input_list \u001b[38;5;241m=\u001b[39m \u001b[38;5;28mlist\u001b[39m(\u001b[38;5;28mrange\u001b[39m(\u001b[38;5;241m1\u001b[39m,\u001b[38;5;241m100\u001b[39m))\n\u001b[0;32m      2\u001b[0m output_dict \u001b[38;5;241m=\u001b[39m {}\n\u001b[0;32m      4\u001b[0m \u001b[38;5;28;01mfor\u001b[39;00m val \u001b[38;5;129;01min\u001b[39;00m input_list:\n",
      "\u001b[1;31mTypeError\u001b[0m: 'list' object is not callable"
     ]
    }
   ],
   "source": [
    "input_list = list(range(1,100))\n",
    "output_dict = {}\n",
    "\n",
    "for val in input_list:\n",
    "    if val % 3 == 0:\n",
    "        output_dict[val] = val**3\n",
    "\n",
    "## equielent comprehension code\n",
    "output_dict= {val : val**3 for val in input_list if val % 3 == 0}"
   ]
  },
  {
   "cell_type": "code",
   "execution_count": 34,
   "id": "abeaecee-b3e8-4e53-8d28-2cbb002eb589",
   "metadata": {},
   "outputs": [
    {
     "name": "stdout",
     "output_type": "stream",
     "text": [
      "['ad', 'ae', 'af', 'bd', 'be', 'bf', 'cd', 'ce', 'cf']\n"
     ]
    }
   ],
   "source": [
    "print([i+j for i in \"abc\" for j in \"def\"])"
   ]
  },
  {
   "cell_type": "code",
   "execution_count": 35,
   "id": "ac2a15e7-b532-4421-b570-c074e0685477",
   "metadata": {},
   "outputs": [
    {
     "name": "stdout",
     "output_type": "stream",
     "text": [
      "{'A': 'aaa', 'C': 'ccc', 'B': 'bbb', 'D': 'ddd'}\n"
     ]
    }
   ],
   "source": [
    "d = {x.upper(): x*3 for x in 'acbd'}\n",
    "print(d)"
   ]
  },
  {
   "cell_type": "code",
   "execution_count": 36,
   "id": "e6f518d1-ed57-4235-9f96-85e00a9c2d9d",
   "metadata": {},
   "outputs": [
    {
     "name": "stdout",
     "output_type": "stream",
     "text": [
      "81\n"
     ]
    }
   ],
   "source": [
    "##Create a function squared(), which takes x and y as arguments and returns the x**y value. For e.g., if x = 2 and y = 3 , then the output is 8.\n",
    "\n",
    "def squ(x,y):\n",
    "    return x**y\n",
    "\n",
    "print(squ(3,4))\n"
   ]
  },
  {
   "cell_type": "code",
   "execution_count": 45,
   "id": "656fea30-b508-4f28-a9a1-def013ff65ce",
   "metadata": {},
   "outputs": [
    {
     "data": {
      "text/plain": [
       "11"
      ]
     },
     "execution_count": 45,
     "metadata": {},
     "output_type": "execute_result"
    }
   ],
   "source": [
    "def func(x, y):\n",
    "     z = x * y + x + y\n",
    "     return z\n",
    "\n",
    "func(2,3)"
   ]
  },
  {
   "cell_type": "code",
   "execution_count": 46,
   "id": "87a40fa0-08a6-4b40-b0de-0d7fed3df38c",
   "metadata": {},
   "outputs": [
    {
     "data": {
      "text/plain": [
       "23"
      ]
     },
     "execution_count": 46,
     "metadata": {},
     "output_type": "execute_result"
    }
   ],
   "source": [
    "def func(x, y = 1):\n",
    "    z = x * y + x + y\n",
    "    return z\n",
    "\n",
    "func(2, func(3))"
   ]
  },
  {
   "cell_type": "code",
   "execution_count": 47,
   "id": "6555cfd7-cba3-46c2-86ff-075d4a161563",
   "metadata": {},
   "outputs": [
    {
     "ename": "TypeError",
     "evalue": "func() missing 1 required positional argument: 'y'",
     "output_type": "error",
     "traceback": [
      "\u001b[1;31m---------------------------------------------------------------------------\u001b[0m",
      "\u001b[1;31mTypeError\u001b[0m                                 Traceback (most recent call last)",
      "Cell \u001b[1;32mIn[47], line 5\u001b[0m\n\u001b[0;32m      2\u001b[0m     z \u001b[38;5;241m=\u001b[39m x \u001b[38;5;241m*\u001b[39m y \u001b[38;5;241m+\u001b[39m x \u001b[38;5;241m+\u001b[39m y\n\u001b[0;32m      3\u001b[0m     \u001b[38;5;28;01mreturn\u001b[39;00m z\n\u001b[1;32m----> 5\u001b[0m func(\u001b[38;5;241m2\u001b[39m, func(\u001b[38;5;241m3\u001b[39m))\n",
      "\u001b[1;31mTypeError\u001b[0m: func() missing 1 required positional argument: 'y'"
     ]
    }
   ],
   "source": [
    "def func(x, y):\n",
    "    z = x * y + x + y\n",
    "    return z\n",
    "\n",
    "func(2, func(3))"
   ]
  },
  {
   "cell_type": "code",
   "execution_count": 48,
   "id": "dc68e9a2-2d7a-405e-b72e-d1809a2a3c47",
   "metadata": {},
   "outputs": [
    {
     "data": {
      "text/plain": [
       "35"
      ]
     },
     "execution_count": 48,
     "metadata": {},
     "output_type": "execute_result"
    }
   ],
   "source": [
    "def func(x = 1 ,y = 2):\n",
    "    z = x * y + x + y\n",
    "    return z\n",
    "\n",
    "func(2, func(3))"
   ]
  },
  {
   "cell_type": "code",
   "execution_count": 49,
   "id": "33a23614-b09d-44af-b44d-ba073878ecbb",
   "metadata": {},
   "outputs": [
    {
     "data": {
      "text/plain": [
       "[-2, 33, 46, 78, 1]"
      ]
     },
     "execution_count": 49,
     "metadata": {},
     "output_type": "execute_result"
    }
   ],
   "source": [
    "##Functions can be used inside a list comprehension \n",
    "L1 = [2, 7, 8, 10, 3]\n",
    "\n",
    "def func(y):\n",
    "    return y**2- 2 * y - 2\n",
    "\n",
    "ans_list = [func(x) for  x in L1 ]\n",
    "ans_list"
   ]
  },
  {
   "cell_type": "code",
   "execution_count": 60,
   "id": "822f8fda-0d92-492a-b6c1-93ae2ac5c41c",
   "metadata": {},
   "outputs": [
    {
     "name": "stdout",
     "output_type": "stream",
     "text": [
      "5\n",
      "5\n"
     ]
    }
   ],
   "source": [
    "a=5\n",
    "b=2\n",
    "\n",
    "def greater1():\n",
    "    return lambda a,b: a if a>b else b\n",
    "greater = greater1()\n",
    "print(greater(a,b))\n",
    "\n",
    "## ptimized apprach \n",
    "greater = lambda a,b: a if a>b else b\n",
    "print(greater(a,b))"
   ]
  },
  {
   "cell_type": "code",
   "execution_count": 61,
   "id": "7a3a6e51-74e3-4d78-a66d-172311efd373",
   "metadata": {},
   "outputs": [
    {
     "data": {
      "text/plain": [
       "9996"
      ]
     },
     "execution_count": 61,
     "metadata": {},
     "output_type": "execute_result"
    }
   ],
   "source": [
    "min = (lambda x, y: x if x < y else y)\n",
    "min(101*99, 102*98)"
   ]
  },
  {
   "cell_type": "markdown",
   "id": "00379c03-a2d1-4478-b470-6c7f70c1e0e6",
   "metadata": {},
   "source": [
    "## <p><font color='red'>Boot camp 3rd week 14th April 6:00 pm</p>"
   ]
  },
  {
   "cell_type": "code",
   "execution_count": 7,
   "id": "c062f8b2-28cd-4eb6-b2e0-57107dbd6489",
   "metadata": {},
   "outputs": [
    {
     "name": "stdout",
     "output_type": "stream",
     "text": [
      "['strawberry', 'orange', 'orange', 'cherry', 'banana', 'green apple']\n"
     ]
    },
    {
     "data": {
      "text/plain": [
       "['orange', 'orange', 'banana']"
      ]
     },
     "execution_count": 7,
     "metadata": {},
     "output_type": "execute_result"
    }
   ],
   "source": [
    "fruits = ['apple','orange','orange','banana']\n",
    "berries = ['cherry','strawberry','blueberry']\n",
    "\n",
    "#combine two list\n",
    "list1 = fruits+berries\n",
    "# sort in reverse order\n",
    "list1.sort(reverse=True)\n",
    "\n",
    "\n",
    "# replace apple by 'green apple'\n",
    "list1[-1]='green apple'\n",
    "\n",
    "# remove blue berry\n",
    "list1.remove('blueberry')\n",
    "print(list1)\n",
    "# display number of fruits in list\n",
    "list2 = list(filter(lambda x : x in fruits,list1))\n",
    "list2\n"
   ]
  },
  {
   "cell_type": "code",
   "execution_count": 24,
   "id": "6cb776ac-6231-4daa-aa6e-203a7e553fcc",
   "metadata": {},
   "outputs": [
    {
     "data": {
      "text/plain": [
       "{'brand': 'ford', 'model': 'mustand', 'year': '1990', 'color': 'red'}"
      ]
     },
     "execution_count": 24,
     "metadata": {},
     "output_type": "execute_result"
    }
   ],
   "source": [
    "# create a dictionary with \n",
    "# keys -- > brand, model, year # values -- > ford, mustand, 1980\n",
    "# change year to 1990 # add new key:value pair as color --> red \n",
    "# remove model from dictionary\n",
    "dic = {'brand':'ford' , 'model':'mustand' ,'year':'1980'}\n",
    "dic['year'] = '1990'\n",
    "dic['color']='red'\n",
    "dic"
   ]
  },
  {
   "cell_type": "code",
   "execution_count": 45,
   "id": "8c25b158-c35b-406a-a8ff-08e8b5620833",
   "metadata": {},
   "outputs": [
    {
     "name": "stdout",
     "output_type": "stream",
     "text": [
      "2\n"
     ]
    }
   ],
   "source": [
    "#Using the function Map, count the number of words that start with ‘S’ in input_list.\n",
    "input_list = ['Santa Cruz','Santa fe','Mumbai','Delhi']\n",
    "list1 = list(filter(lambda x: x[0]=='S',input_list))\n",
    "##len(list1)\n",
    "\n",
    "##print(sum(map(lambda x: x[0] == 'S', input_list)))\n",
    "count = sum(list(map(lambda x: x[0] == 'S', input_list)))\n",
    "print(count)"
   ]
  },
  {
   "cell_type": "code",
   "execution_count": 46,
   "id": "cfacb1e2-de0e-4603-8f4d-c2504e5ada4e",
   "metadata": {},
   "outputs": [
    {
     "name": "stdout",
     "output_type": "stream",
     "text": [
      "['Ankur Narang', 'Avik Sarkar', 'Kiran R', 'Nitin Sareen']\n"
     ]
    }
   ],
   "source": [
    "input_1 = [ ['Ankur', 'Avik', 'Kiran', 'Nitin'], ['Narang', 'Sarkar', 'R', 'Sareen']]\n",
    "## out put expected to be ['Ankur Narang', 'Avik Sarkar', 'Kiran R', 'Nitin Sareen']\n",
    "list_out = list(map(lambda x,y : x+' '+y,input_1[0],input_1[1]))\n",
    "print(list_out)"
   ]
  },
  {
   "cell_type": "code",
   "execution_count": null,
   "id": "2bb40bc8-b278-4ae9-b37b-72078da1f54c",
   "metadata": {},
   "outputs": [],
   "source": []
  },
  {
   "cell_type": "code",
   "execution_count": null,
   "id": "dd0a8b92-1dbf-4679-9c00-17a2e42323d1",
   "metadata": {},
   "outputs": [],
   "source": []
  },
  {
   "cell_type": "code",
   "execution_count": null,
   "id": "f217860e-572a-4e6f-9f04-7537e26d94bc",
   "metadata": {},
   "outputs": [],
   "source": []
  },
  {
   "cell_type": "code",
   "execution_count": null,
   "id": "0ad65998-7b89-428e-bdbf-c34edcb6ad31",
   "metadata": {},
   "outputs": [],
   "source": []
  },
  {
   "cell_type": "code",
   "execution_count": 4,
   "id": "a0b9381d-45f1-4c26-8af7-6a006550f74b",
   "metadata": {},
   "outputs": [],
   "source": [
    "def test():\n",
    "    \"\"\" is it my function iam looking.. this cooment we can access from other file also with in function comment using doc string it will give us purpose of the function\"\"\"\n",
    "    return 'hello iam here'\n",
    "\n",
    "\n",
    "\n"
   ]
  },
  {
   "cell_type": "code",
   "execution_count": 5,
   "id": "e9f8b30e-a975-42c3-8fec-fd95675bd5b1",
   "metadata": {},
   "outputs": [
    {
     "ename": "AttributeError",
     "evalue": "'function' object has no attribute '_doc_'",
     "output_type": "error",
     "traceback": [
      "\u001b[1;31m---------------------------------------------------------------------------\u001b[0m",
      "\u001b[1;31mAttributeError\u001b[0m                            Traceback (most recent call last)",
      "Cell \u001b[1;32mIn[5], line 1\u001b[0m\n\u001b[1;32m----> 1\u001b[0m test\u001b[38;5;241m.\u001b[39m_doc_\n",
      "\u001b[1;31mAttributeError\u001b[0m: 'function' object has no attribute '_doc_'"
     ]
    }
   ],
   "source": [
    "test._doc_"
   ]
  },
  {
   "cell_type": "code",
   "execution_count": 2,
   "id": "4718bebe-74f9-43e1-bdc6-ca180ec3669f",
   "metadata": {},
   "outputs": [
    {
     "data": {
      "text/plain": [
       "[5, 10, 15, 20, 25, 30, 35, 40, 45, 50]"
      ]
     },
     "execution_count": 2,
     "metadata": {},
     "output_type": "execute_result"
    }
   ],
   "source": [
    "##Extract a list of numbers that are multiples of 5 from a list of integers named input_list.\n",
    "input_l = [1, 2, 3, 4, 5, 6, 7, 8, 9, 10, 11, 12, 13, 14, 15, 16, 17, 18, 19, 20, 21, 22, 23, 24, 25, 26, 27, 28, 29, 30, 31, 32, 33, 34, 35, 36, 37, 38, 39, 40, 41, 42, 43, 44, 45, 46, 47, 48, 49, 50]\n",
    "list(filter(lambda x : x%5==0,input_l))"
   ]
  },
  {
   "cell_type": "code",
   "execution_count": 6,
   "id": "c236d42b-7706-4ed4-9392-9fa54c24d6e3",
   "metadata": {},
   "outputs": [
    {
     "data": {
      "text/plain": [
       "['soap', 'sharp', 'ship', 'sheep']"
      ]
     },
     "execution_count": 6,
     "metadata": {},
     "output_type": "execute_result"
    }
   ],
   "source": [
    "input_list = ['soap','sharp','shy','silent','ship','summer','sheep']\n",
    "## extract list starts with s and ends with p\n",
    "list(filter(lambda x : x[0]=='s' and x[-1]=='p',input_list))"
   ]
  },
  {
   "cell_type": "code",
   "execution_count": 12,
   "id": "ce679f32-2609-4bba-8988-0f6501f35155",
   "metadata": {},
   "outputs": [
    {
     "data": {
      "text/plain": [
       "'All you have to fear is fear itself'"
      ]
     },
     "execution_count": 12,
     "metadata": {},
     "output_type": "execute_result"
    }
   ],
   "source": [
    "## reduce function use\n",
    "from functools import reduce\n",
    "\n",
    "list1 = ['All','you','have','to','fear','is','fear','itself']\n",
    "reduce(lambda x,y:x+' '+y,list1)"
   ]
  },
  {
   "cell_type": "code",
   "execution_count": 13,
   "id": "4667b1d2-309f-4403-9cce-10fce7d11873",
   "metadata": {},
   "outputs": [
    {
     "data": {
      "text/plain": [
       "99"
      ]
     },
     "execution_count": 13,
     "metadata": {},
     "output_type": "execute_result"
    }
   ],
   "source": [
    "## find max from list using reduce\n",
    "from functools import reduce\n",
    "list1 = [65,76,87,23,12,90,99]\n",
    "reduce(lambda x,y:x if x>y else y,list1)\n"
   ]
  },
  {
   "cell_type": "code",
   "execution_count": 1,
   "id": "5308ce8e-28f1-4cfe-b290-e848e5b458af",
   "metadata": {},
   "outputs": [
    {
     "name": "stdout",
     "output_type": "stream",
     "text": [
      "[('I', 1), ('LOVE', 4), ('PYTHON', 6)]\n"
     ]
    }
   ],
   "source": [
    "input_string = \"I love Python\"\n",
    "k = [(i.upper(), len(i)) for i in input_string.split(' ')]\n",
    "print(k)"
   ]
  },
  {
   "cell_type": "code",
   "execution_count": 2,
   "id": "915ea820-cef9-4d69-8426-7a06b1eb5b02",
   "metadata": {},
   "outputs": [
    {
     "name": "stdout",
     "output_type": "stream",
     "text": [
      "[0, 1, 4, 9, 16]\n"
     ]
    }
   ],
   "source": [
    "var = [i**2 for i in range(5)]\n",
    "print(var)"
   ]
  },
  {
   "cell_type": "code",
   "execution_count": 3,
   "id": "bd04a3df-fced-48e5-bb47-dc7c5adbd1e0",
   "metadata": {},
   "outputs": [
    {
     "data": {
      "text/plain": [
       "[5, 6, 7, 10, 6, 7, 8, 11, 7, 8, 9, 12, 11, 12, 13, 16]"
      ]
     },
     "execution_count": 3,
     "metadata": {},
     "output_type": "execute_result"
    }
   ],
   "source": [
    "l1=[1,2,3,7]\n",
    "l2=[4,5,6,9]\n",
    "[x+y for x in l1 for y in l2]"
   ]
  },
  {
   "cell_type": "code",
   "execution_count": 4,
   "id": "56e45ed6-bbde-43bc-9d36-8ea678f3fc40",
   "metadata": {},
   "outputs": [
    {
     "name": "stdout",
     "output_type": "stream",
     "text": [
      "None\n"
     ]
    }
   ],
   "source": [
    "def function(n):\n",
    "  n=n+1\n",
    " \n",
    "n=2\n",
    "print(function(2))"
   ]
  },
  {
   "cell_type": "code",
   "execution_count": 5,
   "id": "b61434d2-3bbf-4dff-8636-c696a22e6fb0",
   "metadata": {},
   "outputs": [
    {
     "name": "stdout",
     "output_type": "stream",
     "text": [
      "10\n",
      "10\n"
     ]
    }
   ],
   "source": [
    "x=10\n",
    "def func(x):\n",
    "   x=20\n",
    "print(x)\n",
    " \n",
    "print(x)"
   ]
  },
  {
   "cell_type": "code",
   "execution_count": 6,
   "id": "f5a0e4e3-3cc8-402c-9806-7bf746d94201",
   "metadata": {},
   "outputs": [
    {
     "name": "stdout",
     "output_type": "stream",
     "text": [
      "pythonpythonpythonpython\n",
      "programprogramprogram\n"
     ]
    }
   ],
   "source": [
    "def samplefunc(msg,i=3):\n",
    "  print(msg*i)\n",
    " \n",
    "samplefunc('python',4)\n",
    "samplefunc('program')"
   ]
  },
  {
   "cell_type": "code",
   "execution_count": 7,
   "id": "a8d5fb49-f89e-4bf2-a2d4-967e5f84b6c0",
   "metadata": {},
   "outputs": [
    {
     "name": "stdout",
     "output_type": "stream",
     "text": [
      "0\n"
     ]
    }
   ],
   "source": [
    "f=lambda x:bool(x%2)\n",
    "print(f(100)* f(101))"
   ]
  },
  {
   "cell_type": "code",
   "execution_count": 8,
   "id": "48859f4e-e582-49e6-8eee-c635cb65dfcd",
   "metadata": {},
   "outputs": [
    {
     "name": "stdout",
     "output_type": "stream",
     "text": [
      "[0, -1, -2, 2, 2]\n"
     ]
    }
   ],
   "source": [
    "l=(1, -2, -3, 4, 5)\n",
    "def f1(x):\n",
    "    return x//2\n",
    "m1=map(f1, l)\n",
    "print(list(m1))"
   ]
  },
  {
   "cell_type": "code",
   "execution_count": 9,
   "id": "cea28b9d-1d5b-4484-82e0-3fcf9abd4d6a",
   "metadata": {},
   "outputs": [
    {
     "name": "stdout",
     "output_type": "stream",
     "text": [
      "0\n"
     ]
    }
   ],
   "source": [
    "from functools import reduce\n",
    "numbers = [-1, 2, -5, 3, 8,-2, 1,-4,-2]\n",
    "sum = reduce(lambda x, y: x + y, numbers)\n",
    "print(sum)"
   ]
  },
  {
   "cell_type": "code",
   "execution_count": 10,
   "id": "c1d5e37d-2709-4f9c-a300-59e86faef7bb",
   "metadata": {},
   "outputs": [
    {
     "name": "stdout",
     "output_type": "stream",
     "text": [
      "<map object at 0x0000019703EBF7C0>\n"
     ]
    }
   ],
   "source": [
    "sample=[-4,2,5,-3]\n",
    "ans=map(lambda x: x*2, sample)\n",
    "print(ans)"
   ]
  },
  {
   "cell_type": "code",
   "execution_count": 11,
   "id": "7a6de11d-d2fc-4e2a-99c2-991ad7f25758",
   "metadata": {},
   "outputs": [
    {
     "ename": "TypeError",
     "evalue": "'int' object is not iterable",
     "output_type": "error",
     "traceback": [
      "\u001b[1;31m---------------------------------------------------------------------------\u001b[0m",
      "\u001b[1;31mTypeError\u001b[0m                                 Traceback (most recent call last)",
      "Cell \u001b[1;32mIn[11], line 2\u001b[0m\n\u001b[0;32m      1\u001b[0m \u001b[38;5;28;01mfrom\u001b[39;00m \u001b[38;5;21;01mfunctools\u001b[39;00m \u001b[38;5;28;01mimport\u001b[39;00m reduce\n\u001b[1;32m----> 2\u001b[0m \u001b[38;5;28mprint\u001b[39m(\u001b[38;5;28mlist\u001b[39m(reduce(\u001b[38;5;28;01mlambda\u001b[39;00m x,y:x\u001b[38;5;241m+\u001b[39my,\u001b[38;5;28mrange\u001b[39m(\u001b[38;5;241m5\u001b[39m,\u001b[38;5;241m15\u001b[39m))))\n",
      "\u001b[1;31mTypeError\u001b[0m: 'int' object is not iterable"
     ]
    }
   ],
   "source": [
    "from functools import reduce\n",
    "print(list(reduce(lambda x,y:x+y,range(5,15))))"
   ]
  },
  {
   "cell_type": "code",
   "execution_count": 12,
   "id": "777badb8-9a90-495a-981c-f345f3519992",
   "metadata": {},
   "outputs": [
    {
     "name": "stdout",
     "output_type": "stream",
     "text": [
      "1\n"
     ]
    }
   ],
   "source": [
    "import functools\n",
    "lis=[1, 2, 3, 4, 5]\n",
    "m=functools.reduce(lambda x, y:x if x<y else y, lis)\n",
    "print(m)"
   ]
  },
  {
   "cell_type": "code",
   "execution_count": 13,
   "id": "5e2cc4a8-a971-4908-bf00-a3702e1aa820",
   "metadata": {},
   "outputs": [
    {
     "name": "stdout",
     "output_type": "stream",
     "text": [
      "1\n"
     ]
    }
   ],
   "source": [
    "lis=[1, 2, 3, 4, 5]\n",
    "c=lis[0]\n",
    "for i in range(len(lis)-1):\n",
    "    if lis[i]<c:\n",
    "       c=lis[i]\n",
    "print(c)"
   ]
  },
  {
   "cell_type": "code",
   "execution_count": 14,
   "id": "f9babcae-4278-4840-bc5b-a84d23db00f3",
   "metadata": {},
   "outputs": [
    {
     "name": "stdout",
     "output_type": "stream",
     "text": [
      "['dx', 'ix', 'ax', 'sx']\n"
     ]
    }
   ],
   "source": [
    "letters = ('d','i','a','s')\n",
    "ans = list(map(lambda word: f\"{word}x\", letters))\n",
    "print(ans)"
   ]
  },
  {
   "cell_type": "code",
   "execution_count": 15,
   "id": "9487e4d0-1c67-4d95-97b6-86b062d3fca2",
   "metadata": {},
   "outputs": [
    {
     "name": "stdout",
     "output_type": "stream",
     "text": [
      "[12, 20, 28]\n"
     ]
    }
   ],
   "source": [
    "def sf(a):\n",
    "    return a%4==0 and a%8!=0\n",
    "m=filter(sf, range(10, 31))\n",
    "print(list(m))"
   ]
  },
  {
   "cell_type": "code",
   "execution_count": 17,
   "id": "a9add866-4c29-434a-b1a7-18ec78a3e885",
   "metadata": {},
   "outputs": [
    {
     "data": {
      "text/plain": [
       "[500, 2112, 5894, 9062, 600]"
      ]
     },
     "execution_count": 17,
     "metadata": {},
     "output_type": "execute_result"
    }
   ],
   "source": [
    "#input = [5, 7, 22, 97, 54, 62, 77, 23, 73, 61] \n",
    "input = [500, 789, 2112, 9097, 5894, 9062, 8977, 1223, 773, 600]\n",
    "list(filter(lambda x : x%2==0,input))"
   ]
  },
  {
   "cell_type": "code",
   "execution_count": 18,
   "id": "ae28467a-d735-4bac-8a6e-5ea0d49ed66c",
   "metadata": {},
   "outputs": [
    {
     "data": {
      "text/plain": [
       "[15, 21, 66, 291, 162, 186, 231, 69, 219, 183]"
      ]
     },
     "execution_count": 18,
     "metadata": {},
     "output_type": "execute_result"
    }
   ],
   "source": [
    "# triple the list of integers\n",
    "\n",
    "input_list = [5, 7, 22, 97, 54, 62, 77, 23, 73, 61]\n",
    "list(map(lambda x : x*3,input_list))"
   ]
  },
  {
   "cell_type": "code",
   "execution_count": 34,
   "id": "0cf3efa1-e3b5-4970-8d76-b4889aef1c8c",
   "metadata": {},
   "outputs": [
    {
     "data": {
      "text/plain": [
       "['ODLANOR', 'ONAITSIRC', 'HSEKAR', 'KANOR']"
      ]
     },
     "execution_count": 34,
     "metadata": {},
     "output_type": "execute_result"
    }
   ],
   "source": [
    "## revese the name of the items and make upper case list\n",
    "input = ['Ronaldo', 'Cristiano', 'Rakesh', 'Ronak']\n",
    "\n",
    "#def reverse_letter(n):\n",
    "    #print(n[::-1].upper())\n",
    "#reverse_letter('Ronaldo')\n",
    "##list(map(lambda x : \n",
    "list(map(lambda x : x[::-1].upper(),input))"
   ]
  },
  {
   "cell_type": "markdown",
   "id": "f140f6cb-3464-4046-8089-a173f4fb4531",
   "metadata": {},
   "source": [
    "## <h color='red'>Question</h> : \n",
    "Given is a list consisting of dictionary elements. Each dictionary contains the name of a student as a first item \n",
    "and his/her corresponding rank as the second item. Your task is to write a Python program to print the list (dictionary elements) \n",
    "in a sorted ascending order according to student ranks. In case the rank of two or more students are the same,\n",
    "then sort them in ascending order (alphabetically) according to their names\n",
    "\n",
    "Sample input: [{ \"name\" : \"Arpit\", \"rank\" : 20}, { \"name\" : \"Manjeet\", \"rank\" : 20 },{ \"name\" : \"Aravind\" , \"rank\" : 19 }]\r\n",
    "\r\n",
    "Sample output: [{ \"name\" : \"Aravind\" , \"rank\" : 19 }, { \"name\" : \"Arpit\", \"rank\" : 20}, { \"name\" : \"Manjeet\", \"rank\" : 20 },\r\n",
    "\r\n",
    "]"
   ]
  },
  {
   "cell_type": "code",
   "execution_count": 93,
   "id": "444f3ec1-f549-43d3-9a22-d68993ae7a24",
   "metadata": {},
   "outputs": [
    {
     "name": "stdout",
     "output_type": "stream",
     "text": [
      "20\n",
      "<function <lambda> at 0x0000019704CE5DA0>\n",
      "[{'name': 'Aravind', 'rank': 19}, {'name': 'Aanjeet', 'rank': 20}, {'name': 'Arpit', 'rank': 20}]\n"
     ]
    }
   ],
   "source": [
    "input_list = [{ \"name\" : \"Arpit\", \"rank\" : 20}, { \"name\" : \"Aanjeet\", \"rank\" : 20 },{ \"name\" : \"Aravind\" , \"rank\" : 19 }]\n",
    "\n",
    "def sort_by_rank(x,y):\n",
    "    if x[1]==y[1]:\n",
    "        return sorted(x[0])\n",
    "    else:\n",
    "        return sorted(x[1])\n",
    "dic = input_list[0]\n",
    "print(dic['rank'])\n",
    "x = dic.values()\n",
    "val = lambda x: (x['rank'],x['name'])\n",
    "print(val)\n",
    "\n",
    "sorted_list = sorted(input_list, key=lambda x: (x['rank'],x['name']))\n",
    "print(sorted_list)"
   ]
  },
  {
   "cell_type": "code",
   "execution_count": 127,
   "id": "a94ec0c5-a5c6-49d3-912b-27d3046b41cb",
   "metadata": {},
   "outputs": [
    {
     "name": "stdout",
     "output_type": "stream",
     "text": [
      "['siddharth', 'gaurav', 'prasad', 'kuldeep', 'karna']\n",
      "['siddharth', 'gaurav', 'prasad', 'kuldeep', 'karna']\n"
     ]
    }
   ],
   "source": [
    "input1 = ['Siddharth', 'Gaurav', 'Prasad', 'Kuldeep', 'karna']\n",
    "input2 = ['siddharth', 'Gaurav', 'Prasad', 'Kuldeep', 'karna']\n",
    "input3 = ['Siddharth', 'gaurav', 'PRASAD', 'KuLDEEp', 'KARNA']\n",
    "\n",
    "l_input1 = [elem.lower() for elem in input1]\n",
    "l_input2 = [elem.lower() for elem in input2]\n",
    "l_input3 = [elem.lower() for elem in input3]\n",
    "print(l_input2)\n",
    "\n",
    "#final_list = input1+input2+input3\n",
    "#print(final_list)\n",
    "##lowercase_list = [elem.lower() for elem in final_list]\n",
    "##final_list1 = list(set(filter(lambda x  :  x if lowercase_list.count(x)==3  else '' ,lowercase_list)))\n",
    "#print(final_list1)\n",
    "final_list2 = list(filter(lambda x : x in l_input1 and x in l_input2 and x in l_input3,l_input1))\n",
    "print(final_list2)\n",
    "##print(list(filter(lambda x  :  x if final_list1.count(x)==1  else '',final_list1)))"
   ]
  },
  {
   "cell_type": "code",
   "execution_count": 128,
   "id": "46ca8dd5-e069-42a2-9850-1629dfb4049d",
   "metadata": {},
   "outputs": [
    {
     "ename": "TypeError",
     "evalue": "'list' object is not callable",
     "output_type": "error",
     "traceback": [
      "\u001b[1;31m---------------------------------------------------------------------------\u001b[0m",
      "\u001b[1;31mTypeError\u001b[0m                                 Traceback (most recent call last)",
      "Cell \u001b[1;32mIn[128], line 6\u001b[0m\n\u001b[0;32m      3\u001b[0m \u001b[38;5;28;01mimport\u001b[39;00m \u001b[38;5;21;01mast\u001b[39;00m\n\u001b[0;32m      5\u001b[0m \u001b[38;5;66;03m#read the input here.\u001b[39;00m\n\u001b[1;32m----> 6\u001b[0m input_lst \u001b[38;5;241m=\u001b[39m \u001b[38;5;28minput\u001b[39m()\n\u001b[0;32m      7\u001b[0m round_1 \u001b[38;5;241m=\u001b[39m ast\u001b[38;5;241m.\u001b[39mliteral_eval(input_lst )\n\u001b[0;32m      9\u001b[0m \u001b[38;5;66;03m#read the input here.\u001b[39;00m\n",
      "\u001b[1;31mTypeError\u001b[0m: 'list' object is not callable"
     ]
    }
   ],
   "source": [
    "## other approach for above problem\n",
    "\n",
    "import ast\n",
    "\n",
    "#read the input here.\n",
    "input_lst = input()\n",
    "round_1 = ast.literal_eval(input_lst )\n",
    "\n",
    "#read the input here.\n",
    "input_lst = input()\n",
    "round_2= ast.literal_eval(input_lst )\n",
    "\n",
    "#read the input here.\n",
    "input_lst = input()\n",
    "round_3= ast.literal_eval(input_lst )\n",
    "\n",
    "\n",
    "\n",
    "def interSection(list1,list2): \n",
    "\n",
    "    #convert all the names to lowercase so that casing does not become a problem.\n",
    "\n",
    "    list1 = list(map(lambda name: name.lower(), list1))\n",
    "    list2 = list(map(lambda name: name.lower(), list2))\n",
    "\n",
    "    #use the filter function as the final list  is a subset.\n",
    "    #check for values that are present in both list1 and list2.\n",
    "\n",
    "    result = list(filter(lambda x: x in list1, list2))\n",
    "    return result\n",
    "\n",
    "\n",
    "intersection_round1_round2 = interSection(round_1,round_2)\n",
    "\n",
    "final_result = interSection(intersection_round1_round2,round_3)\n",
    "\n",
    "print(final_result)\n"
   ]
  },
  {
   "cell_type": "code",
   "execution_count": 147,
   "id": "c3d6e082-fb68-4c28-ad36-8e22de3a0333",
   "metadata": {},
   "outputs": [
    {
     "name": "stdout",
     "output_type": "stream",
     "text": [
      "[{4: 'Viking', 9: 'Happy', 10: 'Tony', 2: 'Rogers'}, {1: 'Ronaldo', 29: 'Harish', 7: 'Ganesh'}, {12: 'Vikram', 19: 'Vipan'}, {3: 'Kohli'}]\n"
     ]
    }
   ],
   "source": [
    " input_list = [{4: 'Viking', 9: 'Happy', 10: 'Tony', 2: 'Rogers'}, {12: 'Vikram', 19: 'Vipan'}, {3: 'Kohli'}, {1: 'Ronaldo', 29: 'Harish', 7: 'Ganesh'}]\n",
    "\n",
    "#list(filter(lambda x : x if len(x),input_list))\n",
    "\n",
    "sorted_list = sorted(input_list, key=lambda x: len(x),reverse=True)\n",
    "print(sorted_list)"
   ]
  },
  {
   "cell_type": "code",
   "execution_count": null,
   "id": "2bbc5cdb-eed3-45c0-b8f4-9fed64e2de2f",
   "metadata": {},
   "outputs": [],
   "source": []
  },
  {
   "cell_type": "code",
   "execution_count": null,
   "id": "8e818d39-1199-4824-9993-9a7749ab3e7a",
   "metadata": {},
   "outputs": [],
   "source": []
  },
  {
   "cell_type": "code",
   "execution_count": null,
   "id": "b34a4aa9-aea3-47c2-bc03-2239e6af9bdc",
   "metadata": {},
   "outputs": [],
   "source": []
  }
 ],
 "metadata": {
  "kernelspec": {
   "display_name": "Python 3 (ipykernel)",
   "language": "python",
   "name": "python3"
  },
  "language_info": {
   "codemirror_mode": {
    "name": "ipython",
    "version": 3
   },
   "file_extension": ".py",
   "mimetype": "text/x-python",
   "name": "python",
   "nbconvert_exporter": "python",
   "pygments_lexer": "ipython3",
   "version": "3.11.7"
  }
 },
 "nbformat": 4,
 "nbformat_minor": 5
}
