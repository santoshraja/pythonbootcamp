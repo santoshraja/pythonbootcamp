{
 "cells": [
  {
   "cell_type": "markdown",
   "id": "5bfdffd0",
   "metadata": {},
   "source": [
    "# Python"
   ]
  },
  {
   "cell_type": "code",
   "execution_count": 2,
   "id": "1a1180a4",
   "metadata": {},
   "outputs": [
    {
     "name": "stdout",
     "output_type": "stream",
     "text": [
      "hi i am print function, use me to display Message\n"
     ]
    }
   ],
   "source": [
    "print(\"hi i am print function, use me to display Message\")"
   ]
  },
  {
   "cell_type": "code",
   "execution_count": 3,
   "id": "25188e1b",
   "metadata": {},
   "outputs": [
    {
     "name": "stdout",
     "output_type": "stream",
     "text": [
      "lets do it again\n"
     ]
    }
   ],
   "source": [
    "print(\"lets do it again\")"
   ]
  },
  {
   "cell_type": "code",
   "execution_count": 4,
   "id": "cdf3bf1e",
   "metadata": {},
   "outputs": [
    {
     "name": "stdout",
     "output_type": "stream",
     "text": [
      "did u observe ?\n"
     ]
    }
   ],
   "source": [
    "print(\"did u observe ?\")"
   ]
  },
  {
   "cell_type": "code",
   "execution_count": 5,
   "id": "afb43160",
   "metadata": {},
   "outputs": [
    {
     "name": "stdout",
     "output_type": "stream",
     "text": [
      "you can also use shift+enter as shortkey to run\n"
     ]
    }
   ],
   "source": [
    "print(\"you can also use shift+enter as shortkey to run\")"
   ]
  },
  {
   "cell_type": "code",
   "execution_count": 6,
   "id": "1a35d9f7",
   "metadata": {},
   "outputs": [
    {
     "name": "stdout",
     "output_type": "stream",
     "text": [
      "shift+enter\n"
     ]
    }
   ],
   "source": [
    "print(\"shift+enter\")"
   ]
  },
  {
   "cell_type": "markdown",
   "id": "28623e6d",
   "metadata": {},
   "source": [
    "# Let us Talk about Grammer i.e Syntax\n",
    "----"
   ]
  },
  {
   "cell_type": "code",
   "execution_count": null,
   "id": "ea223322",
   "metadata": {},
   "outputs": [],
   "source": [
    "print('hi')   ✅ \n",
    "\n",
    "Print('hi')   ❌\n",
    "\n",
    "prent('hi')   ❌\n",
    "\n",
    "print{'hi'}   ❌\n",
    "\n",
    "print('hi)    ❌"
   ]
  },
  {
   "cell_type": "code",
   "execution_count": null,
   "id": "84d5a385",
   "metadata": {},
   "outputs": [],
   "source": []
  },
  {
   "cell_type": "code",
   "execution_count": 7,
   "id": "3bea1daa",
   "metadata": {},
   "outputs": [
    {
     "name": "stdout",
     "output_type": "stream",
     "text": [
      "it is ok to use single quotes\n"
     ]
    }
   ],
   "source": [
    "print('it is ok to use single quotes')"
   ]
  },
  {
   "cell_type": "code",
   "execution_count": 8,
   "id": "44a92043",
   "metadata": {},
   "outputs": [
    {
     "name": "stdout",
     "output_type": "stream",
     "text": [
      "it is ok to use double quotes\n"
     ]
    }
   ],
   "source": [
    "print(\"it is ok to use double quotes\")"
   ]
  },
  {
   "cell_type": "code",
   "execution_count": 9,
   "id": "e2ab9f3b",
   "metadata": {},
   "outputs": [
    {
     "name": "stdout",
     "output_type": "stream",
     "text": [
      " one\n",
      "two\n",
      "three\n",
      "four\n",
      "five\n"
     ]
    }
   ],
   "source": [
    "print(\"\"\" one\n",
    "two\n",
    "three\n",
    "four\n",
    "five\"\"\")"
   ]
  },
  {
   "cell_type": "code",
   "execution_count": null,
   "id": "07fc6c74",
   "metadata": {},
   "outputs": [],
   "source": []
  },
  {
   "cell_type": "code",
   "execution_count": 11,
   "id": "31034aea",
   "metadata": {},
   "outputs": [
    {
     "name": "stdout",
     "output_type": "stream",
     "text": [
      " force = mass * acc \n"
     ]
    }
   ],
   "source": [
    "# hey do you know how to find force ?\n",
    "\n",
    "print(' force = mass * acc ')"
   ]
  },
  {
   "cell_type": "code",
   "execution_count": null,
   "id": "a0266abe",
   "metadata": {},
   "outputs": [],
   "source": []
  },
  {
   "cell_type": "code",
   "execution_count": 12,
   "id": "30ac96df",
   "metadata": {},
   "outputs": [
    {
     "name": "stdout",
     "output_type": "stream",
     "text": [
      "i am the earth\n"
     ]
    }
   ],
   "source": [
    "# this is my favorite rhyme\n",
    "\n",
    "print('i am the earth')"
   ]
  },
  {
   "cell_type": "markdown",
   "id": "bae39144",
   "metadata": {},
   "source": []
  },
  {
   "cell_type": "code",
   "execution_count": null,
   "id": "83759520",
   "metadata": {},
   "outputs": [],
   "source": []
  },
  {
   "cell_type": "code",
   "execution_count": null,
   "id": "674caf9b",
   "metadata": {},
   "outputs": [],
   "source": []
  },
  {
   "cell_type": "markdown",
   "id": "2d92877f",
   "metadata": {},
   "source": [
    "# Types of Data in Python   |    DataTypes\n",
    "---"
   ]
  },
  {
   "cell_type": "markdown",
   "id": "c0f1acc3",
   "metadata": {},
   "source": [
    "String\n",
    "---\n",
    "<pre>\n",
    "String represents Text Data , it may be a combination of \n",
    "characters , numbers and Symbols.\n",
    "\n",
    "eg.\n",
    "\"upgrad@123\"\n",
    "\"12/2 lincoln road\"\n"
   ]
  },
  {
   "cell_type": "markdown",
   "id": "1b30c643",
   "metadata": {},
   "source": [
    "Int\n",
    "---\n",
    "<pre>\n",
    "Integer represents Whole Numbers.\n",
    "\n",
    "eg.\n",
    "1 , 90 , 0"
   ]
  },
  {
   "cell_type": "markdown",
   "id": "b3d75264",
   "metadata": {},
   "source": [
    "Float\n",
    "---\n",
    "<pre>\n",
    "Float Represents Decimal Values.\n",
    "eg.\n",
    "1.2  , 0.004  , 5.322233"
   ]
  },
  {
   "cell_type": "markdown",
   "id": "b0d263f0",
   "metadata": {},
   "source": [
    "Bool\n",
    "---\n",
    "<pre>\n",
    "bool represents Logical Values.\n",
    "eg.\n",
    "\n",
    "True , False"
   ]
  },
  {
   "cell_type": "code",
   "execution_count": null,
   "id": "292db945",
   "metadata": {},
   "outputs": [],
   "source": []
  },
  {
   "cell_type": "markdown",
   "id": "8fe646cf",
   "metadata": {},
   "source": [
    "Variables in Python\n",
    "---\n",
    "."
   ]
  },
  {
   "cell_type": "code",
   "execution_count": 16,
   "id": "733a470b",
   "metadata": {},
   "outputs": [],
   "source": [
    "name = 'andika'\n",
    "age  = 29\n",
    "height = 5.11\n",
    "isIndian = False"
   ]
  },
  {
   "cell_type": "markdown",
   "id": "97aad41e",
   "metadata": {},
   "source": [
    "Rules for Naming variable\n",
    "<pre>\n",
    "        1. Variable name should not start with number or Symbol.\n",
    "                eg. $name ❌ \n",
    "                    5name ❌\n",
    "                    \n",
    "        2. Variable name cannot have Spaces in their title.\n",
    "                eg. my name ❌\n",
    "                \n",
    "                you can add _underscore to create gap \n",
    "                \n",
    "                    my_name='andika' ✅ \n",
    "                    \n",
    "        3. never use builtin keywords/functions name as variable\n",
    "        \n",
    "                    eg. print='andika' ❌"
   ]
  },
  {
   "cell_type": "code",
   "execution_count": null,
   "id": "0e280d0e",
   "metadata": {},
   "outputs": [],
   "source": []
  },
  {
   "cell_type": "code",
   "execution_count": 17,
   "id": "e8600ce9",
   "metadata": {},
   "outputs": [],
   "source": [
    "name = 'andika'\n",
    "age  = 29\n",
    "height = 5.11\n",
    "isIndian = False"
   ]
  },
  {
   "cell_type": "code",
   "execution_count": 18,
   "id": "85f90214",
   "metadata": {},
   "outputs": [
    {
     "name": "stdout",
     "output_type": "stream",
     "text": [
      "andika 29 5.11 False\n"
     ]
    }
   ],
   "source": [
    "print(name,age,height,isIndian)"
   ]
  },
  {
   "cell_type": "code",
   "execution_count": null,
   "id": "ab5aae91",
   "metadata": {},
   "outputs": [],
   "source": []
  },
  {
   "cell_type": "markdown",
   "id": "ee6da94f",
   "metadata": {},
   "source": [
    "Let us learn how to combine custom string and variable together "
   ]
  },
  {
   "cell_type": "code",
   "execution_count": 19,
   "id": "4771b4cd",
   "metadata": {},
   "outputs": [
    {
     "name": "stdout",
     "output_type": "stream",
     "text": [
      "how are you ?  andika\n"
     ]
    }
   ],
   "source": [
    "print( 'how are you ? ' , name )"
   ]
  },
  {
   "cell_type": "code",
   "execution_count": null,
   "id": "4a27d5fd",
   "metadata": {},
   "outputs": [],
   "source": []
  },
  {
   "cell_type": "code",
   "execution_count": null,
   "id": "0625d47d",
   "metadata": {},
   "outputs": [],
   "source": [
    "print( 'msg' , variable )"
   ]
  },
  {
   "cell_type": "code",
   "execution_count": null,
   "id": "fbbf5e10",
   "metadata": {},
   "outputs": [],
   "source": []
  },
  {
   "cell_type": "code",
   "execution_count": 20,
   "id": "f4891692",
   "metadata": {},
   "outputs": [
    {
     "name": "stdout",
     "output_type": "stream",
     "text": [
      "how are you  andika  you are  29  years old\n"
     ]
    }
   ],
   "source": [
    "# this is not suggested\n",
    "\n",
    "print('how are you ', name , ' you are ', age , ' years old')"
   ]
  },
  {
   "cell_type": "code",
   "execution_count": null,
   "id": "a56e1d4b",
   "metadata": {},
   "outputs": [],
   "source": []
  },
  {
   "cell_type": "code",
   "execution_count": 21,
   "id": "cd6644f3",
   "metadata": {},
   "outputs": [
    {
     "name": "stdout",
     "output_type": "stream",
     "text": [
      "how are you andika you are 29 years old \n"
     ]
    }
   ],
   "source": [
    "# this is suggested\n",
    "\n",
    "print( f'how are you {name} you are {age} years old ')"
   ]
  },
  {
   "cell_type": "code",
   "execution_count": null,
   "id": "bfbe7035",
   "metadata": {},
   "outputs": [],
   "source": []
  },
  {
   "cell_type": "markdown",
   "id": "a66fa68d",
   "metadata": {},
   "source": [
    "# String formatting"
   ]
  },
  {
   "cell_type": "markdown",
   "id": "91901ce8",
   "metadata": {},
   "source": [
    "### F String"
   ]
  },
  {
   "cell_type": "code",
   "execution_count": null,
   "id": "d99dd9cf",
   "metadata": {},
   "outputs": [],
   "source": [
    "# how to use f string \n",
    "        # rule 1 : the sentance must be prefixed with letter 'f'\n",
    "        # rule 2 : the variables must be enclosed in  {}"
   ]
  },
  {
   "cell_type": "code",
   "execution_count": null,
   "id": "309897ea",
   "metadata": {},
   "outputs": [],
   "source": []
  },
  {
   "cell_type": "code",
   "execution_count": 25,
   "id": "f81324cb",
   "metadata": {},
   "outputs": [],
   "source": [
    "planet='earth'\n",
    "diameter=12734"
   ]
  },
  {
   "cell_type": "code",
   "execution_count": 26,
   "id": "03aba2df",
   "metadata": {},
   "outputs": [],
   "source": [
    "# use f string to print the below message\n",
    "# 'the diameter of earth is 12734'"
   ]
  },
  {
   "cell_type": "code",
   "execution_count": 28,
   "id": "84f5bb67",
   "metadata": {},
   "outputs": [
    {
     "name": "stdout",
     "output_type": "stream",
     "text": [
      "the diameter of earth is 12734\n"
     ]
    }
   ],
   "source": [
    "print(f'the diameter of {planet} is {diameter}')"
   ]
  },
  {
   "cell_type": "code",
   "execution_count": null,
   "id": "ebe31feb",
   "metadata": {},
   "outputs": [],
   "source": []
  },
  {
   "cell_type": "markdown",
   "id": "320753ca",
   "metadata": {},
   "source": [
    "# What is concatenation ?\n"
   ]
  },
  {
   "cell_type": "code",
   "execution_count": 29,
   "id": "bd152a7b",
   "metadata": {},
   "outputs": [
    {
     "name": "stdout",
     "output_type": "stream",
     "text": [
      "ironman\n"
     ]
    }
   ],
   "source": [
    "print('iron'   + 'man' )"
   ]
  },
  {
   "cell_type": "code",
   "execution_count": null,
   "id": "c886ea86",
   "metadata": {},
   "outputs": [],
   "source": []
  },
  {
   "cell_type": "markdown",
   "id": "0eb06df4",
   "metadata": {},
   "source": [
    "# Basic Input/Output\n",
    "---"
   ]
  },
  {
   "cell_type": "code",
   "execution_count": 33,
   "id": "70d5ef1e",
   "metadata": {},
   "outputs": [
    {
     "name": "stdout",
     "output_type": "stream",
     "text": [
      "enter your name loki\n"
     ]
    },
    {
     "data": {
      "text/plain": [
       "'loki'"
      ]
     },
     "execution_count": 33,
     "metadata": {},
     "output_type": "execute_result"
    }
   ],
   "source": [
    "input('enter your name ')"
   ]
  },
  {
   "cell_type": "code",
   "execution_count": null,
   "id": "9093461d",
   "metadata": {},
   "outputs": [],
   "source": []
  },
  {
   "cell_type": "markdown",
   "id": "643f9126",
   "metadata": {},
   "source": [
    "# Accepting Input in a Variable"
   ]
  },
  {
   "cell_type": "code",
   "execution_count": null,
   "id": "97b672cc",
   "metadata": {},
   "outputs": [],
   "source": []
  },
  {
   "cell_type": "code",
   "execution_count": 34,
   "id": "f5fc093a",
   "metadata": {},
   "outputs": [
    {
     "name": "stdout",
     "output_type": "stream",
     "text": [
      "who is your favorite Hero ? Baki\n"
     ]
    }
   ],
   "source": [
    "hero = input('who is your favorite Hero ? ')"
   ]
  },
  {
   "cell_type": "code",
   "execution_count": null,
   "id": "3284f21e",
   "metadata": {},
   "outputs": [],
   "source": []
  },
  {
   "cell_type": "code",
   "execution_count": 35,
   "id": "2f96d622",
   "metadata": {},
   "outputs": [
    {
     "name": "stdout",
     "output_type": "stream",
     "text": [
      "Baki\n"
     ]
    }
   ],
   "source": [
    "print( hero)"
   ]
  },
  {
   "cell_type": "code",
   "execution_count": null,
   "id": "02669cc1",
   "metadata": {},
   "outputs": [],
   "source": []
  },
  {
   "cell_type": "markdown",
   "id": "b4ffae16",
   "metadata": {},
   "source": [
    "<pre>\n",
    "the response of input() is always String, so no matter\n",
    "what you type the variable will be string always.(even\n",
    "                                                 if u type number stil)"
   ]
  },
  {
   "cell_type": "code",
   "execution_count": null,
   "id": "cc13d445",
   "metadata": {},
   "outputs": [],
   "source": []
  },
  {
   "cell_type": "markdown",
   "id": "d715278b",
   "metadata": {},
   "source": [
    "# slam book"
   ]
  },
  {
   "cell_type": "code",
   "execution_count": 37,
   "id": "0333aa30",
   "metadata": {},
   "outputs": [
    {
     "name": "stdout",
     "output_type": "stream",
     "text": [
      "enter your friend namesaitama\n",
      "where is ur friend from china\n",
      "what is ur wish i wish he gets chance to hit 2 punches\n",
      "\n",
      "\n",
      "            hey saitama , you are from china ,\n",
      "            you wished that i wish he gets chance to hit 2 punches\n",
      "    happy friendship\n",
      "\n"
     ]
    }
   ],
   "source": [
    "name = input('enter your friend name')\n",
    "\n",
    "city = input('where is ur friend from ')\n",
    "\n",
    "wish = input('what is ur wish ')\n",
    "\n",
    "\n",
    "summary = f'''\n",
    "            hey {name} , you are from {city} ,\n",
    "            you wished that {wish}\n",
    "    happy friendship\n",
    "'''\n",
    "\n",
    "print(summary)"
   ]
  },
  {
   "cell_type": "code",
   "execution_count": null,
   "id": "4e4703fc",
   "metadata": {},
   "outputs": [],
   "source": []
  },
  {
   "cell_type": "markdown",
   "id": "8a26488c",
   "metadata": {},
   "source": [
    "Taking Numeric or Integer Inputs\n",
    "---"
   ]
  },
  {
   "cell_type": "code",
   "execution_count": 40,
   "id": "1dc88831",
   "metadata": {},
   "outputs": [
    {
     "name": "stdout",
     "output_type": "stream",
     "text": [
      "enter age 54\n"
     ]
    },
    {
     "data": {
      "text/plain": [
       "int"
      ]
     },
     "execution_count": 40,
     "metadata": {},
     "output_type": "execute_result"
    }
   ],
   "source": [
    "age = int ( input('enter age ') )\n",
    "\n",
    "type(age)"
   ]
  },
  {
   "cell_type": "code",
   "execution_count": 41,
   "id": "e603a6f1",
   "metadata": {},
   "outputs": [
    {
     "data": {
      "text/plain": [
       "59"
      ]
     },
     "execution_count": 41,
     "metadata": {},
     "output_type": "execute_result"
    }
   ],
   "source": [
    "age+5"
   ]
  },
  {
   "cell_type": "markdown",
   "id": "41b69d35",
   "metadata": {},
   "source": [
    "note: the process of converting a datatype into another datatype\n",
    "    is called typecasting."
   ]
  },
  {
   "cell_type": "markdown",
   "id": "338f1d32",
   "metadata": {},
   "source": [
    "# What is type ()?\n",
    "---\n",
    "this is used to determine the datatype of a given variable"
   ]
  },
  {
   "cell_type": "code",
   "execution_count": 42,
   "id": "9dddee96",
   "metadata": {},
   "outputs": [],
   "source": [
    "name = 'andika'\n",
    "age  = 29\n",
    "height = 5.11\n",
    "isIndian = False"
   ]
  },
  {
   "cell_type": "code",
   "execution_count": 44,
   "id": "f20c4210",
   "metadata": {},
   "outputs": [
    {
     "data": {
      "text/plain": [
       "str"
      ]
     },
     "execution_count": 44,
     "metadata": {},
     "output_type": "execute_result"
    }
   ],
   "source": [
    "type(name)"
   ]
  },
  {
   "cell_type": "code",
   "execution_count": 45,
   "id": "c0983c55",
   "metadata": {},
   "outputs": [
    {
     "data": {
      "text/plain": [
       "int"
      ]
     },
     "execution_count": 45,
     "metadata": {},
     "output_type": "execute_result"
    }
   ],
   "source": [
    "type(age)"
   ]
  },
  {
   "cell_type": "code",
   "execution_count": 46,
   "id": "0b7ce58c",
   "metadata": {},
   "outputs": [
    {
     "data": {
      "text/plain": [
       "float"
      ]
     },
     "execution_count": 46,
     "metadata": {},
     "output_type": "execute_result"
    }
   ],
   "source": [
    "type(height)"
   ]
  },
  {
   "cell_type": "code",
   "execution_count": 47,
   "id": "5adbfa75",
   "metadata": {},
   "outputs": [
    {
     "data": {
      "text/plain": [
       "bool"
      ]
     },
     "execution_count": 47,
     "metadata": {},
     "output_type": "execute_result"
    }
   ],
   "source": [
    "type(isIndian)"
   ]
  },
  {
   "cell_type": "code",
   "execution_count": null,
   "id": "da34f67d",
   "metadata": {},
   "outputs": [],
   "source": []
  },
  {
   "cell_type": "markdown",
   "id": "e7bda2de",
   "metadata": {},
   "source": [
    "# Type casting examples"
   ]
  },
  {
   "cell_type": "code",
   "execution_count": 48,
   "id": "8a6dbbef",
   "metadata": {},
   "outputs": [
    {
     "data": {
      "text/plain": [
       "53"
      ]
     },
     "execution_count": 48,
     "metadata": {},
     "output_type": "execute_result"
    }
   ],
   "source": [
    "# String to int\n",
    "\n",
    "int(\"53\")"
   ]
  },
  {
   "cell_type": "code",
   "execution_count": 49,
   "id": "efb7dae1",
   "metadata": {},
   "outputs": [
    {
     "data": {
      "text/plain": [
       "3"
      ]
     },
     "execution_count": 49,
     "metadata": {},
     "output_type": "execute_result"
    }
   ],
   "source": [
    "# float to int\n",
    "\n",
    "int(3.5)"
   ]
  },
  {
   "cell_type": "code",
   "execution_count": 50,
   "id": "c3c1ac75",
   "metadata": {},
   "outputs": [
    {
     "data": {
      "text/plain": [
       "5.0"
      ]
     },
     "execution_count": 50,
     "metadata": {},
     "output_type": "execute_result"
    }
   ],
   "source": [
    "# int to float\n",
    "\n",
    "float(5)"
   ]
  },
  {
   "cell_type": "code",
   "execution_count": 51,
   "id": "6708160f",
   "metadata": {},
   "outputs": [
    {
     "data": {
      "text/plain": [
       "'5'"
      ]
     },
     "execution_count": 51,
     "metadata": {},
     "output_type": "execute_result"
    }
   ],
   "source": [
    "# int to str\n",
    "str(5)"
   ]
  },
  {
   "cell_type": "code",
   "execution_count": 52,
   "id": "94a01829",
   "metadata": {},
   "outputs": [
    {
     "data": {
      "text/plain": [
       "2.2242424142342343"
      ]
     },
     "execution_count": 52,
     "metadata": {},
     "output_type": "execute_result"
    }
   ],
   "source": [
    "2.224242414234234234234234234234234234234234"
   ]
  },
  {
   "cell_type": "code",
   "execution_count": 53,
   "id": "8c7f1408",
   "metadata": {},
   "outputs": [
    {
     "data": {
      "text/plain": [
       "16"
      ]
     },
     "execution_count": 53,
     "metadata": {},
     "output_type": "execute_result"
    }
   ],
   "source": [
    "len(str(2242424142342343))"
   ]
  },
  {
   "cell_type": "code",
   "execution_count": null,
   "id": "06ac38a4",
   "metadata": {},
   "outputs": [],
   "source": []
  },
  {
   "cell_type": "markdown",
   "id": "c9f32513",
   "metadata": {},
   "source": [
    "# Building Confidence\n",
    "----"
   ]
  },
  {
   "cell_type": "code",
   "execution_count": 54,
   "id": "e573c295",
   "metadata": {},
   "outputs": [
    {
     "name": "stdout",
     "output_type": "stream",
     "text": [
      "enter weight in Pounds 110\n",
      "110 Pounds is 49.5 Kilograms \n"
     ]
    }
   ],
   "source": [
    "# Pound to Kg Conversion\n",
    "\n",
    "lbs = int ( input('enter weight in Pounds '))\n",
    "\n",
    "kg = lbs * 0.45\n",
    "\n",
    "print( f'{lbs} Pounds is {kg} Kilograms ')"
   ]
  },
  {
   "cell_type": "code",
   "execution_count": null,
   "id": "03e57f49",
   "metadata": {},
   "outputs": [],
   "source": []
  },
  {
   "cell_type": "markdown",
   "id": "3a970350",
   "metadata": {},
   "source": [
    "# Challenge 🏏 \n",
    "---\n",
    "<pre>\n",
    "Ask the user to Enter the Product Cost Price ,\n",
    "write logic to add 18% GST and\n",
    "print the total Bill Summary Showing\n",
    "- Cost Price\n",
    "- GST Tax\n",
    "- Payable Amount."
   ]
  },
  {
   "cell_type": "code",
   "execution_count": null,
   "id": "8c4c354a",
   "metadata": {},
   "outputs": [],
   "source": []
  },
  {
   "cell_type": "code",
   "execution_count": 55,
   "id": "a920ec6b",
   "metadata": {},
   "outputs": [
    {
     "name": "stdout",
     "output_type": "stream",
     "text": [
      "how much is the product cost 💰  127000\n",
      "\n",
      "\n",
      "Bill Summary\n",
      "----------------------\n",
      "Product Price : 127000\n",
      "GST (Tax)     : 22860.0\n",
      "Final Price   : 149860.0\n",
      "----------------------\n",
      "Thank you for your Purchase 😊 \n",
      "\n"
     ]
    }
   ],
   "source": [
    "costPrice = int(input('how much is the product cost 💰  '))\n",
    "\n",
    "gstTax = costPrice * .18\n",
    "\n",
    "payable = costPrice + gstTax\n",
    "\n",
    "billSummary = f'''\n",
    "\n",
    "Bill Summary\n",
    "----------------------\n",
    "Product Price : {costPrice}\n",
    "GST (Tax)     : {gstTax}\n",
    "Final Price   : {payable}\n",
    "----------------------\n",
    "Thank you for your Purchase 😊 \n",
    "'''\n",
    "print(billSummary)"
   ]
  },
  {
   "cell_type": "code",
   "execution_count": null,
   "id": "600f131f",
   "metadata": {},
   "outputs": [],
   "source": []
  },
  {
   "cell_type": "markdown",
   "id": "8e6dbfb6",
   "metadata": {},
   "source": [
    "# Post ☕️  Break Topic\n",
    "----\n",
    "Decision Making in Python\n"
   ]
  },
  {
   "cell_type": "code",
   "execution_count": null,
   "id": "acb2c4e7",
   "metadata": {},
   "outputs": [],
   "source": []
  },
  {
   "cell_type": "markdown",
   "id": "7c6363d8",
   "metadata": {},
   "source": [
    "if-else"
   ]
  },
  {
   "cell_type": "markdown",
   "id": "91d130c5",
   "metadata": {},
   "source": [
    "<pre>\n",
    "Objective: you are asked to accept age from user and write logic to determine\n",
    "if the user is elligible to vote or not."
   ]
  },
  {
   "cell_type": "code",
   "execution_count": 57,
   "id": "486b6c7b",
   "metadata": {},
   "outputs": [
    {
     "name": "stdout",
     "output_type": "stream",
     "text": [
      "enter your age 16\n",
      "oops!\n",
      "you will vote once u r 18\n",
      "choose the wise leader when you get ur chance\n"
     ]
    }
   ],
   "source": [
    "age = int ( input('enter your age ') )\n",
    "\n",
    "\n",
    "if age >= 18 :\n",
    "    print('hurray')\n",
    "    print('you are elligible to vote')\n",
    "    print('choose the wise leader')\n",
    "    \n",
    "else:\n",
    "    print('oops!')\n",
    "    print('you will vote once u r 18')\n",
    "    print('choose the wise leader when you get ur chance')\n"
   ]
  },
  {
   "cell_type": "code",
   "execution_count": null,
   "id": "26cce6dd",
   "metadata": {},
   "outputs": [],
   "source": []
  },
  {
   "cell_type": "code",
   "execution_count": 58,
   "id": "5018e47d",
   "metadata": {},
   "outputs": [
    {
     "name": "stdout",
     "output_type": "stream",
     "text": [
      " one day \n",
      " i went to jungle \n",
      " to try berries \n",
      " , it came that the season \n",
      " is after 3 months\n"
     ]
    }
   ],
   "source": [
    "msg=\" one day \\n i went to jungle \\n to try berries \\n , it came that the season \\n is after 3 months\"\n",
    "print(msg)"
   ]
  },
  {
   "cell_type": "code",
   "execution_count": null,
   "id": "51388c56",
   "metadata": {},
   "outputs": [],
   "source": []
  },
  {
   "cell_type": "markdown",
   "id": "c1952ea1",
   "metadata": {},
   "source": [
    "# Handling Multiple Conditions\n",
    "---\n",
    "using elif"
   ]
  },
  {
   "cell_type": "code",
   "execution_count": 59,
   "id": "75822ecd",
   "metadata": {},
   "outputs": [
    {
     "name": "stdout",
     "output_type": "stream",
     "text": [
      "enter your Rank 7\n",
      "No Division\n"
     ]
    }
   ],
   "source": [
    "rank = int (input('enter your Rank '))\n",
    "\n",
    "\n",
    "if rank == 1 :\n",
    "    \n",
    "    print('first division')\n",
    "    \n",
    "elif rank == 2 :\n",
    "    \n",
    "    print('second division')\n",
    "    \n",
    "elif rank == 3 :\n",
    "    \n",
    "    print('third division')\n",
    "    \n",
    "else:\n",
    "    # this executes when all above conditions are FALSE\n",
    "    print('No Division')\n"
   ]
  },
  {
   "cell_type": "code",
   "execution_count": null,
   "id": "bc04402c",
   "metadata": {},
   "outputs": [],
   "source": []
  },
  {
   "cell_type": "markdown",
   "id": "205fd57a",
   "metadata": {},
   "source": [
    "#  Challenge\n",
    "---\n",
    "\n",
    "Ask the user to enter a  number ,\n",
    "write logic to determine if the number is +ve ,-ve or neutral."
   ]
  },
  {
   "cell_type": "code",
   "execution_count": 60,
   "id": "014ea2e8",
   "metadata": {},
   "outputs": [
    {
     "name": "stdout",
     "output_type": "stream",
     "text": [
      "enter a number -5\n",
      "-ve\n"
     ]
    }
   ],
   "source": [
    "N = int (input('enter a number '))\n",
    "\n",
    "if N > 0 :\n",
    "    print('+ve')\n",
    "    \n",
    "elif N == 0 :\n",
    "    print('Neutral')\n",
    "    \n",
    "else:\n",
    "    print('-ve')"
   ]
  },
  {
   "cell_type": "code",
   "execution_count": null,
   "id": "6611ac88",
   "metadata": {},
   "outputs": [],
   "source": []
  },
  {
   "cell_type": "markdown",
   "id": "7b975e32",
   "metadata": {},
   "source": [
    "# ZOMATO 🥘 🍱 🍲 \n",
    "---\n",
    "<pre>\n",
    "Ask the user to Enter the Product Price\n",
    "Ask the user to Enter the Coupon Code\n",
    "\n",
    "Offer Discount on Price as per the Coupons Below :\n",
    "\n",
    "SUPERSAVER OFFER 15% DISCOUNT\n",
    "SAVEMAX OFFER 20% DISCOUNT\n",
    "SUPERSIX OFFER 50% DISCOUNT\n",
    "\n",
    "if invalid coupon provided No Discount.\n",
    "\n",
    "Apply 5% GST on BILL  , print the Bill Summary!\n"
   ]
  },
  {
   "cell_type": "code",
   "execution_count": 63,
   "id": "2c7afb8b",
   "metadata": {},
   "outputs": [
    {
     "name": "stdout",
     "output_type": "stream",
     "text": [
      "enter product price 1190\n",
      "Enter Coupon Code Hungery75\n",
      "Invalid Coupon Code\n",
      "\n",
      "Bill Summary \n",
      "------------------\n",
      "Product Price : 1190\n",
      "GST Tax :  59.5\n",
      "Discount : 0\n",
      "Amount Payable : 1249.5\n",
      "------------------\n",
      "Thank you for your ORDER.\n",
      "\n"
     ]
    }
   ],
   "source": [
    "price = int (input('enter product price '))\n",
    "coupon = input('Enter Coupon Code ')\n",
    "\n",
    "discount = 0\n",
    "\n",
    "if coupon == 'SUPERSAVER' :\n",
    "    discount = price * .15\n",
    "    \n",
    "elif coupon == 'SAVEMAX' :\n",
    "    discount = price * .2\n",
    "\n",
    "elif coupon == \"SUPERSIX\":\n",
    "    discount = price * .5\n",
    "    \n",
    "else:\n",
    "    print('Invalid Coupon Code')\n",
    "    \n",
    "billAmount = price - discount\n",
    "\n",
    "gstTax = billAmount * .05\n",
    "\n",
    "payable = billAmount + gstTax\n",
    "\n",
    "print(f'''\n",
    "Bill Summary \n",
    "------------------\n",
    "Product Price : {price}\n",
    "GST Tax :  {gstTax}\n",
    "Discount : {discount}\n",
    "Amount Payable : {payable}\n",
    "------------------\n",
    "Thank you for your ORDER.\n",
    "''')\n"
   ]
  },
  {
   "cell_type": "code",
   "execution_count": null,
   "id": "6f33e7a1",
   "metadata": {},
   "outputs": [],
   "source": []
  },
  {
   "cell_type": "code",
   "execution_count": 64,
   "id": "aa828229",
   "metadata": {},
   "outputs": [
    {
     "data": {
      "text/plain": [
       "3.34"
      ]
     },
     "execution_count": 64,
     "metadata": {},
     "output_type": "execute_result"
    }
   ],
   "source": [
    "round( 3.340040059 , 2 )"
   ]
  },
  {
   "cell_type": "code",
   "execution_count": null,
   "id": "86defdd7",
   "metadata": {},
   "outputs": [],
   "source": []
  },
  {
   "cell_type": "markdown",
   "id": "d2f87bdc",
   "metadata": {},
   "source": [
    "# 👮 \n",
    "----\n",
    "<pre>\n",
    "Imagine you are riding a Bike at certain speed and later caught by a COP,\n",
    "COP asked you 2 questions\n",
    "\n",
    "1. What was your Riding Speed ?\n",
    "2. Is it is your Birthday Today ? (y/n)\n",
    "\n",
    "Write Logic to Calculate Ticket Based on the Inputs \n",
    "\n",
    "    if speed > 80 print 'Big Ticket'\n",
    "    if speed is between 60 and 80 (including) print 'Normal Ticket'\n",
    "    if speed < 60 print 'Small Ticket'\n",
    "    \n",
    "note:  check if it is Rider's Birthday , if Yes \n",
    "then the Rider will be exempted 5 miles from his/her speed and then the ticket\n",
    "will be calculated.\n",
    "\n",
    "test case: \n",
    "\n",
    "speed : 82\n",
    "isBirthday : 'Y'\n",
    "\n",
    "expected output: Normal Ticket"
   ]
  },
  {
   "cell_type": "code",
   "execution_count": null,
   "id": "8797df15",
   "metadata": {},
   "outputs": [],
   "source": []
  },
  {
   "cell_type": "code",
   "execution_count": 65,
   "id": "1f0bfa7b",
   "metadata": {},
   "outputs": [
    {
     "name": "stdout",
     "output_type": "stream",
     "text": [
      "enter your speed 82\n",
      "is it your birthday today ? y/n y\n",
      "Normal Ticket\n"
     ]
    }
   ],
   "source": [
    "speed = int (input('enter your speed '))\n",
    "\n",
    "isBirthday = input('is it your birthday today ? y/n ')\n",
    "\n",
    "\n",
    "if isBirthday == 'y': \n",
    "    speed = speed - 5 \n",
    "    \n",
    "    \n",
    "    \n",
    "    \n",
    "    \n",
    "if speed > 80 :\n",
    "    \n",
    "    print('Big Ticket')\n",
    "    \n",
    "elif speed>=60:\n",
    "    print('Normal Ticket')\n",
    "    \n",
    "else:\n",
    "    print('Small Ticket')"
   ]
  },
  {
   "cell_type": "markdown",
   "id": "3932c0b1-ada3-4ba3-826d-e1e6ee3d04ce",
   "metadata": {},
   "source": [
    "# Boot Camp week1 MCQ"
   ]
  },
  {
   "cell_type": "code",
   "execution_count": 1,
   "id": "b83584f4",
   "metadata": {},
   "outputs": [
    {
     "name": "stdout",
     "output_type": "stream",
     "text": [
      "<class 'str'>\n"
     ]
    }
   ],
   "source": [
    "number='159'\n",
    "\n",
    "print(type(number))"
   ]
  },
  {
   "cell_type": "code",
   "execution_count": 2,
   "id": "9e216f2e",
   "metadata": {},
   "outputs": [
    {
     "name": "stdout",
     "output_type": "stream",
     "text": [
      "34.0\n"
     ]
    }
   ],
   "source": [
    "number=34.721\n",
    "print(float(int(number)))"
   ]
  },
  {
   "cell_type": "code",
   "execution_count": 3,
   "id": "b5374e76",
   "metadata": {},
   "outputs": [
    {
     "ename": "NameError",
     "evalue": "name 'Alex' is not defined",
     "output_type": "error",
     "traceback": [
      "\u001b[1;31m---------------------------------------------------------------------------\u001b[0m",
      "\u001b[1;31mNameError\u001b[0m                                 Traceback (most recent call last)",
      "Cell \u001b[1;32mIn[3], line 1\u001b[0m\n\u001b[1;32m----> 1\u001b[0m name \u001b[38;5;241m=\u001b[39m Alex\n\u001b[0;32m      2\u001b[0m \u001b[38;5;28mprint\u001b[39m(\u001b[38;5;28mtype\u001b[39m(name))\n",
      "\u001b[1;31mNameError\u001b[0m: name 'Alex' is not defined"
     ]
    }
   ],
   "source": [
    "name = Alex\n",
    "print(type(name))"
   ]
  },
  {
   "cell_type": "code",
   "execution_count": 6,
   "id": "f6adc4d8",
   "metadata": {},
   "outputs": [
    {
     "name": "stdout",
     "output_type": "stream",
     "text": [
      "0.0\n",
      "4.0\n",
      "0\n"
     ]
    }
   ],
   "source": [
    "a = 8.9\n",
    "b = 2\n",
    "c = 5\n",
    "print(a//b//c)\n",
    "print(a//b)\n",
    "print(b//c)"
   ]
  },
  {
   "cell_type": "code",
   "execution_count": 9,
   "id": "9ff92e46",
   "metadata": {},
   "outputs": [
    {
     "name": "stdout",
     "output_type": "stream",
     "text": [
      "-8.0\n",
      "0\n",
      "10.0\n"
     ]
    }
   ],
   "source": [
    "print(4 // 8 + ( 2.5 + 7.5 ) - 6 * 3)\n",
    "print(4//8)\n",
    "print(2.5+7.5)"
   ]
  },
  {
   "cell_type": "code",
   "execution_count": 10,
   "id": "d88d13dc",
   "metadata": {},
   "outputs": [
    {
     "name": "stdout",
     "output_type": "stream",
     "text": [
      "-9\n"
     ]
    }
   ],
   "source": [
    "print(5 % ( 2 + 12 ) ** 3 - 60 // ( 7 + 1 ) * 2)\n",
    "5 % 27 -60 // 8 *2\n",
    "5 - 60 // 8 * 2\n",
    "5 - 7 * 2\n",
    "5 - 14 = -9"
   ]
  },
  {
   "cell_type": "code",
   "execution_count": 11,
   "id": "495967d6",
   "metadata": {},
   "outputs": [
    {
     "name": "stdout",
     "output_type": "stream",
     "text": [
      "to cod\n"
     ]
    }
   ],
   "source": [
    "string_1 = \"I love to code in python\"\n",
    "print( string_1[7:13])"
   ]
  },
  {
   "cell_type": "code",
   "execution_count": 13,
   "id": "96135baf",
   "metadata": {},
   "outputs": [
    {
     "name": "stdout",
     "output_type": "stream",
     "text": [
      "split\n",
      " split\n"
     ]
    }
   ],
   "source": [
    "sentence = 'This sentence needs to be split into words'\n",
    "print(sentence.split()[5])\n",
    "print(sentence[-17:-11])\n",
    "##Both the slicing using indexes and the split() function will give you the desired result. \n",
    "##However, using the split() function is much easier than indexing. "
   ]
  },
  {
   "cell_type": "code",
   "execution_count": 3,
   "id": "c0abcca5",
   "metadata": {},
   "outputs": [
    {
     "ename": "TypeError",
     "evalue": "'str' object is not callable",
     "output_type": "error",
     "traceback": [
      "\u001b[1;31m---------------------------------------------------------------------------\u001b[0m",
      "\u001b[1;31mTypeError\u001b[0m                                 Traceback (most recent call last)",
      "Cell \u001b[1;32mIn[3], line 2\u001b[0m\n\u001b[0;32m      1\u001b[0m \u001b[38;5;28mlen\u001b[39m \u001b[38;5;241m=\u001b[39m \u001b[38;5;124m\"\u001b[39m\u001b[38;5;124mpython\u001b[39m\u001b[38;5;124m\"\u001b[39m\n\u001b[1;32m----> 2\u001b[0m i \u001b[38;5;241m=\u001b[39m \u001b[38;5;28mlen\u001b[39m(\u001b[38;5;28mlen\u001b[39m)\n\u001b[0;32m      3\u001b[0m \u001b[38;5;28mprint\u001b[39m(\u001b[38;5;124m'\u001b[39m\u001b[38;5;124mprint lentgth \u001b[39m\u001b[38;5;124m'\u001b[39m,i)\n\u001b[0;32m      4\u001b[0m len1 \u001b[38;5;241m=\u001b[39m \u001b[38;5;124m\"\u001b[39m\u001b[38;5;124mpython\u001b[39m\u001b[38;5;124m\"\u001b[39m\n",
      "\u001b[1;31mTypeError\u001b[0m: 'str' object is not callable"
     ]
    }
   ],
   "source": [
    "len = \"python\"\n",
    "i = len(len) ## keyword wil not use as variable so got error,after execute snippet need to restat kernel\n",
    "print('print lentgth ',i)\n"
   ]
  },
  {
   "cell_type": "code",
   "execution_count": 1,
   "id": "787a6a15",
   "metadata": {},
   "outputs": [
    {
     "name": "stdout",
     "output_type": "stream",
     "text": [
      "print lentgth  6\n"
     ]
    }
   ],
   "source": [
    "len1 = \"python\"\n",
    "i = len(len1)\n",
    "print('print lentgth ',i)"
   ]
  },
  {
   "cell_type": "code",
   "execution_count": 5,
   "id": "b37405bb-3bfe-49ed-a096-8d80fb2692f9",
   "metadata": {},
   "outputs": [
    {
     "name": "stdout",
     "output_type": "stream",
     "text": [
      "even number\n"
     ]
    }
   ],
   "source": [
    "x=10\n",
    "if x%2==0:\n",
    " print(\"even number\")\n",
    "else:\n",
    " print(\"odd number\") "
   ]
  },
  {
   "cell_type": "code",
   "execution_count": 7,
   "id": "3af0facc-c255-41ac-9daf-f888f501523b",
   "metadata": {},
   "outputs": [
    {
     "name": "stdout",
     "output_type": "stream",
     "text": [
      "true\n",
      "true\n"
     ]
    }
   ],
   "source": [
    "if 4-9<10:\n",
    "  print(\"true\")\n",
    "else:\n",
    "  print(\"false\")\n",
    "print(\"true\")"
   ]
  },
  {
   "cell_type": "code",
   "execution_count": 8,
   "id": "421e5ba2-7005-4540-ae10-d5c11a38265a",
   "metadata": {},
   "outputs": [
    {
     "name": "stdout",
     "output_type": "stream",
     "text": [
      "fair\n"
     ]
    }
   ],
   "source": [
    "x=67\n",
    "if x>50:\n",
    "  if x>90:\n",
    "    print(\"excellent\")\n",
    "  else:\n",
    "    if x>80:\n",
    "      print(\"good\")\n",
    "    else:\n",
    "      print(\"fair\")\n",
    "else:\n",
    "  if x>30:\n",
    "    print(\"average\")\n",
    "  else:\n",
    "    print(\"poor\")"
   ]
  },
  {
   "cell_type": "code",
   "execution_count": 12,
   "id": "036ce037-c947-4cca-b03b-b72ed9f35eab",
   "metadata": {},
   "outputs": [
    {
     "name": "stdout",
     "output_type": "stream",
     "text": [
      "while executed\n"
     ]
    }
   ],
   "source": [
    "a='pqrstuv'\n",
    "i='j'\n",
    "while i in a:  ##‘j’ is not present in the string 'a' defined. Hence the while loop will not be executed.\n",
    "  print(i)\n",
    "print('while executed')"
   ]
  },
  {
   "cell_type": "code",
   "execution_count": 13,
   "id": "a8024612-e4ee-4d50-8dc0-cccf53c9b659",
   "metadata": {},
   "outputs": [],
   "source": [
    "i = 16\n",
    "while False:   ##No output will be printed because the code in the while loop is not executed as the while condition is defined to be 'False' irrespective of the value of 'i'.\n",
    "    if i%2 == 0:\n",
    "        break\n",
    "    print(i)\n",
    "    i += 2"
   ]
  },
  {
   "cell_type": "code",
   "execution_count": 14,
   "id": "8051433e-647d-45bd-ac25-8e331c84d757",
   "metadata": {},
   "outputs": [
    {
     "ename": "TypeError",
     "evalue": "'str' object does not support item assignment",
     "output_type": "error",
     "traceback": [
      "\u001b[1;31m---------------------------------------------------------------------------\u001b[0m",
      "\u001b[1;31mTypeError\u001b[0m                                 Traceback (most recent call last)",
      "Cell \u001b[1;32mIn[14], line 5\u001b[0m\n\u001b[0;32m      3\u001b[0m \u001b[38;5;28;01mfor\u001b[39;00m i \u001b[38;5;129;01min\u001b[39;00m \u001b[38;5;28mrange\u001b[39m(\u001b[38;5;28mlen\u001b[39m(s)):\n\u001b[0;32m      4\u001b[0m     \u001b[38;5;28;01mif\u001b[39;00m s[i] \u001b[38;5;129;01min\u001b[39;00m \u001b[38;5;124m'\u001b[39m\u001b[38;5;124ma\u001b[39m\u001b[38;5;124m'\u001b[39m:\n\u001b[1;32m----> 5\u001b[0m         s[i]\u001b[38;5;241m=\u001b[39m\u001b[38;5;124m'\u001b[39m\u001b[38;5;124m*\u001b[39m\u001b[38;5;124m'\u001b[39m\n\u001b[0;32m      7\u001b[0m \u001b[38;5;28mprint\u001b[39m(s)\n",
      "\u001b[1;31mTypeError\u001b[0m: 'str' object does not support item assignment"
     ]
    }
   ],
   "source": [
    "s=\"Upgrad\"\n",
    "\n",
    "for i in range(len(s)):  ##String data type in Python is immutable. You can assign a whole new string to the string 's' defined but not change some characters only in the string\n",
    "    if s[i] in 'a':\n",
    "        s[i]='*'\n",
    "\n",
    "print(s)"
   ]
  },
  {
   "cell_type": "code",
   "execution_count": 24,
   "id": "a033816b-0f4f-45c4-9d88-7d5af4cc4c28",
   "metadata": {},
   "outputs": [
    {
     "name": "stdin",
     "output_type": "stream",
     "text": [
      "Enter a character:  1.0\n"
     ]
    },
    {
     "name": "stdout",
     "output_type": "stream",
     "text": [
      " neither an Integer nor an alphabet.\n"
     ]
    }
   ],
   "source": [
    "inchar = input(\"Enter a character: \")\n",
    "\n",
    "if inchar.isdigit():\n",
    "    print(\"Integer\")\n",
    "elif inchar.isalpha():\n",
    "    print(\"Alphabet\")\n",
    "else:\n",
    "    print(\" neither an Integer nor an alphabet.\")"
   ]
  },
  {
   "cell_type": "code",
   "execution_count": 22,
   "id": "1b4a59ef-c2c0-4542-965b-1204d06d8a8c",
   "metadata": {},
   "outputs": [
    {
     "name": "stdout",
     "output_type": "stream",
     "text": [
      "Welcome to Python 3.11's help utility! If this is your first time using\n",
      "Python, you should definitely check out the tutorial at\n",
      "https://docs.python.org/3.11/tutorial/.\n",
      "\n",
      "Enter the name of any module, keyword, or topic to get help on writing\n",
      "Python programs and using Python modules.  To get a list of available\n",
      "modules, keywords, symbols, or topics, enter \"modules\", \"keywords\",\n",
      "\"symbols\", or \"topics\".\n",
      "\n",
      "Each module also comes with a one-line summary of what it does; to list\n",
      "the modules whose name or summary contain a given string such as \"spam\",\n",
      "enter \"modules spam\".\n",
      "\n",
      "To quit this help utility and return to the interpreter,\n",
      "enter \"q\" or \"quit\".\n",
      "\n"
     ]
    },
    {
     "name": "stdin",
     "output_type": "stream",
     "text": [
      "help>  string\n"
     ]
    },
    {
     "name": "stdout",
     "output_type": "stream",
     "text": [
      "Help on module string:\n",
      "\n",
      "NAME\n",
      "    string - A collection of string constants.\n",
      "\n",
      "MODULE REFERENCE\n",
      "    https://docs.python.org/3.11/library/string.html\n",
      "    \n",
      "    The following documentation is automatically generated from the Python\n",
      "    source files.  It may be incomplete, incorrect or include features that\n",
      "    are considered implementation detail and may vary between Python\n",
      "    implementations.  When in doubt, consult the module reference at the\n",
      "    location listed above.\n",
      "\n",
      "DESCRIPTION\n",
      "    Public module variables:\n",
      "    \n",
      "    whitespace -- a string containing all ASCII whitespace\n",
      "    ascii_lowercase -- a string containing all ASCII lowercase letters\n",
      "    ascii_uppercase -- a string containing all ASCII uppercase letters\n",
      "    ascii_letters -- a string containing all ASCII letters\n",
      "    digits -- a string containing all ASCII decimal digits\n",
      "    hexdigits -- a string containing all ASCII hexadecimal digits\n",
      "    octdigits -- a string containing all ASCII octal digits\n",
      "    punctuation -- a string containing all ASCII punctuation characters\n",
      "    printable -- a string containing all ASCII characters considered printable\n",
      "\n",
      "CLASSES\n",
      "    builtins.object\n",
      "        Formatter\n",
      "        Template\n",
      "    \n",
      "    class Formatter(builtins.object)\n",
      "     |  Methods defined here:\n",
      "     |  \n",
      "     |  check_unused_args(self, used_args, args, kwargs)\n",
      "     |  \n",
      "     |  convert_field(self, value, conversion)\n",
      "     |  \n",
      "     |  format(self, format_string, /, *args, **kwargs)\n",
      "     |  \n",
      "     |  format_field(self, value, format_spec)\n",
      "     |  \n",
      "     |  get_field(self, field_name, args, kwargs)\n",
      "     |      # given a field_name, find the object it references.\n",
      "     |      #  field_name:   the field being looked up, e.g. \"0.name\"\n",
      "     |      #                 or \"lookup[3]\"\n",
      "     |      #  used_args:    a set of which args have been used\n",
      "     |      #  args, kwargs: as passed in to vformat\n",
      "     |  \n",
      "     |  get_value(self, key, args, kwargs)\n",
      "     |  \n",
      "     |  parse(self, format_string)\n",
      "     |      # returns an iterable that contains tuples of the form:\n",
      "     |      # (literal_text, field_name, format_spec, conversion)\n",
      "     |      # literal_text can be zero length\n",
      "     |      # field_name can be None, in which case there's no\n",
      "     |      #  object to format and output\n",
      "     |      # if field_name is not None, it is looked up, formatted\n",
      "     |      #  with format_spec and conversion and then used\n",
      "     |  \n",
      "     |  vformat(self, format_string, args, kwargs)\n",
      "     |  \n",
      "     |  ----------------------------------------------------------------------\n",
      "     |  Data descriptors defined here:\n",
      "     |  \n",
      "     |  __dict__\n",
      "     |      dictionary for instance variables\n",
      "     |  \n",
      "     |  __weakref__\n",
      "     |      list of weak references to the object\n",
      "    \n",
      "    class Template(builtins.object)\n",
      "     |  Template(template)\n",
      "     |  \n",
      "     |  A string class for supporting $-substitutions.\n",
      "     |  \n",
      "     |  Methods defined here:\n",
      "     |  \n",
      "     |  __init__(self, template)\n",
      "     |      Initialize self.  See help(type(self)) for accurate signature.\n",
      "     |  \n",
      "     |  get_identifiers(self)\n",
      "     |  \n",
      "     |  is_valid(self)\n",
      "     |  \n",
      "     |  safe_substitute(self, mapping={}, /, **kws)\n",
      "     |  \n",
      "     |  substitute(self, mapping={}, /, **kws)\n",
      "     |  \n",
      "     |  ----------------------------------------------------------------------\n",
      "     |  Class methods defined here:\n",
      "     |  \n",
      "     |  __init_subclass__() from builtins.type\n",
      "     |      This method is called when a class is subclassed.\n",
      "     |      \n",
      "     |      The default implementation does nothing. It may be\n",
      "     |      overridden to extend subclasses.\n",
      "     |  \n",
      "     |  ----------------------------------------------------------------------\n",
      "     |  Data descriptors defined here:\n",
      "     |  \n",
      "     |  __dict__\n",
      "     |      dictionary for instance variables\n",
      "     |  \n",
      "     |  __weakref__\n",
      "     |      list of weak references to the object\n",
      "     |  \n",
      "     |  ----------------------------------------------------------------------\n",
      "     |  Data and other attributes defined here:\n",
      "     |  \n",
      "     |  braceidpattern = None\n",
      "     |  \n",
      "     |  delimiter = '$'\n",
      "     |  \n",
      "     |  flags = re.IGNORECASE\n",
      "     |  \n",
      "     |  idpattern = '(?a:[_a-z][_a-z0-9]*)'\n",
      "     |  \n",
      "     |  pattern = re.compile('\\n            \\\\$(?:\\n              ...identifie...\n",
      "\n",
      "FUNCTIONS\n",
      "    capwords(s, sep=None)\n",
      "        capwords(s [,sep]) -> string\n",
      "        \n",
      "        Split the argument into words using split, capitalize each\n",
      "        word using capitalize, and join the capitalized words using\n",
      "        join.  If the optional second argument sep is absent or None,\n",
      "        runs of whitespace characters are replaced by a single space\n",
      "        and leading and trailing whitespace are removed, otherwise\n",
      "        sep is used to split and join the words.\n",
      "\n",
      "DATA\n",
      "    __all__ = ['ascii_letters', 'ascii_lowercase', 'ascii_uppercase', 'cap...\n",
      "    ascii_letters = 'abcdefghijklmnopqrstuvwxyzABCDEFGHIJKLMNOPQRSTUVWXYZ'\n",
      "    ascii_lowercase = 'abcdefghijklmnopqrstuvwxyz'\n",
      "    ascii_uppercase = 'ABCDEFGHIJKLMNOPQRSTUVWXYZ'\n",
      "    digits = '0123456789'\n",
      "    hexdigits = '0123456789abcdefABCDEF'\n",
      "    octdigits = '01234567'\n",
      "    printable = '0123456789abcdefghijklmnopqrstuvwxyzABCDEFGHIJKLMNOPQRSTU...\n",
      "    punctuation = '!\"#$%&\\'()*+,-./:;<=>?@[\\\\]^_`{|}~'\n",
      "    whitespace = ' \\t\\n\\r\\x0b\\x0c'\n",
      "\n",
      "FILE\n",
      "    c:\\users\\admin\\anaconda3\\lib\\string.py\n",
      "\n",
      "\n"
     ]
    },
    {
     "name": "stdin",
     "output_type": "stream",
     "text": [
      "help>  quit\n"
     ]
    },
    {
     "name": "stdout",
     "output_type": "stream",
     "text": [
      "\n",
      "You are now leaving help and returning to the Python interpreter.\n",
      "If you want to ask for help on a particular object directly from the\n",
      "interpreter, you can type \"help(object)\".  Executing \"help('string')\"\n",
      "has the same effect as typing a particular string at the help> prompt.\n"
     ]
    }
   ],
   "source": [
    "help()"
   ]
  },
  {
   "cell_type": "code",
   "execution_count": 30,
   "id": "959639bf-91b6-41b7-acda-44630b057aed",
   "metadata": {},
   "outputs": [
    {
     "name": "stdin",
     "output_type": "stream",
     "text": [
      "enter char :  8\n"
     ]
    },
    {
     "name": "stdout",
     "output_type": "stream",
     "text": [
      "ascii value 56 of char 8\n",
      " previous char 7 - input char 8 - next char 9\n"
     ]
    }
   ],
   "source": [
    "##Write a program to accept a character and display its next and previous character.\n",
    "## Hint : use ascii values\n",
    "\n",
    "input_char = input('enter char : ')\n",
    "if len(input_char)==1:\n",
    "    ascii_val = ord(input_char)\n",
    "    print(f'ascii value {ascii_val} of char {input_char}')\n",
    "    previous_char = chr(ascii_val-1)\n",
    "    next_char = chr(ascii_val+1)\n",
    "    print(f' previous char {previous_char} - input char {input_char} - next char {next_char}')\n",
    "else:\n",
    "    print('please enter valid char')"
   ]
  },
  {
   "cell_type": "code",
   "execution_count": 44,
   "id": "f5ba39cc-0632-49d6-bce5-ec41941d6205",
   "metadata": {},
   "outputs": [
    {
     "name": "stdin",
     "output_type": "stream",
     "text": [
      " Python Programming\n"
     ]
    },
    {
     "name": "stdout",
     "output_type": "stream",
     "text": [
      "Pythn Prgrmmng\n"
     ]
    }
   ],
   "source": [
    "input_string = input()\n",
    "vowles = 'a,e,i,o,u,A,E,I,O,U'\n",
    "outputstring=input_string\n",
    "for i in input_string:\n",
    "    if(i in vowles):\n",
    "        outputstring = outputstring.replace(i,\"\")\n",
    "        \n",
    "input_string1 = outputstring.strip()\n",
    "print(input_string1)       "
   ]
  },
  {
   "cell_type": "code",
   "execution_count": 51,
   "id": "424ff8ff-d8ca-48a0-ba35-b1f1f6c65fdb",
   "metadata": {},
   "outputs": [
    {
     "name": "stdin",
     "output_type": "stream",
     "text": [
      " 2 4 5\n"
     ]
    },
    {
     "name": "stdout",
     "output_type": "stream",
     "text": [
      "valid\n"
     ]
    }
   ],
   "source": [
    "# Take input\n",
    "a,b,c= input().split()\n",
    "\n",
    "# Write your code here\n",
    "# Convert a,b,c into numeric type and check for the validity of triangle\n",
    "a1 = int(a)\n",
    "b1 = int(b)\n",
    "c1 = int(c)\n",
    "\n",
    "if a1+b1>c1 and a1+c1>b1 and b1+c1>a1:\n",
    "    print('valid')\n",
    "else:\n",
    "    print('non valid triangle')\n",
    "          \n",
    "   \n",
    "\n",
    "\n",
    "#print result"
   ]
  },
  {
   "cell_type": "code",
   "execution_count": null,
   "id": "cfb4a4f4-c075-4621-a470-3093a10bc7da",
   "metadata": {},
   "outputs": [],
   "source": [
    "# Take input\n",
    "input_char = input()\n",
    "\n",
    "#Write your code here\n",
    "\n",
    "\n",
    "if len(input_char)==1:\n",
    "    ascii_val = ord(input_char)\n",
    "    previous_char = chr(ascii_val-1)\n",
    "    next_char = chr(ascii_val+1)\n",
    "    print(f'''{previous_char}\\n{next_char}''' )\n",
    "else:\n",
    "    \n",
    "    print('please enter valid char')"
   ]
  },
  {
   "cell_type": "code",
   "execution_count": 55,
   "id": "7567e015-d825-40b2-8696-6e3f4d6f6c5f",
   "metadata": {},
   "outputs": [
    {
     "name": "stdin",
     "output_type": "stream",
     "text": [
      " 9\n"
     ]
    },
    {
     "name": "stdout",
     "output_type": "stream",
     "text": [
      "9 * 1 = 9\n",
      "9 * 2 = 18\n",
      "9 * 3 = 27\n",
      "9 * 4 = 36\n",
      "9 * 5 = 45\n",
      "9 * 6 = 54\n",
      "9 * 7 = 63\n",
      "9 * 8 = 72\n",
      "9 * 9 = 81\n",
      "9 * 10 = 90\n"
     ]
    }
   ],
   "source": [
    "#Take input\n",
    "n=int(input())\n",
    "\n",
    "#write your code here\n",
    "i=1\n",
    "while i>0 and i<=10:\n",
    "    r=n*i\n",
    "    print(f'{n} * {i} = {r}')\n",
    "    i=i+1\n",
    "   "
   ]
  },
  {
   "cell_type": "code",
   "execution_count": 60,
   "id": "8a131fb6-4ab0-4807-bcc6-7beeb563268d",
   "metadata": {},
   "outputs": [
    {
     "name": "stdin",
     "output_type": "stream",
     "text": [
      " RAja\n",
      " A\n"
     ]
    },
    {
     "name": "stdout",
     "output_type": "stream",
     "text": [
      "A\n",
      "char  A\n",
      "char  a\n",
      "total occurance count 2\n"
     ]
    }
   ],
   "source": [
    "# Take input\n",
    "input_string=input()\n",
    "input_char=input()\n",
    "\n",
    "print(input_char.upper())\n",
    "#write your code here\n",
    "i=0\n",
    "for x in input_string:\n",
    "    if x.upper() == input_char.upper():\n",
    "        i=i+1\n",
    "        print('char ',x)\n",
    "\n",
    "print('total occurance count',i)"
   ]
  },
  {
   "cell_type": "code",
   "execution_count": 63,
   "id": "1cfe4447-6234-44fa-b0f4-0d58d8a2f416",
   "metadata": {},
   "outputs": [
    {
     "name": "stdin",
     "output_type": "stream",
     "text": [
      " 123\n"
     ]
    },
    {
     "name": "stdout",
     "output_type": "stream",
     "text": [
      "6\n"
     ]
    }
   ],
   "source": [
    "#Take input\n",
    "n=int(input())\n",
    "s= str(n)\n",
    "j=0\n",
    "# write your code here\n",
    "for i in s:\n",
    "    j=j+int(i)\n",
    "print(j)\n",
    "\n",
    "\n",
    "\n",
    "# print the results"
   ]
  },
  {
   "cell_type": "code",
   "execution_count": 67,
   "id": "c9d07c6b-8850-4dd6-bdb6-5348ec13348f",
   "metadata": {},
   "outputs": [
    {
     "name": "stdin",
     "output_type": "stream",
     "text": [
      " 120908\n"
     ]
    },
    {
     "name": "stdout",
     "output_type": "stream",
     "text": [
      "Number of odd digits: 2\n",
      "Number of non-zero even digits: 2\n",
      "Number of zeros: 2\n"
     ]
    }
   ],
   "source": [
    "# Take input\n",
    "n=int(input())\n",
    "\n",
    "#write your code here\n",
    "odd=0\n",
    "even=0\n",
    "zeros=0\n",
    "s=str(n)\n",
    "for i in s:\n",
    "    if int(i)%2==0 and int(i)!=0:\n",
    "        even=even+1\n",
    "    elif int(i)==0:\n",
    "        zeros=zeros+1\n",
    "    else:\n",
    "        odd=odd+1\n",
    "\n",
    "print(f'Number of odd digits: {odd}\\nNumber of non-zero even digits: {even}\\nNumber of zeros: {zeros}')\n",
    "    \n"
   ]
  },
  {
   "cell_type": "code",
   "execution_count": 72,
   "id": "78fc45a2-3b4c-4199-a49d-dc775db38e5d",
   "metadata": {},
   "outputs": [
    {
     "name": "stdin",
     "output_type": "stream",
     "text": [
      " Program IS Fun 123 all\n"
     ]
    },
    {
     "name": "stdout",
     "output_type": "stream",
     "text": [
      "pROGRAMisfUNALL\n"
     ]
    }
   ],
   "source": [
    "#Take input\n",
    "input_string=input()\n",
    "\n",
    "#write your code here\n",
    "\n",
    "s=''\n",
    "for char in input_string:\n",
    "    if char.isalpha():   # or char.isspace()\n",
    "        if char.islower():\n",
    "            s=s+char.upper()\n",
    "        else:\n",
    "            s=s+char.lower()\n",
    "\n",
    "print(s)"
   ]
  },
  {
   "cell_type": "code",
   "execution_count": null,
   "id": "13cbb52e-f367-4b82-84e5-3c3d09127574",
   "metadata": {},
   "outputs": [],
   "source": []
  }
 ],
 "metadata": {
  "kernelspec": {
   "display_name": "Python 3 (ipykernel)",
   "language": "python",
   "name": "python3"
  },
  "language_info": {
   "codemirror_mode": {
    "name": "ipython",
    "version": 3
   },
   "file_extension": ".py",
   "mimetype": "text/x-python",
   "name": "python",
   "nbconvert_exporter": "python",
   "pygments_lexer": "ipython3",
   "version": "3.11.7"
  }
 },
 "nbformat": 4,
 "nbformat_minor": 5
}
