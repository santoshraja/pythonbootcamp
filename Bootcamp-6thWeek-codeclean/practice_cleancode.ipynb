{
 "cells": [
  {
   "cell_type": "code",
   "execution_count": 2,
   "id": "d0cde697-a96f-4ee7-94d6-eefe2cf88015",
   "metadata": {},
   "outputs": [
    {
     "name": "stdout",
     "output_type": "stream",
     "text": [
      "It Worked!\n"
     ]
    }
   ],
   "source": [
    "scores, average_score, highest_score = [12, 18, 15, 16], 15.25# Line_1\n",
    "print(\"It Worked!\") # Line_2"
   ]
  },
  {
   "cell_type": "code",
   "execution_count": 3,
   "id": "2c206e46-a915-4f20-a19d-1cdc81d58802",
   "metadata": {},
   "outputs": [
    {
     "name": "stdout",
     "output_type": "stream",
     "text": [
      "False\n"
     ]
    }
   ],
   "source": [
    "numbers = [12, 22, 33.66, 44, 77.8]\n",
    "output = all(type(value) == \"int\" for value in numbers)\n",
    "print(output)"
   ]
  },
  {
   "cell_type": "code",
   "execution_count": 4,
   "id": "5aa6b0dd-ba73-4548-b9b2-44ae80a3c96c",
   "metadata": {},
   "outputs": [],
   "source": [
    "cube_list = []\n",
    "num_list = [12, 27, 33, 44, 55]\n",
    "\n",
    "for value in num_list:\n",
    "    if value % 2 == 0:\n",
    "        cube_list.append(value ** 3)"
   ]
  },
  {
   "cell_type": "code",
   "execution_count": 5,
   "id": "05653775-93f4-4563-8888-1c22961dc92f",
   "metadata": {},
   "outputs": [
    {
     "data": {
      "text/plain": [
       "[1728, 85184]"
      ]
     },
     "execution_count": 5,
     "metadata": {},
     "output_type": "execute_result"
    }
   ],
   "source": [
    "#list comprehesion , optimization\n",
    "num_list = [12, 27, 33, 44, 55]\n",
    "cube_list = [value ** 3 for value in num_list if value % 2 == 0]\n",
    "cube_list"
   ]
  },
  {
   "cell_type": "code",
   "execution_count": 6,
   "id": "56460899-2856-4a69-8fc9-a73423b7e9d8",
   "metadata": {},
   "outputs": [
    {
     "name": "stdout",
     "output_type": "stream",
     "text": [
      "Adult\n",
      "Teenager\n"
     ]
    }
   ],
   "source": [
    "output = lambda x: 'Adult' if x > 18 else 'Teenager' \n",
    "\n",
    "print(output(22)) # function_call_1\n",
    "print(output(15)) # function_call_2"
   ]
  },
  {
   "cell_type": "code",
   "execution_count": 7,
   "id": "107a5a6d-aee9-4f8e-bf6c-a043bfd414e7",
   "metadata": {},
   "outputs": [
    {
     "name": "stdout",
     "output_type": "stream",
     "text": [
      "For loops: 84.80423498153687\n",
      "List Comprehension: 689.9586224555969\n"
     ]
    }
   ],
   "source": [
    "import time\n",
    "sqrd_numbers = []\n",
    "\n",
    "# Case_1\n",
    "start_time = time.time()\n",
    "for i in range(100000000):\n",
    "    sqrd_numbers.append(i ** 2)\n",
    "print('For loops: {}'.format(time.time() - start_time))\n",
    "\n",
    "sqrd_number = []\n",
    "\n",
    "# Case_2\n",
    "start_time = time.time()\n",
    "sqrd_number_2 = [(i ** 2) for i in range(100000000)]\n",
    "print('List Comprehension: {}'.format(time.time() - start_time))"
   ]
  },
  {
   "cell_type": "code",
   "execution_count": null,
   "id": "6b3f9388-3f90-4d84-8b73-a248d1dc5b2d",
   "metadata": {},
   "outputs": [],
   "source": [
    "import pandas as pd\n",
    "help(pd)"
   ]
  },
  {
   "cell_type": "code",
   "execution_count": null,
   "id": "160dcfe7-45c6-403a-b718-56adff8c112b",
   "metadata": {},
   "outputs": [],
   "source": []
  }
 ],
 "metadata": {
  "kernelspec": {
   "display_name": "Python 3 (ipykernel)",
   "language": "python",
   "name": "python3"
  },
  "language_info": {
   "codemirror_mode": {
    "name": "ipython",
    "version": 3
   },
   "file_extension": ".py",
   "mimetype": "text/x-python",
   "name": "python",
   "nbconvert_exporter": "python",
   "pygments_lexer": "ipython3",
   "version": "3.11.7"
  }
 },
 "nbformat": 4,
 "nbformat_minor": 5
}
