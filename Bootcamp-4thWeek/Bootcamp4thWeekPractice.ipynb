{
 "cells": [
  {
   "cell_type": "markdown",
   "id": "94eff4cf-f984-40f1-9176-a23977281273",
   "metadata": {},
   "source": [
    "<font color='red'/>BootCamp 4th week -numpy- 20/04/2024 - 4:00 - 7:00 pm"
   ]
  },
  {
   "cell_type": "code",
   "execution_count": 4,
   "id": "52ebdb98-7ebe-4218-90e4-e175afe1c0b7",
   "metadata": {},
   "outputs": [
    {
     "name": "stdout",
     "output_type": "stream",
     "text": [
      "<class 'list'>\n",
      "[1, 2, 3, 4, 5]\n",
      "<class 'numpy.ndarray'>\n",
      "[1 2 3 4 5]\n"
     ]
    }
   ],
   "source": [
    "import numpy as np\n",
    "\n",
    "mylist = [1,2,3,4,5]\n",
    "print(type(mylist))\n",
    "print(mylist)\n",
    "np_arr = np.array(mylist)\n",
    "print(type(np_arr))\n",
    "print(np_arr)"
   ]
  },
  {
   "cell_type": "code",
   "execution_count": 14,
   "id": "aed71e5a-fa34-447e-a622-a39c5a49717c",
   "metadata": {},
   "outputs": [
    {
     "name": "stdout",
     "output_type": "stream",
     "text": [
      "[     0      1      2 ... 999997 999998 999999]\n",
      "[     0      1      2 ... 999997 999998 999999]\n",
      "time taken numpy:  6.949186325073242 ms\n",
      "time taken list:  0.0 ms\n"
     ]
    }
   ],
   "source": [
    "import time as time\n",
    "size = 1000000 \n",
    "l1 = range(size) # 0, 1, 2...... \n",
    "l2 = range(size) # 0, 1, 2 \n",
    "ar1 = np.arange(size)\n",
    "print(ar1)\n",
    "ar2 = np.arange(size)\n",
    "print(ar2)\n",
    "start1 = time.time() \n",
    "result2 = ar1+ar2 \n",
    "stop1 = time.time() \n",
    "start2 = time.time() \n",
    "result3 = l1,l2\n",
    "stop2 = time.time()\n",
    "print(\"time taken numpy: \", (stop1-start1)*1000, 'ms')\n",
    "print(\"time taken list: \", (stop2-start2)*1000, 'ms')"
   ]
  },
  {
   "cell_type": "code",
   "execution_count": 17,
   "id": "5e64b676-4b66-4732-b801-0cd292b0ee78",
   "metadata": {},
   "outputs": [],
   "source": [
    "my_list = [[[1,2,3],\n",
    "            [4,5,6],\n",
    "            [7,8,9]]]\n",
    "c = np.array(my_list)"
   ]
  },
  {
   "cell_type": "code",
   "execution_count": 19,
   "id": "aed906f1-4041-4c37-bf25-b1374d19e305",
   "metadata": {},
   "outputs": [
    {
     "data": {
      "text/plain": [
       "(1, 3, 3)"
      ]
     },
     "execution_count": 19,
     "metadata": {},
     "output_type": "execute_result"
    }
   ],
   "source": [
    "c.shape\n"
   ]
  },
  {
   "cell_type": "code",
   "execution_count": 20,
   "id": "b5d5aa53-2742-4174-b4c1-3d0f575244da",
   "metadata": {},
   "outputs": [
    {
     "data": {
      "text/plain": [
       "3"
      ]
     },
     "execution_count": 20,
     "metadata": {},
     "output_type": "execute_result"
    }
   ],
   "source": [
    "c.ndim"
   ]
  },
  {
   "cell_type": "code",
   "execution_count": 21,
   "id": "9ecba0af-0a1d-4341-a8c8-3a6ec6e3efdc",
   "metadata": {},
   "outputs": [
    {
     "data": {
      "text/plain": [
       "array([[[1, 2, 3],\n",
       "        [4, 5, 6],\n",
       "        [7, 8, 9]]])"
      ]
     },
     "execution_count": 21,
     "metadata": {},
     "output_type": "execute_result"
    }
   ],
   "source": [
    "c\n"
   ]
  },
  {
   "cell_type": "code",
   "execution_count": 22,
   "id": "0f770c23-42d0-41b8-9c9c-71072abeb909",
   "metadata": {},
   "outputs": [
    {
     "data": {
      "text/plain": [
       "6"
      ]
     },
     "execution_count": 22,
     "metadata": {},
     "output_type": "execute_result"
    }
   ],
   "source": [
    "c[0][1][2]"
   ]
  },
  {
   "cell_type": "code",
   "execution_count": 23,
   "id": "0a892fbc-a321-4d7a-8715-18308912ee9c",
   "metadata": {},
   "outputs": [
    {
     "ename": "IndexError",
     "evalue": "index 1 is out of bounds for axis 0 with size 1",
     "output_type": "error",
     "traceback": [
      "\u001b[1;31m---------------------------------------------------------------------------\u001b[0m",
      "\u001b[1;31mIndexError\u001b[0m                                Traceback (most recent call last)",
      "Cell \u001b[1;32mIn[23], line 1\u001b[0m\n\u001b[1;32m----> 1\u001b[0m c[\u001b[38;5;241m1\u001b[39m]\n",
      "\u001b[1;31mIndexError\u001b[0m: index 1 is out of bounds for axis 0 with size 1"
     ]
    }
   ],
   "source": [
    "c[1]"
   ]
  },
  {
   "cell_type": "code",
   "execution_count": 24,
   "id": "a9c9be5a-3e40-44a7-a756-30ec0d448ec8",
   "metadata": {},
   "outputs": [
    {
     "data": {
      "text/plain": [
       "array([[[1, 2, 3],\n",
       "        [4, 5, 6],\n",
       "        [7, 8, 9]]])"
      ]
     },
     "execution_count": 24,
     "metadata": {},
     "output_type": "execute_result"
    }
   ],
   "source": [
    "c\n"
   ]
  },
  {
   "cell_type": "code",
   "execution_count": 25,
   "id": "a6fded9b-c6b8-405c-b6ab-ec3297792c4a",
   "metadata": {},
   "outputs": [
    {
     "data": {
      "text/plain": [
       "array([[4, 5, 6],\n",
       "       [7, 8, 9]])"
      ]
     },
     "execution_count": 25,
     "metadata": {},
     "output_type": "execute_result"
    }
   ],
   "source": [
    "c[0,1:]"
   ]
  },
  {
   "cell_type": "code",
   "execution_count": 26,
   "id": "868ae37f-782c-4d4f-8280-6a046cd12933",
   "metadata": {},
   "outputs": [
    {
     "data": {
      "text/plain": [
       "array([4, 5, 6])"
      ]
     },
     "execution_count": 26,
     "metadata": {},
     "output_type": "execute_result"
    }
   ],
   "source": [
    "c[0,1,:]"
   ]
  },
  {
   "cell_type": "code",
   "execution_count": 27,
   "id": "3e6dcfb1-e318-41eb-912e-4f448e8904ce",
   "metadata": {},
   "outputs": [
    {
     "data": {
      "text/plain": [
       "6"
      ]
     },
     "execution_count": 27,
     "metadata": {},
     "output_type": "execute_result"
    }
   ],
   "source": [
    "c[0,1,2]"
   ]
  },
  {
   "cell_type": "code",
   "execution_count": 28,
   "id": "df95d9e6-7203-457e-8d1c-34e9a472384b",
   "metadata": {},
   "outputs": [
    {
     "data": {
      "text/plain": [
       "9"
      ]
     },
     "execution_count": 28,
     "metadata": {},
     "output_type": "execute_result"
    }
   ],
   "source": [
    "c[0,2,2]"
   ]
  },
  {
   "cell_type": "code",
   "execution_count": 29,
   "id": "67adc178-f9f3-4a00-9205-82c73cc59cd8",
   "metadata": {},
   "outputs": [],
   "source": [
    "##Statistical operations"
   ]
  },
  {
   "cell_type": "code",
   "execution_count": 30,
   "id": "077f54b0-1fe5-4296-bd4c-47dfae853385",
   "metadata": {},
   "outputs": [
    {
     "data": {
      "text/plain": [
       "array([[ 1.,  2.,  3.,  4.],\n",
       "       [ 5.,  6.,  7.,  8.],\n",
       "       [ 9., 10., 11., 12.]])"
      ]
     },
     "execution_count": 30,
     "metadata": {},
     "output_type": "execute_result"
    }
   ],
   "source": [
    "arr1 = np.array([[1,2,3,4],[5,6,7,8],[9,10,11,12]],dtype='float')\n",
    "arr1"
   ]
  },
  {
   "cell_type": "code",
   "execution_count": 31,
   "id": "58d00d36-0a94-4e6c-bf19-92c2e488dbe1",
   "metadata": {},
   "outputs": [
    {
     "name": "stdout",
     "output_type": "stream",
     "text": [
      "mean 6.5\n",
      "max 12.0\n",
      "min 1.0\n",
      "sum 78.0\n"
     ]
    }
   ],
   "source": [
    "print('mean',arr1.mean())\n",
    "print('max',arr1.max())\n",
    "print('min',arr1.min())\n",
    "print('sum',arr1.sum())\n"
   ]
  },
  {
   "cell_type": "code",
   "execution_count": 33,
   "id": "a05188e1-feb4-4ffb-bcff-0fa16353bf6e",
   "metadata": {},
   "outputs": [
    {
     "name": "stdout",
     "output_type": "stream",
     "text": [
      "column wise min [1. 2. 3. 4.]\n",
      "row wise min [1. 5. 9.]\n",
      "clumn wise max [ 9. 10. 11. 12.]\n",
      "row wise max [ 4.  8. 12.]\n",
      "clumn wise sum [15. 18. 21. 24.]\n",
      "row wise sum [10. 26. 42.]\n"
     ]
    }
   ],
   "source": [
    "print('column wise min',np.amin(arr1,axis=0))\n",
    "print('row wise min',np.amin(arr1,axis=1))\n",
    "\n",
    "print('clumn wise max',np.amax(arr1,axis=0))\n",
    "print('row wise max',np.amax(arr1,axis=1))\n",
    "      \n",
    "print('clumn wise sum',np.sum(arr1,axis=0))\n",
    "print('row wise sum',np.sum(arr1,axis=1))"
   ]
  },
  {
   "cell_type": "code",
   "execution_count": 34,
   "id": "5db9f3c8-00af-4be3-bdef-92233864d0f0",
   "metadata": {},
   "outputs": [],
   "source": [
    "dist = [180,170,135,191,250]\n",
    "time= [7,6,8,9,13]\n",
    "\n",
    "d_arr = np.array(dist)\n",
    "t_arr = np.array(time)\n",
    "\n",
    "s_arr = d_arr/t_arr"
   ]
  },
  {
   "cell_type": "code",
   "execution_count": 35,
   "id": "cc4e2c31-623a-442a-93f5-259244dd335e",
   "metadata": {},
   "outputs": [
    {
     "data": {
      "text/plain": [
       "array([25.71428571, 28.33333333, 16.875     , 21.22222222, 19.23076923])"
      ]
     },
     "execution_count": 35,
     "metadata": {},
     "output_type": "execute_result"
    }
   ],
   "source": [
    "s_arr"
   ]
  },
  {
   "cell_type": "code",
   "execution_count": 39,
   "id": "e7aa15c3-a680-45b0-99b0-d79317a48323",
   "metadata": {},
   "outputs": [
    {
     "data": {
      "text/plain": [
       "array([25.71428571, 28.33333333, 21.22222222])"
      ]
     },
     "execution_count": 39,
     "metadata": {},
     "output_type": "execute_result"
    }
   ],
   "source": [
    "# filtering an  array\n",
    "s_arr[s_arr >20]"
   ]
  },
  {
   "cell_type": "code",
   "execution_count": 43,
   "id": "3bbac5f4-5fce-4e5d-8e0f-ab9a89b6b1fa",
   "metadata": {},
   "outputs": [
    {
     "data": {
      "text/plain": [
       "array([1, 2, 3, 4, 5, 6, 7, 8, 9])"
      ]
     },
     "execution_count": 43,
     "metadata": {},
     "output_type": "execute_result"
    }
   ],
   "source": [
    "arr_2 = np.array([1,2,3,4,5,6,7,8,9])\n",
    "arr_2\n"
   ]
  },
  {
   "cell_type": "code",
   "execution_count": 44,
   "id": "16b17421-7a3e-49ee-bb0e-f9989edd402d",
   "metadata": {},
   "outputs": [
    {
     "data": {
      "text/plain": [
       "(9,)"
      ]
     },
     "execution_count": 44,
     "metadata": {},
     "output_type": "execute_result"
    }
   ],
   "source": [
    "arr_2.shape"
   ]
  },
  {
   "cell_type": "code",
   "execution_count": 46,
   "id": "9ef31fa2-1949-42bf-97ad-415eff742f69",
   "metadata": {},
   "outputs": [
    {
     "data": {
      "text/plain": [
       "array([[1, 2, 3],\n",
       "       [4, 5, 6],\n",
       "       [7, 8, 9]])"
      ]
     },
     "execution_count": 46,
     "metadata": {},
     "output_type": "execute_result"
    }
   ],
   "source": [
    "new_arr_2 = arr_2.reshape(3,3) ## 9 elements possiblities 3*3\n",
    "new_arr_2"
   ]
  },
  {
   "cell_type": "code",
   "execution_count": 47,
   "id": "4834f324-86fc-4124-af07-0bfa3505c54c",
   "metadata": {},
   "outputs": [
    {
     "ename": "ValueError",
     "evalue": "cannot reshape array of size 9 into shape (3,4)",
     "output_type": "error",
     "traceback": [
      "\u001b[1;31m---------------------------------------------------------------------------\u001b[0m",
      "\u001b[1;31mValueError\u001b[0m                                Traceback (most recent call last)",
      "Cell \u001b[1;32mIn[47], line 1\u001b[0m\n\u001b[1;32m----> 1\u001b[0m new_arr_2 \u001b[38;5;241m=\u001b[39m arr_2\u001b[38;5;241m.\u001b[39mreshape(\u001b[38;5;241m3\u001b[39m,\u001b[38;5;241m4\u001b[39m) \u001b[38;5;66;03m## 9 elements possiblities 3*3\u001b[39;00m\n\u001b[0;32m      2\u001b[0m new_arr_2\n",
      "\u001b[1;31mValueError\u001b[0m: cannot reshape array of size 9 into shape (3,4)"
     ]
    }
   ],
   "source": [
    "new_arr_2 = arr_2.reshape(3,4) ## 9 elements possiblities 3*3\n",
    "new_arr_2"
   ]
  },
  {
   "cell_type": "code",
   "execution_count": 48,
   "id": "232c4a15-64ce-401b-96c7-15799b4b479f",
   "metadata": {},
   "outputs": [
    {
     "ename": "ValueError",
     "evalue": "cannot reshape array of size 9 into shape (1,3)",
     "output_type": "error",
     "traceback": [
      "\u001b[1;31m---------------------------------------------------------------------------\u001b[0m",
      "\u001b[1;31mValueError\u001b[0m                                Traceback (most recent call last)",
      "Cell \u001b[1;32mIn[48], line 1\u001b[0m\n\u001b[1;32m----> 1\u001b[0m new_arr_2 \u001b[38;5;241m=\u001b[39m arr_2\u001b[38;5;241m.\u001b[39mreshape(\u001b[38;5;241m1\u001b[39m,\u001b[38;5;241m3\u001b[39m) \u001b[38;5;66;03m## 9 elements possiblities 3*3\u001b[39;00m\n\u001b[0;32m      2\u001b[0m new_arr_2\n",
      "\u001b[1;31mValueError\u001b[0m: cannot reshape array of size 9 into shape (1,3)"
     ]
    }
   ],
   "source": [
    "new_arr_2 = arr_2.reshape(1,3) ## 9 elements possiblities 3*3\n",
    "new_arr_2"
   ]
  },
  {
   "cell_type": "code",
   "execution_count": 49,
   "id": "8521663d-f3e7-4ea8-82ed-cabf0b072d1d",
   "metadata": {},
   "outputs": [
    {
     "data": {
      "text/plain": [
       "array([[1, 2, 3, 4, 5, 6, 7, 8, 9]])"
      ]
     },
     "execution_count": 49,
     "metadata": {},
     "output_type": "execute_result"
    }
   ],
   "source": [
    "new_arr_2 = arr_2.reshape(1,9) ## 9 elements possiblities 3*3\n",
    "new_arr_2"
   ]
  },
  {
   "cell_type": "code",
   "execution_count": 50,
   "id": "51ae78c4-919b-4cb5-b633-7460e7775615",
   "metadata": {},
   "outputs": [
    {
     "data": {
      "text/plain": [
       "array([[1],\n",
       "       [2],\n",
       "       [3],\n",
       "       [4],\n",
       "       [5],\n",
       "       [6],\n",
       "       [7],\n",
       "       [8],\n",
       "       [9]])"
      ]
     },
     "execution_count": 50,
     "metadata": {},
     "output_type": "execute_result"
    }
   ],
   "source": [
    "new_arr_2.T ## transpose to reverse the "
   ]
  },
  {
   "cell_type": "code",
   "execution_count": 52,
   "id": "d8522e5b-25ae-40cf-83e2-c3ea7ca56267",
   "metadata": {},
   "outputs": [
    {
     "data": {
      "text/plain": [
       "array([[1, 2, 3],\n",
       "       [4, 5, 6],\n",
       "       [7, 8, 9]])"
      ]
     },
     "execution_count": 52,
     "metadata": {},
     "output_type": "execute_result"
    }
   ],
   "source": [
    "new_arr_2 = arr_2.reshape(3,3) ## 9 elements possiblities 3*3\n",
    "new_arr_2\n"
   ]
  },
  {
   "cell_type": "code",
   "execution_count": 53,
   "id": "5e15061e-05fe-4f9d-894b-9ff70bf3b472",
   "metadata": {},
   "outputs": [
    {
     "data": {
      "text/plain": [
       "array([[1, 4, 7],\n",
       "       [2, 5, 8],\n",
       "       [3, 6, 9]])"
      ]
     },
     "execution_count": 53,
     "metadata": {},
     "output_type": "execute_result"
    }
   ],
   "source": [
    "new_arr_2.T"
   ]
  },
  {
   "cell_type": "code",
   "execution_count": 54,
   "id": "59e60ae4-9e7e-490a-9a5c-d5aae4867ed7",
   "metadata": {},
   "outputs": [
    {
     "data": {
      "text/plain": [
       "1.0"
      ]
     },
     "execution_count": 54,
     "metadata": {},
     "output_type": "execute_result"
    }
   ],
   "source": [
    "np.sin(np.pi/2)"
   ]
  },
  {
   "cell_type": "code",
   "execution_count": 55,
   "id": "134c0650-cb32-43dc-b8bc-2819ac61f860",
   "metadata": {},
   "outputs": [
    {
     "data": {
      "text/plain": [
       "-1.0"
      ]
     },
     "execution_count": 55,
     "metadata": {},
     "output_type": "execute_result"
    }
   ],
   "source": [
    "np.cos(np.pi)"
   ]
  },
  {
   "cell_type": "markdown",
   "id": "b9e354fb-84cd-4ba1-a051-8777f20b2c0b",
   "metadata": {},
   "source": [
    "## NUMPY Practice "
   ]
  },
  {
   "cell_type": "code",
   "execution_count": 2,
   "id": "1f6d8320-6391-49d5-83b9-e25a0266988c",
   "metadata": {},
   "outputs": [
    {
     "name": "stdout",
     "output_type": "stream",
     "text": [
      "<class 'numpy.ndarray'>\n"
     ]
    }
   ],
   "source": [
    "import numpy as np\n",
    "narr = np.array( [1.0, 2, 3.5, 0.2, True] )\n",
    "narr\n",
    "print(type(narr))"
   ]
  },
  {
   "cell_type": "code",
   "execution_count": 3,
   "id": "5b793d1a-3b06-47e6-9552-3c9665dc4e24",
   "metadata": {},
   "outputs": [
    {
     "name": "stdout",
     "output_type": "stream",
     "text": [
      "[1, 2, 3]\n"
     ]
    }
   ],
   "source": [
    "array_1 = [1,2,3,5,4,6,7,8,5,3,2]\n",
    "print(array_1[:3])"
   ]
  },
  {
   "cell_type": "code",
   "execution_count": 4,
   "id": "7ef1674d-eb13-467d-a12f-0a444e316228",
   "metadata": {},
   "outputs": [
    {
     "name": "stdout",
     "output_type": "stream",
     "text": [
      "[3, 5, 4, 6, 7, 8]\n"
     ]
    }
   ],
   "source": [
    "array_1 = [1,2,3,5,4,6,7,8,5,3,2]\n",
    "print(array_1[2:-3])"
   ]
  },
  {
   "cell_type": "code",
   "execution_count": 6,
   "id": "49157b10-7762-42f2-9d9d-8723259e5e7b",
   "metadata": {},
   "outputs": [
    {
     "name": "stdout",
     "output_type": "stream",
     "text": [
      "[2, 5, 7, 4, 3, 1]\n",
      "[2, 5, 6, 8, 3]\n"
     ]
    }
   ],
   "source": [
    "array_1 = [1,2,3,5,4,6,7,8,5,3,2]\n",
    "print(array_1[ : : -2])\n",
    "print(array_1[ 1: : 2])"
   ]
  },
  {
   "cell_type": "code",
   "execution_count": 20,
   "id": "3f57e9a8-3e85-4986-ba43-9010e9d0c75a",
   "metadata": {},
   "outputs": [
    {
     "name": "stdout",
     "output_type": "stream",
     "text": [
      "[1 2 3 5 4 6 7 8 5 3 2]\n",
      "[3 5 4 5 3]\n"
     ]
    }
   ],
   "source": [
    "array_1 = [1,2,3,5,4,6,7,8,5,3,2]\n",
    "import numpy as np\n",
    "numpy_arr = np.array(array_1)\n",
    "print(numpy_arr)\n",
    "m =2\n",
    "n=6\n",
    "result = numpy_arr[(numpy_arr > m) & (numpy_arr < n)]\n",
    "print(result)"
   ]
  },
  {
   "cell_type": "code",
   "execution_count": 2,
   "id": "fd255126-b8f8-430f-838f-e3151440d549",
   "metadata": {},
   "outputs": [
    {
     "name": "stdout",
     "output_type": "stream",
     "text": [
      "Help on function ones in module numpy:\n",
      "\n",
      "ones(shape, dtype=None, order='C', *, like=None)\n",
      "    Return a new array of given shape and type, filled with ones.\n",
      "    \n",
      "    Parameters\n",
      "    ----------\n",
      "    shape : int or sequence of ints\n",
      "        Shape of the new array, e.g., ``(2, 3)`` or ``2``.\n",
      "    dtype : data-type, optional\n",
      "        The desired data-type for the array, e.g., `numpy.int8`.  Default is\n",
      "        `numpy.float64`.\n",
      "    order : {'C', 'F'}, optional, default: C\n",
      "        Whether to store multi-dimensional data in row-major\n",
      "        (C-style) or column-major (Fortran-style) order in\n",
      "        memory.\n",
      "    like : array_like, optional\n",
      "        Reference object to allow the creation of arrays which are not\n",
      "        NumPy arrays. If an array-like passed in as ``like`` supports\n",
      "        the ``__array_function__`` protocol, the result will be defined\n",
      "        by it. In this case, it ensures the creation of an array object\n",
      "        compatible with that passed in via this argument.\n",
      "    \n",
      "        .. versionadded:: 1.20.0\n",
      "    \n",
      "    Returns\n",
      "    -------\n",
      "    out : ndarray\n",
      "        Array of ones with the given shape, dtype, and order.\n",
      "    \n",
      "    See Also\n",
      "    --------\n",
      "    ones_like : Return an array of ones with shape and type of input.\n",
      "    empty : Return a new uninitialized array.\n",
      "    zeros : Return a new array setting values to zero.\n",
      "    full : Return a new array of given shape filled with value.\n",
      "    \n",
      "    \n",
      "    Examples\n",
      "    --------\n",
      "    >>> np.ones(5)\n",
      "    array([1., 1., 1., 1., 1.])\n",
      "    \n",
      "    >>> np.ones((5,), dtype=int)\n",
      "    array([1, 1, 1, 1, 1])\n",
      "    \n",
      "    >>> np.ones((2, 1))\n",
      "    array([[1.],\n",
      "           [1.]])\n",
      "    \n",
      "    >>> s = (2,2)\n",
      "    >>> np.ones(s)\n",
      "    array([[1.,  1.],\n",
      "           [1.,  1.]])\n",
      "\n"
     ]
    }
   ],
   "source": [
    "import numpy as np\n",
    "help(np.ones)"
   ]
  },
  {
   "cell_type": "code",
   "execution_count": 3,
   "id": "4ebc532b-875f-49f9-906a-07be05db3145",
   "metadata": {},
   "outputs": [
    {
     "data": {
      "text/plain": [
       "array([1., 1., 1., 1., 1.])"
      ]
     },
     "execution_count": 3,
     "metadata": {},
     "output_type": "execute_result"
    }
   ],
   "source": [
    "np.ones(5)"
   ]
  },
  {
   "cell_type": "code",
   "execution_count": 5,
   "id": "6cef4dee-b82a-4838-8f39-6a65ded2d23e",
   "metadata": {},
   "outputs": [
    {
     "data": {
      "text/plain": [
       "array([[0, 0, 0],\n",
       "       [0, 0, 0],\n",
       "       [0, 0, 0],\n",
       "       [0, 0, 0],\n",
       "       [0, 0, 0]])"
      ]
     },
     "execution_count": 5,
     "metadata": {},
     "output_type": "execute_result"
    }
   ],
   "source": [
    "np.zeros((5,3),dtype='int')"
   ]
  },
  {
   "cell_type": "code",
   "execution_count": 6,
   "id": "a903ca2a-107c-4c53-95a5-b5f8929939ef",
   "metadata": {},
   "outputs": [
    {
     "data": {
      "text/plain": [
       "array([0, 1, 2, 3, 4])"
      ]
     },
     "execution_count": 6,
     "metadata": {},
     "output_type": "execute_result"
    }
   ],
   "source": [
    "np.arange(5) ## range of 5"
   ]
  },
  {
   "cell_type": "code",
   "execution_count": 7,
   "id": "214c6572-ea64-4490-b599-5ba5cf9a2a29",
   "metadata": {},
   "outputs": [
    {
     "data": {
      "text/plain": [
       "array([ 3,  7, 11, 15, 19, 23, 27, 31])"
      ]
     },
     "execution_count": 7,
     "metadata": {},
     "output_type": "execute_result"
    }
   ],
   "source": [
    "np.arange(3,35,4) ## starting point and exclude end point and steps increase"
   ]
  },
  {
   "cell_type": "code",
   "execution_count": 8,
   "id": "0df80166-02a4-405a-a592-8785b37f95dd",
   "metadata": {},
   "outputs": [
    {
     "data": {
      "text/plain": [
       "array([1, 1, 2, 1, 2, 2, 3, 2, 2, 2])"
      ]
     },
     "execution_count": 8,
     "metadata": {},
     "output_type": "execute_result"
    }
   ],
   "source": [
    "# random generator its inbuilt in numpy \n",
    "np.random.randint(1,4,size=10) ## it has lower and upper bound and size of the random numbers"
   ]
  },
  {
   "cell_type": "code",
   "execution_count": 9,
   "id": "36a7fa8c-b671-4377-bb16-d788aca0fc30",
   "metadata": {},
   "outputs": [
    {
     "data": {
      "text/plain": [
       "array([0, 1, 3, 2, 2, 2, 1, 0, 2, 1])"
      ]
     },
     "execution_count": 9,
     "metadata": {},
     "output_type": "execute_result"
    }
   ],
   "source": [
    "#if not given lower bound we can use only upper and lets see the resut\n",
    "np.random.randint(4,size=10)"
   ]
  },
  {
   "cell_type": "code",
   "execution_count": 12,
   "id": "ec84eaff-858a-4f95-ae0f-18f3551b77d4",
   "metadata": {},
   "outputs": [
    {
     "data": {
      "text/plain": [
       "array([0, 0, 0, 0, 0, 0, 0, 0, 0, 0])"
      ]
     },
     "execution_count": 12,
     "metadata": {},
     "output_type": "execute_result"
    }
   ],
   "source": [
    "np.random.randint(1,size=10) ## it will take atleaset one argument and >0 should be required"
   ]
  },
  {
   "cell_type": "code",
   "execution_count": 16,
   "id": "0b474fe3-eb50-4a85-a3c7-667edaa61192",
   "metadata": {},
   "outputs": [
    {
     "name": "stdout",
     "output_type": "stream",
     "text": [
      "[ 5 10 15 20 25 30 35 40 45 50]\n"
     ]
    }
   ],
   "source": [
    "import numpy as np\n",
    "array_multipleof5 = np.arange(5,55,5)\n",
    "\n",
    "print(array_multipleof5)"
   ]
  },
  {
   "cell_type": "code",
   "execution_count": 1,
   "id": "174efc10-e003-471c-8f76-d616a1e0eb6a",
   "metadata": {},
   "outputs": [
    {
     "name": "stdout",
     "output_type": "stream",
     "text": [
      "[[1 1 1 1]\n",
      " [1 0 0 1]\n",
      " [1 0 0 1]\n",
      " [1 1 1 1]]\n"
     ]
    }
   ],
   "source": [
    "n = 4\n",
    "\n",
    "import numpy as np\n",
    "\n",
    "# Create an 'n*n' array of all ones\n",
    "arr1 =np.ones((n,n),dtype='int')\n",
    "\n",
    "\n",
    "# Fill the array with zeroes from second index (i.e. index 1) to second last index.\n",
    "arr1[1:n-1,1:n-1]=0 # its working to fill with zeros except boarders\n",
    "print(arr1)\n",
    "# Do this for both row indices and column indices\n",
    "##np.full((arr1[1:n-1,1:n-1]),0,dtype='int') - not working\n",
    "# Print the array created"
   ]
  },
  {
   "cell_type": "code",
   "execution_count": 22,
   "id": "69d11889-17b4-472c-98ce-6f23eb197057",
   "metadata": {},
   "outputs": [
    {
     "name": "stdout",
     "output_type": "stream",
     "text": [
      "Help on function full in module numpy:\n",
      "\n",
      "full(shape, fill_value, dtype=None, order='C', *, like=None)\n",
      "    Return a new array of given shape and type, filled with `fill_value`.\n",
      "    \n",
      "    Parameters\n",
      "    ----------\n",
      "    shape : int or sequence of ints\n",
      "        Shape of the new array, e.g., ``(2, 3)`` or ``2``.\n",
      "    fill_value : scalar or array_like\n",
      "        Fill value.\n",
      "    dtype : data-type, optional\n",
      "        The desired data-type for the array  The default, None, means\n",
      "         ``np.array(fill_value).dtype``.\n",
      "    order : {'C', 'F'}, optional\n",
      "        Whether to store multidimensional data in C- or Fortran-contiguous\n",
      "        (row- or column-wise) order in memory.\n",
      "    like : array_like, optional\n",
      "        Reference object to allow the creation of arrays which are not\n",
      "        NumPy arrays. If an array-like passed in as ``like`` supports\n",
      "        the ``__array_function__`` protocol, the result will be defined\n",
      "        by it. In this case, it ensures the creation of an array object\n",
      "        compatible with that passed in via this argument.\n",
      "    \n",
      "        .. versionadded:: 1.20.0\n",
      "    \n",
      "    Returns\n",
      "    -------\n",
      "    out : ndarray\n",
      "        Array of `fill_value` with the given shape, dtype, and order.\n",
      "    \n",
      "    See Also\n",
      "    --------\n",
      "    full_like : Return a new array with shape of input filled with value.\n",
      "    empty : Return a new uninitialized array.\n",
      "    ones : Return a new array setting values to one.\n",
      "    zeros : Return a new array setting values to zero.\n",
      "    \n",
      "    Examples\n",
      "    --------\n",
      "    >>> np.full((2, 2), np.inf)\n",
      "    array([[inf, inf],\n",
      "           [inf, inf]])\n",
      "    >>> np.full((2, 2), 10)\n",
      "    array([[10, 10],\n",
      "           [10, 10]])\n",
      "    \n",
      "    >>> np.full((2, 2), [1, 2])\n",
      "    array([[1, 2],\n",
      "           [1, 2]])\n",
      "\n"
     ]
    }
   ],
   "source": [
    "\n",
    "#np.full(): It is used to create a constant array of any number ‘n’.\n",
    "#np.tile(): It is used to create a new array by repeating an existing array for a particular number of times.\n",
    "#np.eye(): It is used to create an identity matrix of any dimension\n",
    "\n",
    "help(np.full)"
   ]
  },
  {
   "cell_type": "markdown",
   "id": "2c6338bd-8d8f-4344-ba72-859df74eb073",
   "metadata": {},
   "source": [
    "hstack: It puts two arrays with the same number of rows together. By using this command, the number of rows stays the same, while the number of columns increases. \n",
    "vstack: It puts two arrays on top of each other. This command works only when the number of columns in both the arrays is the same. This command can only change the number rows of an array. \n",
    "reshape: It can change the shape of an array as long as the number of elements in the array before and after the reshape operation is the same. "
   ]
  },
  {
   "cell_type": "code",
   "execution_count": 49,
   "id": "ca2d1f0f-3d69-4b80-808d-f29a123f674b",
   "metadata": {},
   "outputs": [
    {
     "data": {
      "text/plain": [
       "array([[ 1,  2,  3, 10, 11, 12],\n",
       "       [ 4,  5,  6, 13, 14, 15]])"
      ]
     },
     "execution_count": 49,
     "metadata": {},
     "output_type": "execute_result"
    }
   ],
   "source": [
    "import numpy as np\n",
    "a = np.array([1,2,3,4,5,6])\n",
    "a = a.reshape(2,3)\n",
    "a2 = np.array([10,11,12,13,14,15])\n",
    "a2 = a2.reshape(2,3)\n",
    "np.vstack((a,a2))\n",
    "np.hstack((a,a2))"
   ]
  },
  {
   "cell_type": "code",
   "execution_count": 58,
   "id": "2ae5800c-f73c-403f-8de1-7533e9e7d2e2",
   "metadata": {},
   "outputs": [
    {
     "name": "stdout",
     "output_type": "stream",
     "text": [
      "[[  0   1   2   3   4   5   6   7   8   9  10  11]\n",
      " [ 12  13  14  15  16  17  18  19  20  21  22  23]\n",
      " [ 24  25  26  27  28  29  30  31  32  33  34  35]\n",
      " [ 36  37  38  39  40  41  42  43  44  45  46  47]\n",
      " [ 48  49  50  51  52  53  54  55  56  57  58  59]\n",
      " [ 60  61  62  63  64  65  66  67  68  69  70  71]\n",
      " [ 72  73  74  75  76  77  78  79  80  81  82  83]\n",
      " [ 84  85  86  87  88  89  90  91  92  93  94  95]\n",
      " [ 96  97  98  99 100 101 102 103 104 105 106 107]\n",
      " [108 109 110 111 112 113 114 115 116 117 118 119]\n",
      " [120 121 122 123 124 125 126 127 128 129 130 131]]\n",
      "(11, 12)\n",
      "[  0   1   2   3   4   5   6   7   8   9  10  11  12  13  14  15  16  17\n",
      "  18  19  20  21  22  23  24  25  26  27  28  29  30  31  32  33  34  35\n",
      "  36  37  38  39  40  41  42  43  44  45  46  47  48  49  50  51  52  53\n",
      "  54  55  56  57  58  59  60  61  62  63  64  65  66  67  68  69  70  71\n",
      "  72  73  74  75  76  77  78  79  80  81  82  83  84  85  86  87  88  89\n",
      "  90  91  92  93  94  95  96  97  98  99 100 101 102 103 104 105 106 107\n",
      " 108 109 110 111 112 113 114 115 116 117 118 119 120 121 122 123 124 125\n",
      " 126 127 128 129 130 131]\n",
      "(8, 4)\n"
     ]
    }
   ],
   "source": [
    "#Consider an (11,12) shape array. What is the index (x,y) of the 100th element?\n",
    "#Note: For counting the elements, go row-wise. For example, in the array:\n",
    "import numpy as np\n",
    "arr = np.arange(132)\n",
    "n=100\n",
    "#print(arr)\n",
    "arr = arr.reshape(11,12)\n",
    "print(arr)\n",
    "print(np.shape(arr))\n",
    "# Flatten the array\n",
    "arr_flattened = arr.ravel()\n",
    "print(arr_flattened)\n",
    "# Find the indices of the nth element\n",
    "indices = np.unravel_index(n-1, np.shape(arr))\n",
    "print(indices)\n",
    "\n",
    "##Upgrade solution\n",
    "#You can create an 11 x 12 array using np.array(range(1, 11*12+1)). You can reshape it to an (11 x 12) array and then check the position of 100. Be clear that the indexing starts from 0; hence, the 9th row will have the index 8.\n",
    "#Alternatively, you can also use np.unravel_index(99, (11,12)) on the created array.\n",
    "\n",
    "."
   ]
  },
  {
   "cell_type": "code",
   "execution_count": 55,
   "id": "76931cbc-2482-4a47-936f-e67f451babde",
   "metadata": {},
   "outputs": [
    {
     "data": {
      "text/plain": [
       "array([  0,   1,   2,   3,   4,   5,   6,   7,   8,   9,  10,  11,  12,\n",
       "        13,  14,  15,  16,  17,  18,  19,  20,  21,  22,  23,  24,  25,\n",
       "        26,  27,  28,  29,  30,  31,  32,  33,  34,  35,  36,  37,  38,\n",
       "        39,  40,  41,  42,  43,  44,  45,  46,  47,  48,  49,  50,  51,\n",
       "        52,  53,  54,  55,  56,  57,  58,  59,  60,  61,  62,  63,  64,\n",
       "        65,  66,  67,  68,  69,  70,  71,  72,  73,  74,  75,  76,  77,\n",
       "        78,  79,  80,  81,  82,  83,  84,  85,  86,  87,  88,  89,  90,\n",
       "        91,  92,  93,  94,  95,  96,  97,  98,  99, 100, 101, 102, 103,\n",
       "       104, 105, 106, 107, 108, 109, 110, 111, 112, 113, 114, 115, 116,\n",
       "       117, 118, 119, 120, 121, 122, 123, 124, 125, 126, 127, 128, 129,\n",
       "       130, 131])"
      ]
     },
     "execution_count": 55,
     "metadata": {},
     "output_type": "execute_result"
    }
   ],
   "source": [
    "arr12 = np.hstack(arr)"
   ]
  },
  {
   "cell_type": "code",
   "execution_count": 59,
   "id": "5cea8770-8d60-41b8-8304-13861a570845",
   "metadata": {},
   "outputs": [
    {
     "data": {
      "text/plain": [
       "array([1, 5, 3, 7, 4, 9])"
      ]
     },
     "execution_count": 59,
     "metadata": {},
     "output_type": "execute_result"
    }
   ],
   "source": [
    "import numpy as np\n",
    "p = [[1, 5],\n",
    " [3, 7],\n",
    " [4, 9]]\n",
    "np.reshape(p,-1)\n",
    "##reshape() function returns a 1-D array when you specify the shape as -1."
   ]
  },
  {
   "cell_type": "code",
   "execution_count": 78,
   "id": "216c7f94-c579-4efd-9f55-d9432114ef66",
   "metadata": {},
   "outputs": [
    {
     "name": "stdout",
     "output_type": "stream",
     "text": [
      "[ 1  3  5  7  9 11 13 15 17 19]\n",
      "[[ 2  4]\n",
      " [ 6  8]\n",
      " [10 12]\n",
      " [14 16]\n",
      " [18 20]]\n",
      "[[ 1  3]\n",
      " [ 5  7]\n",
      " [ 9 11]\n",
      " [13 15]\n",
      " [17 19]]\n"
     ]
    }
   ],
   "source": [
    "import numpy as np\n",
    "\n",
    "p = [[1, 2, 3, 4, 5],\n",
    " [6, 7, 8, 9, 10],\n",
    " [11, 12, 13, 14, 15],\n",
    " [16, 17, 18, 19, 20]]\n",
    "array_1= np.array(p)\n",
    "# alterative way to find solution\n",
    "#print(array_1[array_1%2 != 0].reshape(5, 2))"
   ]
  },
  {
   "cell_type": "code",
   "execution_count": 68,
   "id": "e1be0c0e-b942-464a-972c-04a11c6aeece",
   "metadata": {},
   "outputs": [
    {
     "data": {
      "text/plain": [
       "array([ 1,  2,  3,  4,  5,  6,  7,  8,  9, 10, 11, 12, 13, 14, 15, 16, 17,\n",
       "       18, 19, 20])"
      ]
     },
     "execution_count": 68,
     "metadata": {},
     "output_type": "execute_result"
    }
   ],
   "source": [
    "p1 = np.reshape(p,-1)\n",
    "p1"
   ]
  },
  {
   "cell_type": "code",
   "execution_count": 74,
   "id": "15402353-7d7a-4ac5-8f7e-d3e4344354e7",
   "metadata": {},
   "outputs": [
    {
     "data": {
      "text/plain": [
       "array([[ 1,  3],\n",
       "       [ 5,  7],\n",
       "       [ 9, 11],\n",
       "       [13, 15],\n",
       "       [17, 19]])"
      ]
     },
     "execution_count": 74,
     "metadata": {},
     "output_type": "execute_result"
    }
   ],
   "source": [
    "p2 =p1[: : 2]\n",
    "p2.reshape(5,2)"
   ]
  },
  {
   "cell_type": "code",
   "execution_count": 79,
   "id": "a22c5c20-ddf2-47fb-b273-c390984eb4d3",
   "metadata": {},
   "outputs": [
    {
     "data": {
      "text/plain": [
       "array([[1, 5, 3, 7, 4, 9]])"
      ]
     },
     "execution_count": 79,
     "metadata": {},
     "output_type": "execute_result"
    }
   ],
   "source": [
    "p = [[1, 5],\n",
    " [3, 7],\n",
    " [4, 9]]\n",
    "np.reshape(p, (1, -1))"
   ]
  },
  {
   "cell_type": "code",
   "execution_count": 27,
   "id": "d710691d-8eb4-482c-a836-4f4ccbf9d952",
   "metadata": {},
   "outputs": [
    {
     "data": {
      "text/plain": [
       "array([[ 7, 13, 14],\n",
       "       [18, 10, 17],\n",
       "       [11, 12, 19],\n",
       "       [16,  6,  1]])"
      ]
     },
     "execution_count": 27,
     "metadata": {},
     "output_type": "execute_result"
    }
   ],
   "source": [
    "import numpy as np\n",
    "\n",
    "arr1 = [[7, 13, 14],\n",
    "\n",
    "[18, 10, 17],\n",
    "\n",
    "[11, 12, 19]]\n",
    "\n",
    "arr2 = [16, 6, 1]\n",
    "arr3 = np.array([[5, 8, 4, 3]])\n",
    "arr3_1 = arr3.T\n",
    "arr4 = np.vstack((arr1,arr2))\n",
    "arr4"
   ]
  },
  {
   "cell_type": "code",
   "execution_count": 29,
   "id": "4c340802-9b2f-428c-b027-98a5e5b19681",
   "metadata": {},
   "outputs": [
    {
     "name": "stdout",
     "output_type": "stream",
     "text": [
      "[[5]\n",
      " [8]\n",
      " [4]\n",
      " [3]]\n",
      "[[ 7 13 14  5]\n",
      " [18 10 17  8]\n",
      " [11 12 19  4]\n",
      " [16  6  1  3]]\n"
     ]
    }
   ],
   "source": [
    "arr_flattened = arr4.ravel()\n",
    "\n",
    "#print(arr4)\n",
    "print(arr3_1)\n",
    "arr5 = np.concatenate((arr4, arr3_1),axis=1)\n",
    "print(arr5)\n",
    "#np.transpose(arr5)\n",
    "#arr5.reshape(4,4)"
   ]
  },
  {
   "cell_type": "code",
   "execution_count": 2,
   "id": "c7316ab1-b83a-4ac8-a893-5252dbf32e94",
   "metadata": {},
   "outputs": [
    {
     "data": {
      "text/plain": [
       "array([[1, 0, 0, 1]])"
      ]
     },
     "execution_count": 2,
     "metadata": {},
     "output_type": "execute_result"
    }
   ],
   "source": [
    "#What will the output of np.eye(2, dtype = int).reshape(4, 1).T be?\n",
    "import numpy as np\n",
    "np.eye(2, dtype = int).reshape(4, 1).T"
   ]
  },
  {
   "cell_type": "code",
   "execution_count": 3,
   "id": "58405c95-5e9a-46c4-8555-edd90221b2d8",
   "metadata": {},
   "outputs": [
    {
     "data": {
      "text/plain": [
       "array([ 1,  2,  3,  4,  5,  6,  7,  8,  9, 10])"
      ]
     },
     "execution_count": 3,
     "metadata": {},
     "output_type": "execute_result"
    }
   ],
   "source": [
    "import numpy as np\n",
    "a = np.arange(10)\n",
    "f = np.vectorize(lambda x: x+1)\n",
    "f(a)\n",
    "\n",
    "#np.arange(10) returns the array [0, 1, 2, 3, 4, 5, 6, 7, 8, 9]. \n",
    "#The lambda function then adds one to every element when applied to the array. Hence, the final output becomes:\n",
    "#[1, 2, 3, 4, 5, 6, 7, 8, 9, 10]"
   ]
  },
  {
   "cell_type": "code",
   "execution_count": 4,
   "id": "f1539dfc-897a-4f06-a9cb-dc489fc6982a",
   "metadata": {},
   "outputs": [
    {
     "data": {
      "text/plain": [
       "array([[ True,  True],\n",
       "       [ True,  True]])"
      ]
     },
     "execution_count": 4,
     "metadata": {},
     "output_type": "execute_result"
    }
   ],
   "source": [
    "np.full((2,2), 1) == np.ones((2,2))"
   ]
  },
  {
   "cell_type": "code",
   "execution_count": 5,
   "id": "c8ea929d-8fd4-4491-bbbc-c7099852b846",
   "metadata": {},
   "outputs": [
    {
     "name": "stdout",
     "output_type": "stream",
     "text": [
      "8.5\n"
     ]
    }
   ],
   "source": [
    "import numpy as np\n",
    "a = np.array( [7, 10, 2, 4, 13, 16])\n",
    "med = np.percentile(a, 50)\n",
    "print(med)"
   ]
  },
  {
   "cell_type": "code",
   "execution_count": 8,
   "id": "4fffe314-f231-4125-bb40-c03d3d94e661",
   "metadata": {},
   "outputs": [
    {
     "data": {
      "text/plain": [
       "array([9, 8, 7, 6, 5, 4])"
      ]
     },
     "execution_count": 8,
     "metadata": {},
     "output_type": "execute_result"
    }
   ],
   "source": [
    "in_list = [[9,8,7],[6,5,4],[3,2,1]]\n",
    "import numpy as np\n",
    "np_arr1 = np.array(in_list)\n",
    "np_arr1[np_arr1[: :]>3]"
   ]
  },
  {
   "cell_type": "code",
   "execution_count": 11,
   "id": "b706a075-94ab-4a8f-adeb-16aec8892a2e",
   "metadata": {},
   "outputs": [
    {
     "name": "stdout",
     "output_type": "stream",
     "text": [
      "50.6\n"
     ]
    }
   ],
   "source": [
    "import numpy as np\n",
    "input = [11,22,33,44,55,66,77]\n",
    "np_in = np.array(input)\n",
    "percentile_60 = np.percentile(np_in, 60)\n",
    "percentile_60_rounded = round(percentile_60, 2)\n",
    "print(percentile_60_rounded)"
   ]
  },
  {
   "cell_type": "code",
   "execution_count": 14,
   "id": "a6a4231d-0b1a-46ce-bddf-ad3eef681812",
   "metadata": {},
   "outputs": [
    {
     "name": "stdout",
     "output_type": "stream",
     "text": [
      "Mean: 7.5, Variance: 20, Standard Deviation: 4.76\n"
     ]
    }
   ],
   "source": [
    "import statistics\n",
    "\n",
    "def calculate_stats(n):\n",
    "    numbers = list(range(n))\n",
    "    numbers1 = list(range(n-1))\n",
    "    mean = round(statistics.mean(numbers), 2)\n",
    "    variance = round(statistics.variance(numbers1), 2)\n",
    "    std_dev = round(statistics.stdev(numbers), 2)\n",
    "    return mean, variance, std_dev\n",
    "\n",
    "# Example usage\n",
    "n = 16\n",
    "mean, variance, std_dev = calculate_stats(n)\n",
    "print(f\"Mean: {mean}, Variance: {variance}, Standard Deviation: {std_dev}\")\n"
   ]
  },
  {
   "cell_type": "code",
   "execution_count": 17,
   "id": "c8fb00a3-c600-4f53-879c-88b860c0500a",
   "metadata": {},
   "outputs": [
    {
     "name": "stdout",
     "output_type": "stream",
     "text": [
      "7.5\n"
     ]
    }
   ],
   "source": [
    "import numpy as np\n",
    "\n",
    "def calculate_mean(n):\n",
    "    numbers = np.arange(n)\n",
    "    mean = np.mean(numbers)\n",
    "    return round(mean, 2)\n",
    "\n",
    "# Example usage\n",
    "n = 16\n",
    "mean = calculate_mean(n)\n",
    "print(mean)"
   ]
  },
  {
   "cell_type": "code",
   "execution_count": 19,
   "id": "0d8fc240-f962-4094-b68f-a2be0c6b2568",
   "metadata": {},
   "outputs": [
    {
     "name": "stdout",
     "output_type": "stream",
     "text": [
      "Standard deviation of numbers from 0 to 15: 4.61\n"
     ]
    }
   ],
   "source": [
    "import numpy as np\n",
    "\n",
    "def calculate_std_dev(n):\n",
    "    numbers = np.arange(n)\n",
    "    std_dev = np.std(numbers)\n",
    "    return round(std_dev, 2)\n",
    "\n",
    "# Example usage\n",
    "n = 16\n",
    "std_dev = calculate_std_dev(n)\n",
    "print(f\"Standard deviation of numbers from 0 to {n-1}: {std_dev}\")"
   ]
  },
  {
   "cell_type": "code",
   "execution_count": 21,
   "id": "839d6c22-56c9-446e-a5fb-ae8fe6f1e18e",
   "metadata": {},
   "outputs": [
    {
     "name": "stdout",
     "output_type": "stream",
     "text": [
      "Variance of numbers from 0 to 15: 21.25\n"
     ]
    }
   ],
   "source": [
    "import numpy as np\n",
    "\n",
    "def calculate_variance(n):\n",
    "    numbers = np.arange(n)\n",
    "    variance = np.var(numbers)\n",
    "    return round(variance, 2)\n",
    "\n",
    "# Example usage\n",
    "n = 16\n",
    "variance = calculate_variance(n)\n",
    "print(f\"Variance of numbers from 0 to {n-1}: {variance}\")"
   ]
  },
  {
   "cell_type": "code",
   "execution_count": 46,
   "id": "8e5b5617-38bc-4480-8fff-384c02af7852",
   "metadata": {},
   "outputs": [
    {
     "name": "stdout",
     "output_type": "stream",
     "text": [
      "[[1 1 1 1 1]\n",
      " [0 0 0 1 0]\n",
      " [0 0 1 0 0]\n",
      " [0 1 0 0 0]\n",
      " [1 1 1 1 1]]\n"
     ]
    }
   ],
   "source": [
    "import numpy as np\n",
    "n=5\n",
    "arr = np.zeros((n, n), dtype=int)\n",
    "# Fill ones in the shape of Z\n",
    "#print(np.arange(n-1 ))\n",
    "arr[0, :] = 1  # Top row\n",
    "arr[-1, :] = 1  # Bottom row\n",
    "#arr[np.arange(1, n-1), np.arange(1, n-1)] = 1  # Diagonal    \n",
    "#arr[np.arange(1,n-2), np.arange( 1,n-1)] = 1 \n",
    "arr[np.arange(n), np.arange(n-1, -1, -1)] = 1\n",
    "print(arr)"
   ]
  },
  {
   "cell_type": "code",
   "execution_count": 38,
   "id": "7f5940bb-2c4a-4f98-afb4-d712704c4a5a",
   "metadata": {},
   "outputs": [
    {
     "name": "stdout",
     "output_type": "stream",
     "text": [
      "[[1 4 7]\n",
      " [2 3 6]\n",
      " [3 1 4]\n",
      " [3 2 5]]\n"
     ]
    }
   ],
   "source": [
    "import numpy as np\n",
    "\n",
    "# Sample 2D NumPy array\n",
    "array = np.array([[3, 2, 5],\n",
    "                  [1, 4, 7],\n",
    "                  [2, 3, 6],\n",
    "                  [3, 1, 4]])\n",
    "\n",
    "# Sort the array by the 1st column, and then by subsequent columns if there are ties\n",
    "sorted_indices = np.lexsort((array[:, 1], array[:, 0]))\n",
    "\n",
    "# Use the sorted indices to rearrange the array\n",
    "sorted_array = array[sorted_indices]\n",
    "\n",
    "print(sorted_array)\n"
   ]
  },
  {
   "cell_type": "code",
   "execution_count": 2,
   "id": "d3fa4729-2c68-4f60-988d-fc5179dbc200",
   "metadata": {},
   "outputs": [
    {
     "data": {
      "text/plain": [
       "array([1, 5, 3, 7, 4, 9])"
      ]
     },
     "execution_count": 2,
     "metadata": {},
     "output_type": "execute_result"
    }
   ],
   "source": [
    "p=[[1, 5],\n",
    " [3, 7],\n",
    " [4, 9]]\n",
    "np.reshape(p, -1)"
   ]
  },
  {
   "cell_type": "code",
   "execution_count": 7,
   "id": "8fe9ff13-1407-4239-947b-57ea52f2df96",
   "metadata": {},
   "outputs": [
    {
     "name": "stderr",
     "output_type": "stream",
     "text": [
      "<>:2: SyntaxWarning: list indices must be integers or slices, not tuple; perhaps you missed a comma?\n",
      "<>:2: SyntaxWarning: list indices must be integers or slices, not tuple; perhaps you missed a comma?\n",
      "C:\\Users\\ADMIN\\AppData\\Local\\Temp\\ipykernel_8256\\3464478231.py:2: SyntaxWarning: list indices must be integers or slices, not tuple; perhaps you missed a comma?\n",
      "  array_1 = [[1, 2, 3, 4, 5]\n",
      "C:\\Users\\ADMIN\\AppData\\Local\\Temp\\ipykernel_8256\\3464478231.py:2: SyntaxWarning: list indices must be integers or slices, not tuple; perhaps you missed a comma?\n",
      "  array_1 = [[1, 2, 3, 4, 5]\n",
      "C:\\Users\\ADMIN\\AppData\\Local\\Temp\\ipykernel_8256\\3464478231.py:2: SyntaxWarning: list indices must be integers or slices, not tuple; perhaps you missed a comma?\n",
      "  array_1 = [[1, 2, 3, 4, 5]\n",
      "C:\\Users\\ADMIN\\AppData\\Local\\Temp\\ipykernel_8256\\3464478231.py:2: SyntaxWarning: list indices must be integers or slices, not tuple; perhaps you missed a comma?\n",
      "  array_1 = [[1, 2, 3, 4, 5]\n",
      "C:\\Users\\ADMIN\\AppData\\Local\\Temp\\ipykernel_8256\\3464478231.py:2: SyntaxWarning: list indices must be integers or slices, not tuple; perhaps you missed a comma?\n",
      "  array_1 = [[1, 2, 3, 4, 5]\n",
      "C:\\Users\\ADMIN\\AppData\\Local\\Temp\\ipykernel_8256\\3464478231.py:2: SyntaxWarning: list indices must be integers or slices, not tuple; perhaps you missed a comma?\n",
      "  array_1 = [[1, 2, 3, 4, 5]\n",
      "C:\\Users\\ADMIN\\AppData\\Local\\Temp\\ipykernel_8256\\3464478231.py:2: SyntaxWarning: list indices must be integers or slices, not tuple; perhaps you missed a comma?\n",
      "  array_1 = [[1, 2, 3, 4, 5]\n",
      "C:\\Users\\ADMIN\\AppData\\Local\\Temp\\ipykernel_8256\\3464478231.py:2: SyntaxWarning: list indices must be integers or slices, not tuple; perhaps you missed a comma?\n",
      "  array_1 = [[1, 2, 3, 4, 5]\n",
      "C:\\Users\\ADMIN\\AppData\\Local\\Temp\\ipykernel_8256\\3464478231.py:2: SyntaxWarning: list indices must be integers or slices, not tuple; perhaps you missed a comma?\n",
      "  array_1 = [[1, 2, 3, 4, 5]\n"
     ]
    },
    {
     "ename": "TypeError",
     "evalue": "list indices must be integers or slices, not tuple",
     "output_type": "error",
     "traceback": [
      "\u001b[1;31m---------------------------------------------------------------------------\u001b[0m",
      "\u001b[1;31mTypeError\u001b[0m                                 Traceback (most recent call last)",
      "Cell \u001b[1;32mIn[7], line 2\u001b[0m\n\u001b[0;32m      1\u001b[0m \u001b[38;5;28;01mimport\u001b[39;00m \u001b[38;5;21;01mnumpy\u001b[39;00m \u001b[38;5;28;01mas\u001b[39;00m \u001b[38;5;21;01mnp\u001b[39;00m\n\u001b[1;32m----> 2\u001b[0m array_1 \u001b[38;5;241m=\u001b[39m [[\u001b[38;5;241m1\u001b[39m, \u001b[38;5;241m2\u001b[39m, \u001b[38;5;241m3\u001b[39m, \u001b[38;5;241m4\u001b[39m, \u001b[38;5;241m5\u001b[39m]\n\u001b[0;32m      3\u001b[0m  [\u001b[38;5;241m6\u001b[39m, \u001b[38;5;241m7\u001b[39m, \u001b[38;5;241m8\u001b[39m, \u001b[38;5;241m9\u001b[39m, \u001b[38;5;241m10\u001b[39m]\n\u001b[0;32m      4\u001b[0m  [\u001b[38;5;241m11\u001b[39m, \u001b[38;5;241m12\u001b[39m, \u001b[38;5;241m13\u001b[39m, \u001b[38;5;241m14\u001b[39m, \u001b[38;5;241m15\u001b[39m]\n\u001b[0;32m      5\u001b[0m  [\u001b[38;5;241m16\u001b[39m, \u001b[38;5;241m17\u001b[39m, \u001b[38;5;241m18\u001b[39m, \u001b[38;5;241m19\u001b[39m, \u001b[38;5;241m20\u001b[39m]]\n\u001b[0;32m      7\u001b[0m \u001b[38;5;28mprint\u001b[39m(array_1[array_1\u001b[38;5;241m%\u001b[39m\u001b[38;5;241m2\u001b[39m \u001b[38;5;241m!=\u001b[39m \u001b[38;5;241m0\u001b[39m])\n",
      "\u001b[1;31mTypeError\u001b[0m: list indices must be integers or slices, not tuple"
     ]
    }
   ],
   "source": [
    "import numpy as np\n",
    "array_1 = [[1, 2, 3, 4, 5]\n",
    " [6, 7, 8, 9, 10]\n",
    " [11, 12, 13, 14, 15]\n",
    " [16, 17, 18, 19, 20]]\n",
    "\n",
    "print(array_1[array_1%2 != 0])"
   ]
  },
  {
   "cell_type": "code",
   "execution_count": null,
   "id": "9b81b3c1-e99c-42e6-ba95-ff914d5c28bb",
   "metadata": {},
   "outputs": [],
   "source": []
  }
 ],
 "metadata": {
  "kernelspec": {
   "display_name": "Python 3 (ipykernel)",
   "language": "python",
   "name": "python3"
  },
  "language_info": {
   "codemirror_mode": {
    "name": "ipython",
    "version": 3
   },
   "file_extension": ".py",
   "mimetype": "text/x-python",
   "name": "python",
   "nbconvert_exporter": "python",
   "pygments_lexer": "ipython3",
   "version": "3.11.7"
  }
 },
 "nbformat": 4,
 "nbformat_minor": 5
}
