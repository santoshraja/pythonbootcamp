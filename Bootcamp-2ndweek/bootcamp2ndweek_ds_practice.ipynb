{
 "cells": [
  {
   "cell_type": "markdown",
   "id": "67a5445e-5921-4361-97cb-24b78e07fe2f",
   "metadata": {},
   "source": [
    "### <font color='red'> List Append ,Extend"
   ]
  },
  {
   "cell_type": "code",
   "execution_count": 5,
   "id": "bfca9cc1-7ae8-4e2b-8ce1-f9daa0cd6d0f",
   "metadata": {},
   "outputs": [
    {
     "name": "stdout",
     "output_type": "stream",
     "text": [
      "[1, 2, 3, 'raja', [6, 7]]\n"
     ]
    }
   ],
   "source": [
    "l = [1,2,3,'raja']\n",
    "#append will append the list \n",
    "l.append([6,7])\n",
    "print(l)"
   ]
  },
  {
   "cell_type": "code",
   "execution_count": 6,
   "id": "ffd83921-0327-4012-b739-b4adb96ec693",
   "metadata": {},
   "outputs": [
    {
     "data": {
      "text/plain": [
       "[1, 2, 3, 'raja', [6, 7], 9, 0, 4]"
      ]
     },
     "execution_count": 6,
     "metadata": {},
     "output_type": "execute_result"
    }
   ],
   "source": [
    "#extend means added list will add individual values\n",
    "l.extend([9,0,4])\n",
    "l"
   ]
  },
  {
   "cell_type": "code",
   "execution_count": 7,
   "id": "72ce9ff2-bac9-4175-a4fa-123477742413",
   "metadata": {},
   "outputs": [
    {
     "data": {
      "text/plain": [
       "[1, 2, 3, 'raja', [6, 7], 9, 0, 4, 10, 'santosh']"
      ]
     },
     "execution_count": 7,
     "metadata": {},
     "output_type": "execute_result"
    }
   ],
   "source": [
    "l=l+[10,'santosh']\n",
    "l"
   ]
  },
  {
   "cell_type": "markdown",
   "id": "8cfd206d-49fd-4d1c-9875-dedf81891259",
   "metadata": {},
   "source": [
    "### <font color='green'> pop() remove()\n",
    "### <font color='green'>pop by default remove last item in the list or specify index pop(idex)\n",
    "### <font color='green'>remove removes the first item bydeafult\n"
   ]
  },
  {
   "cell_type": "code",
   "execution_count": 13,
   "id": "be84943a-d39b-495d-b3af-804080de32a0",
   "metadata": {},
   "outputs": [
    {
     "name": "stdout",
     "output_type": "stream",
     "text": [
      "list before pop [1, 2, 3, 'raja']\n",
      "list after pop [1, 2, 3]\n"
     ]
    }
   ],
   "source": [
    "l = [1,2,3,'raja']\n",
    "print('list before pop',l)\n",
    "l1= l.pop() ## remove last entry by default\n",
    "print('list after pop',l)"
   ]
  },
  {
   "cell_type": "code",
   "execution_count": 14,
   "id": "f6949eaa-0ca1-466f-8e06-a53b68f9f0ca",
   "metadata": {},
   "outputs": [
    {
     "name": "stdout",
     "output_type": "stream",
     "text": [
      "list after pop [1, 3]\n"
     ]
    }
   ],
   "source": [
    "l2 = l.pop(1)\n",
    "print('list after pop',l)\n"
   ]
  },
  {
   "cell_type": "code",
   "execution_count": 15,
   "id": "800ab7c5-4664-429f-9e90-fe36e7eac293",
   "metadata": {},
   "outputs": [
    {
     "ename": "TypeError",
     "evalue": "list.remove() takes exactly one argument (0 given)",
     "output_type": "error",
     "traceback": [
      "\u001b[1;31m---------------------------------------------------------------------------\u001b[0m",
      "\u001b[1;31mTypeError\u001b[0m                                 Traceback (most recent call last)",
      "Cell \u001b[1;32mIn[15], line 2\u001b[0m\n\u001b[0;32m      1\u001b[0m l \u001b[38;5;241m=\u001b[39m [\u001b[38;5;241m1\u001b[39m,\u001b[38;5;241m2\u001b[39m,\u001b[38;5;241m3\u001b[39m,\u001b[38;5;124m'\u001b[39m\u001b[38;5;124mraja\u001b[39m\u001b[38;5;124m'\u001b[39m,\u001b[38;5;124m'\u001b[39m\u001b[38;5;124msantosh\u001b[39m\u001b[38;5;124m'\u001b[39m,\u001b[38;5;241m0\u001b[39m,\u001b[38;5;241m5\u001b[39m,\u001b[38;5;241m7\u001b[39m,\u001b[38;5;124m'\u001b[39m\u001b[38;5;124mthe\u001b[39m\u001b[38;5;124m'\u001b[39m]\n\u001b[1;32m----> 2\u001b[0m l1 \u001b[38;5;241m=\u001b[39m l\u001b[38;5;241m.\u001b[39mremove()\n\u001b[0;32m      3\u001b[0m \u001b[38;5;28mprint\u001b[39m(\u001b[38;5;124m'\u001b[39m\u001b[38;5;124mlist after pop\u001b[39m\u001b[38;5;124m'\u001b[39m,l1,l)\n",
      "\u001b[1;31mTypeError\u001b[0m: list.remove() takes exactly one argument (0 given)"
     ]
    }
   ],
   "source": [
    "l = [1,2,3,'raja','santosh',0,5,7,2,3,1,'the']\n",
    "l1 = l.remove()\n",
    "print('list after remove',l1,l)"
   ]
  },
  {
   "cell_type": "code",
   "execution_count": 16,
   "id": "6e88cf56-ead3-4464-a259-db8a52ad703f",
   "metadata": {},
   "outputs": [
    {
     "name": "stdout",
     "output_type": "stream",
     "text": [
      "list after remove None [1, 3, 'raja', 'santosh', 0, 5, 7, 'the']\n"
     ]
    }
   ],
   "source": [
    "l1 = l.remove(2)\n",
    "print('list after remove',l1,l)\n"
   ]
  },
  {
   "cell_type": "code",
   "execution_count": 17,
   "id": "2f7dbe4e-e2a4-45d0-b736-1295773a2c35",
   "metadata": {},
   "outputs": [
    {
     "name": "stdout",
     "output_type": "stream",
     "text": [
      "list after remove [1, 3, 'raja', 'santosh', 0, 5, 7]\n"
     ]
    }
   ],
   "source": [
    "l2 = l.remove('the')\n",
    "print('list after remove',l)"
   ]
  },
  {
   "cell_type": "code",
   "execution_count": 18,
   "id": "ab158772-3781-4406-b33c-2c7c4686a1f1",
   "metadata": {},
   "outputs": [
    {
     "name": "stdout",
     "output_type": "stream",
     "text": [
      "before sort [1, 3, 'raja', 'santosh', 0, 5, 7]\n"
     ]
    },
    {
     "ename": "TypeError",
     "evalue": "'<' not supported between instances of 'str' and 'int'",
     "output_type": "error",
     "traceback": [
      "\u001b[1;31m---------------------------------------------------------------------------\u001b[0m",
      "\u001b[1;31mTypeError\u001b[0m                                 Traceback (most recent call last)",
      "Cell \u001b[1;32mIn[18], line 2\u001b[0m\n\u001b[0;32m      1\u001b[0m \u001b[38;5;28mprint\u001b[39m(\u001b[38;5;124m'\u001b[39m\u001b[38;5;124mbefore sort\u001b[39m\u001b[38;5;124m'\u001b[39m,l)\n\u001b[1;32m----> 2\u001b[0m l\u001b[38;5;241m.\u001b[39msort()\n\u001b[0;32m      3\u001b[0m \u001b[38;5;28mprint\u001b[39m(\u001b[38;5;124m'\u001b[39m\u001b[38;5;124mafter sort\u001b[39m\u001b[38;5;124m'\u001b[39m,l)\n",
      "\u001b[1;31mTypeError\u001b[0m: '<' not supported between instances of 'str' and 'int'"
     ]
    }
   ],
   "source": [
    "print('before sort',l)\n",
    "l.sort() ## not supported because it has both int and string mixed data types\n",
    "print('after sort',l)"
   ]
  },
  {
   "cell_type": "code",
   "execution_count": 19,
   "id": "eea38bf8-7eaf-4fe5-94e2-16792c5776e1",
   "metadata": {},
   "outputs": [
    {
     "name": "stdout",
     "output_type": "stream",
     "text": [
      "before sort [1, 7, 3, 4, 9, 5]\n",
      "after sort [1, 3, 4, 5, 7, 9]\n"
     ]
    }
   ],
   "source": [
    "l=[1,7,3,4,9,5]\n",
    "print('before sort',l)\n",
    "l.sort()\n",
    "print('after sort',l)"
   ]
  },
  {
   "cell_type": "code",
   "execution_count": 21,
   "id": "386ea5bf-47cb-454f-a88f-90f0004e0686",
   "metadata": {},
   "outputs": [
    {
     "name": "stdout",
     "output_type": "stream",
     "text": [
      "after reverse sort [9, 7, 5, 4, 3, 1]\n"
     ]
    }
   ],
   "source": [
    "l.sort(reverse=True)\n",
    "print('after reverse sort',l)"
   ]
  },
  {
   "cell_type": "markdown",
   "id": "045401e1-3cb3-455f-b93f-e36c976d9f61",
   "metadata": {},
   "source": [
    "### <font color='green'> difference between sort and sorted"
   ]
  },
  {
   "cell_type": "code",
   "execution_count": 22,
   "id": "e85e1746-5689-491f-bbcd-87fac5048ed2",
   "metadata": {},
   "outputs": [
    {
     "name": "stdout",
     "output_type": "stream",
     "text": [
      "a :  ['bluberry', 'kiwi', 'mango', 'ornage']\n",
      "b : None\n"
     ]
    }
   ],
   "source": [
    "a = ['ornage','bluberry','mango','kiwi']\n",
    "b= a.sort()\n",
    "print('a : ',a) ## after sorting applied, a list will be sorted and b will not store any value\n",
    "print('b :',b)"
   ]
  },
  {
   "cell_type": "code",
   "execution_count": 23,
   "id": "129e5e22-c52c-49c7-80f2-dfc0cb530306",
   "metadata": {},
   "outputs": [
    {
     "name": "stdout",
     "output_type": "stream",
     "text": [
      "a :  ['ornage', 'bluberry', 'mango', 'kiwi']\n",
      "b : ['bluberry', 'kiwi', 'mango', 'ornage']\n"
     ]
    }
   ],
   "source": [
    "a = ['ornage','bluberry','mango','kiwi']\n",
    "b = sorted(a)\n",
    "print('a : ',a) ## after sorted method applied, a will be as it is and b list will be stored sorted list values\n",
    "print('b :',b)"
   ]
  },
  {
   "cell_type": "markdown",
   "id": "bae37d8f-0c35-41bb-b67a-4bb752de4340",
   "metadata": {},
   "source": [
    "### <font color='blue'> Exercise\n"
   ]
  },
  {
   "cell_type": "code",
   "execution_count": 24,
   "id": "f8b9a267-d54a-4326-9197-5b476966cf1c",
   "metadata": {},
   "outputs": [
    {
     "name": "stdout",
     "output_type": "stream",
     "text": [
      "2\n"
     ]
    }
   ],
   "source": [
    "##Suppose list_1 is [2, 33, 222, 14, 25]. What is list_1[-5]?\n",
    "list_1 = [2, 33, 222, 14, 25]\n",
    "print(list_1[-5]) ##list with negitive index will star from end with \"-1\" answe should be '2'"
   ]
  },
  {
   "cell_type": "code",
   "execution_count": 25,
   "id": "834731c8-5c8d-4ba4-ad19-2ffa67effc72",
   "metadata": {},
   "outputs": [
    {
     "name": "stdout",
     "output_type": "stream",
     "text": [
      "[]\n"
     ]
    }
   ],
   "source": [
    "word = ['1','2','3','4']\n",
    "word[ : ] = [ ] \n",
    "print(word)\n",
    "\n",
    "##Answer :  We are indexing all the elements of the list 'word' to an empty list; hence, \n",
    "##the final output would be an empty list. Hence, this method can also be used to delete all the \n",
    "##items from a list."
   ]
  },
  {
   "cell_type": "code",
   "execution_count": 26,
   "id": "fa6b99eb-089f-436f-a58f-e39986923257",
   "metadata": {},
   "outputs": [
    {
     "name": "stdout",
     "output_type": "stream",
     "text": [
      "['five', 'four', 'one', 'six', 'three', 'two']\n",
      "['one', 'two', 'three', 'four', 'five', 'six']\n"
     ]
    }
   ],
   "source": [
    "L = ['one','two','three', 'four', 'five', 'six']\n",
    "print(sorted(L))\n",
    "print (L)\n",
    "\n",
    "## Answer : sorted(L) will return a sorted list, and when it comes to strings, \n",
    "##it happens based on the character ASCII values. First, it compares the ASCII values of \n",
    "##the first characters and sorts the strings. If the first characters have the same value, then \n",
    "##it proceeds to the second characters and compares their ASCII values; if this matches again, \n",
    "##then it proceeds to the third characters, \n",
    "##and this continues until you have sorted them. In this way, the strings are sorted in a list."
   ]
  },
  {
   "cell_type": "code",
   "execution_count": 29,
   "id": "c0115faf-820c-4198-9ea8-c9bf69c6f11c",
   "metadata": {},
   "outputs": [
    {
     "name": "stdout",
     "output_type": "stream",
     "text": [
      "['SAS', 'R', 'PYTHON', 'SPSS']\n",
      "['SAS', 'R', 'PYTHON']\n",
      "['SAS', 'R', 'PYTHON', 'SPARK']\n"
     ]
    }
   ],
   "source": [
    "##Remove SPSS from input_list=['SAS', 'R', 'PYTHON', 'SPSS'] and add 'SPARK' in its place.\n",
    "\n",
    "input_list = ['SAS', 'R', 'PYTHON', 'SPSS']\n",
    "# Write code to remove 'SPSS'\n",
    "input_list.remove('SPSS')\n",
    "input_list.append('SPARK')\n",
    "# Write code to append 'SPARK'\n",
    "print(input_list)"
   ]
  },
  {
   "cell_type": "code",
   "execution_count": 34,
   "id": "b524fa49-b834-40b4-9875-b2b5fe2b8c7b",
   "metadata": {},
   "outputs": [
    {
     "name": "stdout",
     "output_type": "stream",
     "text": [
      "Pythons syntax is easy to learn & Pythons syntax is very clear\n",
      "Pythons syntax is easy to learn & Pythons syntax is very clear Pythons syntax is easy to learn * Pythons syntax is very clear\n",
      "P # y # t # h # o # n # s #   # s # y # n # t # a # x #   # i # s #   # e # a # s # y #   # t # o #   # l # e # a # r # n #   # & #   # P # y # t # h # o # n # s #   # s # y # n # t # a # x #   # i # s #   # v # e # r # y #   # c # l # e # a # r\n"
     ]
    }
   ],
   "source": [
    "##Convert a list ['Pythons syntax is easy to learn', 'Pythons syntax is very clear'] to a string using ‘&’. The sample output of this string will be:\n",
    "##Pythons syntax is easy to learn & Pythons syntax is very clear\n",
    "input_str = ['Pythons syntax is easy to learn', 'Pythons syntax is very clear']\n",
    "sentence = input_str[0]+' & '+input_str[1]\n",
    "print(sentence)\n",
    "## other way and optimized way to do same solution as below\n",
    "string_1 = ' & '.join(input_str) ## join will take only one argument\n",
    "string_2 = ' * '.join(input_str) # if you apply join for list it will append the list items and provide a string \n",
    "string_3 = ' # '.join(string_1) ## if you apply join for string it will take each char and append the '#'\n",
    "print(string_1,string_2)\n",
    "print(string_3)"
   ]
  },
  {
   "cell_type": "markdown",
   "id": "1a4d9a85-88c4-441e-98c3-3af2a94d4bb7",
   "metadata": {},
   "source": [
    "### <font color='green'>shadowcopying \n"
   ]
  },
  {
   "cell_type": "code",
   "execution_count": 35,
   "id": "2bce4bfa-c54c-408a-a9b3-aa45520ca28f",
   "metadata": {},
   "outputs": [
    {
     "name": "stdout",
     "output_type": "stream",
     "text": [
      "['mango', 'ornage', 'blue berries'] ['mango', 'ornage', 'blue berries']\n"
     ]
    }
   ],
   "source": [
    "a = ['mango','ornage','blue berries']\n",
    "b=a ## copy a list to b , is a shadow copy , if you change in a list automatically changes effected in b list\n",
    "print(a,b)"
   ]
  },
  {
   "cell_type": "code",
   "execution_count": 36,
   "id": "e9a5639e-8e6f-436c-ad66-348f74de917c",
   "metadata": {},
   "outputs": [
    {
     "name": "stdout",
     "output_type": "stream",
     "text": [
      "['Apple', 'ornage', 'blue berries'] ['Apple', 'ornage', 'blue berries']\n"
     ]
    }
   ],
   "source": [
    "a[0]='Apple'\n",
    "print(a,b) ## changed in two lists"
   ]
  },
  {
   "cell_type": "code",
   "execution_count": 37,
   "id": "0df712c8-96a5-4cf6-a353-36da508b68d2",
   "metadata": {},
   "outputs": [
    {
     "name": "stdout",
     "output_type": "stream",
     "text": [
      "['mango', 'ornage', 'blue berries'] ['mango', 'ornage', 'blue berries']\n"
     ]
    }
   ],
   "source": [
    "## inorer to aviod change b list even if a changed \n",
    "a = ['mango','ornage','blue berries']\n",
    "b=a[:]\n",
    "print(a,b)"
   ]
  },
  {
   "cell_type": "code",
   "execution_count": 38,
   "id": "0d7c8fd0-029d-4533-b73f-982946c9bf22",
   "metadata": {},
   "outputs": [
    {
     "name": "stdout",
     "output_type": "stream",
     "text": [
      "['Apple', 'ornage', 'blue berries'] ['mango', 'ornage', 'blue berries']\n"
     ]
    }
   ],
   "source": [
    "a[0]='Apple'\n",
    "print(a,b) # now b will not change"
   ]
  },
  {
   "cell_type": "markdown",
   "id": "2f064009-d062-478a-b9a2-0fe668701b5d",
   "metadata": {},
   "source": [
    "### <font color='blue'>Exercise"
   ]
  },
  {
   "cell_type": "code",
   "execution_count": 39,
   "id": "36c9a3ef-ea27-4511-8b9b-6edb2dba6f24",
   "metadata": {},
   "outputs": [
    {
     "name": "stdout",
     "output_type": "stream",
     "text": [
      "Python\n"
     ]
    }
   ],
   "source": [
    "##How will I extract Python from the nested list\n",
    "input_list =  [['SAS','R'],['Tableau','SQL'],['Python','Java']]\n",
    "print(input_list[2][0])"
   ]
  },
  {
   "cell_type": "code",
   "execution_count": 40,
   "id": "31e9f23d-f9ce-4ee6-a542-fbecbffc9f91",
   "metadata": {},
   "outputs": [
    {
     "name": "stdout",
     "output_type": "stream",
     "text": [
      "Ravi\n",
      "Kumar\n",
      "003\n"
     ]
    }
   ],
   "source": [
    "##Split the string input_str = 'Kumar_Ravi_003' to the person's second name, first name and unique customer code.\n",
    "##In this example, second_name= 'Kumar', first_name= 'Ravi', customer_code = '003'.\n",
    "input_str = 'Kumar_Ravi_003'\n",
    "userInfoList = input_str.split(\"_\")\n",
    "print(f'{userInfoList[1]}\\n{userInfoList[0]}\\n{userInfoList[2]}')"
   ]
  },
  {
   "cell_type": "markdown",
   "id": "5b2611d5-4834-4bac-8d27-a5c6fe98cce3",
   "metadata": {},
   "source": [
    "### <font color='red'>Boot camp week 2 live session practices , 06/04/2024 2:00 pm - 5:00 pm"
   ]
  },
  {
   "cell_type": "markdown",
   "id": "c15c80b0-6bf0-4b07-8221-d35f894b887f",
   "metadata": {},
   "source": [
    "## List\n",
    "\n",
    "### contails mulitiple data types\n",
    "### allow duplicates\n",
    "### starts and ends with []\n",
    "### list is mutable - add, update ,delete,sort an element\n",
    "================"
   ]
  },
  {
   "cell_type": "code",
   "execution_count": 41,
   "id": "53629ccb-0938-46d0-a4a7-23838c7d3b43",
   "metadata": {},
   "outputs": [
    {
     "data": {
      "text/plain": [
       "list"
      ]
     },
     "execution_count": 41,
     "metadata": {},
     "output_type": "execute_result"
    }
   ],
   "source": [
    "gorcery = ['milk','bread',100,'oil']\n",
    "type(gorcery)"
   ]
  },
  {
   "cell_type": "markdown",
   "id": "2d919487-fb81-4a6b-bbe6-d062f3ffc810",
   "metadata": {},
   "source": [
    "### various list operations"
   ]
  },
  {
   "cell_type": "code",
   "execution_count": 42,
   "id": "5ed6df69-37e0-4029-8752-5b81662280aa",
   "metadata": {},
   "outputs": [
    {
     "name": "stdout",
     "output_type": "stream",
     "text": [
      "total items in cart 0\n"
     ]
    }
   ],
   "source": [
    "shoppingCart = []\n",
    "print('total items in cart',len(shoppingCart))"
   ]
  },
  {
   "cell_type": "code",
   "execution_count": 43,
   "id": "f31fe319-4eee-402a-bcb3-4912aa4613e9",
   "metadata": {},
   "outputs": [
    {
     "data": {
      "text/plain": [
       "['iPhone']"
      ]
     },
     "execution_count": 43,
     "metadata": {},
     "output_type": "execute_result"
    }
   ],
   "source": [
    "## adding element list - append\n",
    "shoppingCart.append('iPhone')\n",
    "shoppingCart"
   ]
  },
  {
   "cell_type": "code",
   "execution_count": 44,
   "id": "f230cc81-7da6-4386-8d1d-c44e7e6d8044",
   "metadata": {},
   "outputs": [
    {
     "name": "stdout",
     "output_type": "stream",
     "text": [
      "total items inshopping cart 4\n"
     ]
    }
   ],
   "source": [
    "shoppingCart.append('ipad')\n",
    "shoppingCart.append('earbuds')\n",
    "shoppingCart.append('cable')\n",
    "shoppingCart\n",
    "print('total items inshopping cart',len(shoppingCart))"
   ]
  },
  {
   "cell_type": "code",
   "execution_count": 45,
   "id": "01fdaf3c-7372-4738-a88c-c95e1b5bd23b",
   "metadata": {},
   "outputs": [
    {
     "name": "stdout",
     "output_type": "stream",
     "text": [
      "total shoppicart ['iPhone', 'ipad', 'earbuds', 'cable', 'backpack', 'charger', 'usb']\n"
     ]
    }
   ],
   "source": [
    "## adding multiple elements using extend() method\n",
    "combo_offer = ['backpack','charger','usb']\n",
    "##using extend here\n",
    "shoppingCart.extend(combo_offer)\n",
    "print('total shoppicart' ,shoppingCart)"
   ]
  },
  {
   "cell_type": "code",
   "execution_count": 46,
   "id": "278c673b-cfae-47a9-94d3-530a1effcfc1",
   "metadata": {},
   "outputs": [
    {
     "name": "stdout",
     "output_type": "stream",
     "text": [
      "charger\n"
     ]
    }
   ],
   "source": [
    "## uses of index to get individual elements from list it has +ve,-ve index,+ve starts with 0 and -ve starts with -1\n",
    "print(shoppingCart[-2])"
   ]
  },
  {
   "cell_type": "code",
   "execution_count": 47,
   "id": "7688b58d-1391-42ed-a482-bcc19df01a74",
   "metadata": {},
   "outputs": [
    {
     "ename": "ValueError",
     "evalue": "list.remove(x): x not in list",
     "output_type": "error",
     "traceback": [
      "\u001b[1;31m---------------------------------------------------------------------------\u001b[0m",
      "\u001b[1;31mValueError\u001b[0m                                Traceback (most recent call last)",
      "Cell \u001b[1;32mIn[47], line 5\u001b[0m\n\u001b[0;32m      3\u001b[0m shoppingCart\u001b[38;5;241m.\u001b[39mremove(\u001b[38;5;124m'\u001b[39m\u001b[38;5;124mipad\u001b[39m\u001b[38;5;124m'\u001b[39m)\n\u001b[0;32m      4\u001b[0m shoppingCart\n\u001b[1;32m----> 5\u001b[0m shoppingCart\u001b[38;5;241m.\u001b[39mremove(\u001b[38;5;124m'\u001b[39m\u001b[38;5;124mipad1\u001b[39m\u001b[38;5;124m'\u001b[39m)\n\u001b[0;32m      6\u001b[0m shoppingCart\n",
      "\u001b[1;31mValueError\u001b[0m: list.remove(x): x not in list"
     ]
    }
   ],
   "source": [
    "## remove - remove element name(value)\n",
    "## remove can remove one element at a time,first occurence from left,remove require element value\n",
    "shoppingCart.remove('ipad')\n",
    "shoppingCart\n",
    "shoppingCart.remove('ipad1') ## elemnt not there get run time error\n",
    "shoppingCart"
   ]
  },
  {
   "cell_type": "code",
   "execution_count": 50,
   "id": "a6be1fa7-96b2-4ac5-8cbb-ac2e5c7ec2a8",
   "metadata": {},
   "outputs": [
    {
     "ename": "IndexError",
     "evalue": "list assignment index out of range",
     "output_type": "error",
     "traceback": [
      "\u001b[1;31m---------------------------------------------------------------------------\u001b[0m",
      "\u001b[1;31mIndexError\u001b[0m                                Traceback (most recent call last)",
      "Cell \u001b[1;32mIn[50], line 4\u001b[0m\n\u001b[0;32m      1\u001b[0m \u001b[38;5;66;03m### del keyword\u001b[39;00m\n\u001b[0;32m      2\u001b[0m \u001b[38;5;66;03m## del requires index to delete elements\u001b[39;00m\n\u001b[0;32m      3\u001b[0m shoppingCart\n\u001b[1;32m----> 4\u001b[0m \u001b[38;5;28;01mdel\u001b[39;00m shoppingCart[\u001b[38;5;241m3\u001b[39m]\n\u001b[0;32m      5\u001b[0m shoppingCart\n\u001b[0;32m      6\u001b[0m \u001b[38;5;28;01mdel\u001b[39;00m shoppingCart[\u001b[38;5;241m10\u001b[39m]\n",
      "\u001b[1;31mIndexError\u001b[0m: list assignment index out of range"
     ]
    }
   ],
   "source": [
    "### del keyword\n",
    "## del requires index to delete elements\n",
    "shoppingCart\n",
    "del shoppingCart[3]\n",
    "shoppingCart\n",
    "del shoppingCart[10] ## index ou of range\n",
    "print('final cart',shoppingCart)"
   ]
  },
  {
   "cell_type": "code",
   "execution_count": 51,
   "id": "40913dc6-c446-4c41-928a-90324d352c15",
   "metadata": {},
   "outputs": [
    {
     "data": {
      "text/plain": [
       "['iPhone', 'earbuds']"
      ]
     },
     "execution_count": 51,
     "metadata": {},
     "output_type": "execute_result"
    }
   ],
   "source": [
    "## pop()\n",
    "## delete last elemrnt to delete by default\n",
    "## works with index also\n",
    "## cannot be delete multiple e;ements , one at a time\n",
    "### del vs remove vs pop\n",
    "### pop() method returns which  element deleted\n",
    "###  del and remove not returms anything\n",
    "shoppingCart.pop()\n",
    "shoppingCart"
   ]
  },
  {
   "cell_type": "code",
   "execution_count": 52,
   "id": "8cc0387c-fe12-4921-953b-5dac4d32976d",
   "metadata": {},
   "outputs": [
    {
     "name": "stdout",
     "output_type": "stream",
     "text": [
      "['backpack', 'cable', 'charger', 'earbuds', 'iPhone', 'ipad', 'usb']\n",
      "['usb', 'ipad', 'iPhone', 'earbuds', 'charger', 'cable', 'backpack']\n"
     ]
    }
   ],
   "source": [
    "shopping_cart = ['iPhone', 'ipad', 'earbuds', 'cable', 'backpack', 'charger', 'usb']\n",
    "shopping_cart.sort()## asc order\n",
    "print(shopping_cart) ## dsc order\n",
    "shopping_cart.sort(reverse=True)\n",
    "print(shopping_cart)"
   ]
  },
  {
   "cell_type": "markdown",
   "id": "0bd49707-9474-4876-a166-3baf6adc1fef",
   "metadata": {},
   "source": [
    "## <font color='red'>Tuple\n",
    "## not modified data(read only) like\n",
    "     AAdhar number,PAN card\n",
    "     bank statements,property data\n",
    "     latitude, longitude\n",
    " ### tuple represents ()\n",
    " ### can contain duplicates,multiple data types(mixed)\n",
    " ### immutable - say no to modify\n",
    " ### say no to add element,sort element,delete element"
   ]
  },
  {
   "cell_type": "code",
   "execution_count": 53,
   "id": "b1ffc3d2-3d34-4dbd-a69c-73ee4a23c590",
   "metadata": {},
   "outputs": [
    {
     "name": "stdout",
     "output_type": "stream",
     "text": [
      "(['plotno:55', 'owener:sravani'], ['plotno:56', 'owener:raja'])\n"
     ]
    }
   ],
   "source": [
    "## you can change element in list in tuple but you cannnot add ,delete whole list in tuple\n",
    "notary =(['plotno:55','owener:santosh'],['plotno:56','owener:raja'])\n",
    "## if you trasefer owner ship\n",
    "notary[0][1]='owener:sravani'\n",
    "print(notary)"
   ]
  },
  {
   "cell_type": "code",
   "execution_count": 54,
   "id": "9fd06dc2-31ef-4103-8976-e912f46f906c",
   "metadata": {},
   "outputs": [
    {
     "ename": "TypeError",
     "evalue": "'tuple' object does not support item assignment",
     "output_type": "error",
     "traceback": [
      "\u001b[1;31m---------------------------------------------------------------------------\u001b[0m",
      "\u001b[1;31mTypeError\u001b[0m                                 Traceback (most recent call last)",
      "Cell \u001b[1;32mIn[54], line 2\u001b[0m\n\u001b[0;32m      1\u001b[0m pancards \u001b[38;5;241m=\u001b[39m (\u001b[38;5;124m'\u001b[39m\u001b[38;5;124maxk123\u001b[39m\u001b[38;5;124m'\u001b[39m,\u001b[38;5;124m'\u001b[39m\u001b[38;5;124mAY45678\u001b[39m\u001b[38;5;124m'\u001b[39m)\n\u001b[1;32m----> 2\u001b[0m pancards[\u001b[38;5;241m0\u001b[39m] \u001b[38;5;241m=\u001b[39m \u001b[38;5;124m'\u001b[39m\u001b[38;5;124mAXk356\u001b[39m\u001b[38;5;124m'\u001b[39m\n\u001b[0;32m      3\u001b[0m \u001b[38;5;28mprint\u001b[39m(pancards)\n",
      "\u001b[1;31mTypeError\u001b[0m: 'tuple' object does not support item assignment"
     ]
    }
   ],
   "source": [
    "pancards = ('axk123','AY45678')\n",
    "pancards[0] = 'AXk356'\n",
    "print(pancards) ## immutable , not support"
   ]
  },
  {
   "cell_type": "markdown",
   "id": "a8b5a76b-10d5-4494-80f8-9f7ac5c1d882",
   "metadata": {},
   "source": [
    "### Packing & unpacking\n",
    "    Works for List,Tuple"
   ]
  },
  {
   "cell_type": "code",
   "execution_count": 58,
   "id": "f8872ee6-31fc-4b04-b783-b25910467597",
   "metadata": {},
   "outputs": [
    {
     "data": {
      "text/plain": [
       "'choclate'"
      ]
     },
     "execution_count": 58,
     "metadata": {},
     "output_type": "execute_result"
    }
   ],
   "source": [
    "ice_cream=('stawberry','vinella','choclate') ## this is packing\n",
    "## extracting each elemnt is unpacking\n",
    "falvour1,falvour2,falvour3 = ice_cream\n",
    "falvour1\n",
    "falvour2\n",
    "falvour3"
   ]
  },
  {
   "cell_type": "code",
   "execution_count": 59,
   "id": "305b30e2-5de0-4c33-8255-67ea9df580e4",
   "metadata": {},
   "outputs": [
    {
     "name": "stdout",
     "output_type": "stream",
     "text": [
      "a\n",
      "b\n",
      "c\n"
     ]
    }
   ],
   "source": [
    "icecreame_list = ['a','b','c']\n",
    "f1,f2,f3=icecreame_list\n",
    "print(f1)\n",
    "print(f2)\n",
    "print(f3)"
   ]
  },
  {
   "cell_type": "code",
   "execution_count": 61,
   "id": "712bc36a-86cb-4b32-ab8d-64767a45b6a2",
   "metadata": {},
   "outputs": [
    {
     "name": "stdout",
     "output_type": "stream",
     "text": [
      "('a', 'b', 'c')\n"
     ]
    }
   ],
   "source": [
    "#list to tuple\n",
    "t= tuple(icecreame_list)\n",
    "print(t)"
   ]
  },
  {
   "cell_type": "code",
   "execution_count": 62,
   "id": "2f594d89-c6b0-4eb5-8218-4689016eca7c",
   "metadata": {},
   "outputs": [
    {
     "name": "stdout",
     "output_type": "stream",
     "text": [
      "['a', 'b', 'c']\n"
     ]
    }
   ],
   "source": [
    "## tuple to list\n",
    "l = list(t)\n",
    "print(l)"
   ]
  },
  {
   "cell_type": "markdown",
   "id": "2acfb6f0-6b62-4d6a-a97e-707b49b544b5",
   "metadata": {},
   "source": [
    "### Tuple Eercises"
   ]
  },
  {
   "cell_type": "code",
   "execution_count": 2,
   "id": "26f77523-ca12-49bb-8fe8-468db5bb0262",
   "metadata": {},
   "outputs": [
    {
     "data": {
      "text/plain": [
       "tuple"
      ]
     },
     "execution_count": 2,
     "metadata": {},
     "output_type": "execute_result"
    }
   ],
   "source": [
    "## create sing value tuple \n",
    "nt = 1,\n",
    "type(nt)"
   ]
  },
  {
   "cell_type": "code",
   "execution_count": 3,
   "id": "e8ad746c-c811-437a-82c0-a87529294ba1",
   "metadata": {},
   "outputs": [
    {
     "data": {
      "text/plain": [
       "(1, 2, 3, 4, 'Doc')"
      ]
     },
     "execution_count": 3,
     "metadata": {},
     "output_type": "execute_result"
    }
   ],
   "source": [
    "## other way of creating tuple\n",
    "nt = 1,2,3,4,'Doc'\n",
    "type(nt)\n",
    "nt"
   ]
  },
  {
   "cell_type": "code",
   "execution_count": 4,
   "id": "5b98ddb0-5a61-4efe-984b-21523f96c7d0",
   "metadata": {},
   "outputs": [
    {
     "data": {
      "text/plain": [
       "int"
      ]
     },
     "execution_count": 4,
     "metadata": {},
     "output_type": "execute_result"
    }
   ],
   "source": [
    "## its not a tuple its int\n",
    "nt = 1\n",
    "type(nt)"
   ]
  },
  {
   "cell_type": "code",
   "execution_count": 5,
   "id": "8cf12048-4343-4400-b406-af90066d9d83",
   "metadata": {},
   "outputs": [
    {
     "data": {
      "text/plain": [
       "int"
      ]
     },
     "execution_count": 5,
     "metadata": {},
     "output_type": "execute_result"
    }
   ],
   "source": [
    "## its not a tuple its an int\n",
    "nt = (2)\n",
    "type(nt)"
   ]
  },
  {
   "cell_type": "code",
   "execution_count": 7,
   "id": "f832e1bb-acb1-43ab-b2e7-2a9c5cb7a0f9",
   "metadata": {},
   "outputs": [
    {
     "name": "stdout",
     "output_type": "stream",
     "text": [
      "14.2\n",
      "2\n",
      "5\n"
     ]
    }
   ],
   "source": [
    "tuple = (2,3.2,4,5)\n",
    "##What will the tuple return with sum, min and max function?\n",
    "print(sum(tuple))\n",
    "print(min(tuple))\n",
    "print(max(tuple))"
   ]
  },
  {
   "cell_type": "code",
   "execution_count": 8,
   "id": "d6b02e9a-50da-4325-8c74-f0a785fcf5f0",
   "metadata": {},
   "outputs": [
    {
     "ename": "TypeError",
     "evalue": "'tuple' object does not support item assignment",
     "output_type": "error",
     "traceback": [
      "\u001b[1;31m---------------------------------------------------------------------------\u001b[0m",
      "\u001b[1;31mTypeError\u001b[0m                                 Traceback (most recent call last)",
      "Cell \u001b[1;32mIn[8], line 3\u001b[0m\n\u001b[0;32m      1\u001b[0m \u001b[38;5;66;03m##Let's say you have a tuple as x =(1,2,3) and while executing x[2] = 5, what will x return?\u001b[39;00m\n\u001b[0;32m      2\u001b[0m x \u001b[38;5;241m=\u001b[39m(\u001b[38;5;241m1\u001b[39m,\u001b[38;5;241m2\u001b[39m,\u001b[38;5;241m3\u001b[39m)\n\u001b[1;32m----> 3\u001b[0m x[\u001b[38;5;241m2\u001b[39m] \u001b[38;5;241m=\u001b[39m \u001b[38;5;241m5\u001b[39m\n",
      "\u001b[1;31mTypeError\u001b[0m: 'tuple' object does not support item assignment"
     ]
    }
   ],
   "source": [
    "##Let's say you have a tuple as x =(1,2,3) and while executing x[2] = 5, what will x return?\n",
    "x =(1,2,3)\n",
    "x[2] = 5 ## tuple immutable so it will give error"
   ]
  },
  {
   "cell_type": "code",
   "execution_count": 9,
   "id": "92442fac-1255-4dfa-9465-32433b433036",
   "metadata": {},
   "outputs": [
    {
     "data": {
      "text/plain": [
       "'s'"
      ]
     },
     "execution_count": 9,
     "metadata": {},
     "output_type": "execute_result"
    }
   ],
   "source": [
    "t = (\"disco\", 12, 4.5)\n",
    "t[0][2]\n",
    "##What would be the output here?"
   ]
  },
  {
   "cell_type": "code",
   "execution_count": 14,
   "id": "2fcc1940-87e5-4085-ad17-5e1d940eb5c4",
   "metadata": {},
   "outputs": [
    {
     "data": {
      "text/plain": [
       "(1, 2, 'Hard rock', 7, 'yes', 0, 9)"
      ]
     },
     "execution_count": 14,
     "metadata": {},
     "output_type": "execute_result"
    }
   ],
   "source": [
    "## How tuple values replace ? , instead of replace we create another tuple for desire output\n",
    "t = (1,2,'Disco',7) ## here we want to replace and add 'Hard rock palce of disco and conacte nate to other tuple\n",
    "t2 = ('yes',0,9)\n",
    "\n",
    "t3 = t[0:2]+('Hard rock',)+t[3:]+t2[0:]\n",
    "t3"
   ]
  },
  {
   "cell_type": "code",
   "execution_count": 19,
   "id": "d85c25e1-ab7e-4cdb-8e34-47533b95053b",
   "metadata": {},
   "outputs": [
    {
     "ename": "TypeError",
     "evalue": "'tuple' object is not callable",
     "output_type": "error",
     "traceback": [
      "\u001b[1;31m---------------------------------------------------------------------------\u001b[0m",
      "\u001b[1;31mTypeError\u001b[0m                                 Traceback (most recent call last)",
      "Cell \u001b[1;32mIn[19], line 3\u001b[0m\n\u001b[0;32m      1\u001b[0m x \u001b[38;5;241m=\u001b[39m (\u001b[38;5;241m1\u001b[39m,\u001b[38;5;241m8\u001b[39m,\u001b[38;5;241m9\u001b[39m,\u001b[38;5;241m3\u001b[39m,\u001b[38;5;241m7\u001b[39m)\n\u001b[0;32m      2\u001b[0m x \u001b[38;5;241m=\u001b[39m \u001b[38;5;28msorted\u001b[39m(x) \u001b[38;5;66;03m## once tuple sorted it will be list , if we wnt tuple again need to cast\u001b[39;00m\n\u001b[1;32m----> 3\u001b[0m y \u001b[38;5;241m=\u001b[39m  \u001b[38;5;28mtuple\u001b[39m (x)\n\u001b[0;32m      4\u001b[0m y\n",
      "\u001b[1;31mTypeError\u001b[0m: 'tuple' object is not callable"
     ]
    }
   ],
   "source": [
    "x = (1,8,9,3,7)\n",
    "x = sorted(x) ## once tuple sorted it will be list , if we wnt tuple again need to cast\n",
    "y =  tuple (x)\n",
    "y"
   ]
  },
  {
   "cell_type": "code",
   "execution_count": 20,
   "id": "ad34c846-f581-41d3-bb05-ae9148bf1028",
   "metadata": {},
   "outputs": [
    {
     "data": {
      "text/plain": [
       "['__add__',\n",
       " '__class__',\n",
       " '__class_getitem__',\n",
       " '__contains__',\n",
       " '__delattr__',\n",
       " '__dir__',\n",
       " '__doc__',\n",
       " '__eq__',\n",
       " '__format__',\n",
       " '__ge__',\n",
       " '__getattribute__',\n",
       " '__getitem__',\n",
       " '__getnewargs__',\n",
       " '__getstate__',\n",
       " '__gt__',\n",
       " '__hash__',\n",
       " '__init__',\n",
       " '__init_subclass__',\n",
       " '__iter__',\n",
       " '__le__',\n",
       " '__len__',\n",
       " '__lt__',\n",
       " '__mul__',\n",
       " '__ne__',\n",
       " '__new__',\n",
       " '__reduce__',\n",
       " '__reduce_ex__',\n",
       " '__repr__',\n",
       " '__rmul__',\n",
       " '__setattr__',\n",
       " '__sizeof__',\n",
       " '__str__',\n",
       " '__subclasshook__',\n",
       " 'count',\n",
       " 'index']"
      ]
     },
     "execution_count": 20,
     "metadata": {},
     "output_type": "execute_result"
    }
   ],
   "source": [
    "t= ()\n",
    "dir(t)"
   ]
  },
  {
   "cell_type": "code",
   "execution_count": 21,
   "id": "ea842315-156f-4851-8704-353c8c6badbf",
   "metadata": {},
   "outputs": [
    {
     "ename": "IndexError",
     "evalue": "tuple index out of range",
     "output_type": "error",
     "traceback": [
      "\u001b[1;31m---------------------------------------------------------------------------\u001b[0m",
      "\u001b[1;31mIndexError\u001b[0m                                Traceback (most recent call last)",
      "Cell \u001b[1;32mIn[21], line 2\u001b[0m\n\u001b[0;32m      1\u001b[0m t \u001b[38;5;241m=\u001b[39m (\u001b[38;5;241m1\u001b[39m, \u001b[38;5;241m2\u001b[39m, \u001b[38;5;241m4\u001b[39m, \u001b[38;5;241m3\u001b[39m)\n\u001b[1;32m----> 2\u001b[0m t[\u001b[38;5;241m4\u001b[39m]\n",
      "\u001b[1;31mIndexError\u001b[0m: tuple index out of range"
     ]
    }
   ],
   "source": [
    "t = (1, 2, 4, 3)\n",
    "t[4]"
   ]
  },
  {
   "cell_type": "code",
   "execution_count": 22,
   "id": "df9fcc6c-42a6-419c-b6d8-69eaf1108e8a",
   "metadata": {},
   "outputs": [
    {
     "ename": "TypeError",
     "evalue": "'tuple' object does not support item assignment",
     "output_type": "error",
     "traceback": [
      "\u001b[1;31m---------------------------------------------------------------------------\u001b[0m",
      "\u001b[1;31mTypeError\u001b[0m                                 Traceback (most recent call last)",
      "Cell \u001b[1;32mIn[22], line 1\u001b[0m\n\u001b[1;32m----> 1\u001b[0m t[\u001b[38;5;241m3\u001b[39m]\u001b[38;5;241m=\u001b[39m\u001b[38;5;241m5\u001b[39m\n",
      "\u001b[1;31mTypeError\u001b[0m: 'tuple' object does not support item assignment"
     ]
    }
   ],
   "source": [
    "t[3]=5"
   ]
  },
  {
   "cell_type": "code",
   "execution_count": 24,
   "id": "e5577ca1-59a7-47af-b098-ca029258cff8",
   "metadata": {},
   "outputs": [
    {
     "name": "stdout",
     "output_type": "stream",
     "text": [
      "()\n"
     ]
    }
   ],
   "source": [
    "print(t[1:-4])"
   ]
  },
  {
   "cell_type": "code",
   "execution_count": 25,
   "id": "3cd9fac7-4783-470d-9ff9-f3a828df7fa2",
   "metadata": {},
   "outputs": [
    {
     "name": "stdout",
     "output_type": "stream",
     "text": [
      "4\n"
     ]
    }
   ],
   "source": [
    "print(len(t))"
   ]
  },
  {
   "cell_type": "code",
   "execution_count": 34,
   "id": "ae6fbdcf-bfaa-4ae0-bf0d-5d003be90978",
   "metadata": {},
   "outputs": [
    {
     "name": "stdout",
     "output_type": "stream",
     "text": [
      "['Monty Python', 'British', 1969]\n",
      "['Monty Python', 'British', 1969, 'Python']\n"
     ]
    },
    {
     "ename": "TypeError",
     "evalue": "'tuple' object is not callable",
     "output_type": "error",
     "traceback": [
      "\u001b[1;31m---------------------------------------------------------------------------\u001b[0m",
      "\u001b[1;31mTypeError\u001b[0m                                 Traceback (most recent call last)",
      "Cell \u001b[1;32mIn[34], line 6\u001b[0m\n\u001b[0;32m      4\u001b[0m inputlist\u001b[38;5;241m.\u001b[39mappend(\u001b[38;5;124m'\u001b[39m\u001b[38;5;124mPython\u001b[39m\u001b[38;5;124m'\u001b[39m)\n\u001b[0;32m      5\u001b[0m \u001b[38;5;28mprint\u001b[39m(inputlist)\n\u001b[1;32m----> 6\u001b[0m \u001b[38;5;28mtuple\u001b[39m(inputlist)\n\u001b[0;32m      7\u001b[0m inputlist\n",
      "\u001b[1;31mTypeError\u001b[0m: 'tuple' object is not callable"
     ]
    }
   ],
   "source": [
    "input = ('Monty Python', 'British', 1969)\n",
    "inputlist = list(input)\n",
    "print(inputlist)\n",
    "inputlist.append('Python')\n",
    "print(inputlist)\n",
    "tuple(inputlist)\n",
    "inputlist"
   ]
  },
  {
   "cell_type": "markdown",
   "id": "19750909-999a-4bd6-b8e8-9e2ebe3052a4",
   "metadata": {},
   "source": [
    "## <font color='red'> Set\n",
    "### storing unique/distincrt elements\n",
    "    set represnts using {}\n",
    "    set automatically eliminats duplicates and each element is unique\n",
    "    set is mutable means changable and un order data structure\n",
    "    allows muliple data types"
   ]
  },
  {
   "cell_type": "code",
   "execution_count": 63,
   "id": "e4afd628-dc62-4756-8f6e-f1e874f9c316",
   "metadata": {},
   "outputs": [],
   "source": [
    "color = {'orange','red','blue','white',100}"
   ]
  },
  {
   "cell_type": "code",
   "execution_count": 64,
   "id": "d0fa0a20-0d76-4547-804e-7548552b1c7a",
   "metadata": {},
   "outputs": [
    {
     "ename": "TypeError",
     "evalue": "'set' object is not subscriptable",
     "output_type": "error",
     "traceback": [
      "\u001b[1;31m---------------------------------------------------------------------------\u001b[0m",
      "\u001b[1;31mTypeError\u001b[0m                                 Traceback (most recent call last)",
      "Cell \u001b[1;32mIn[64], line 2\u001b[0m\n\u001b[0;32m      1\u001b[0m \u001b[38;5;66;03m## adding eemetnt is not order while getting , due to un order nature indexing doesnot support\u001b[39;00m\n\u001b[1;32m----> 2\u001b[0m color[\u001b[38;5;241m0\u001b[39m]\n",
      "\u001b[1;31mTypeError\u001b[0m: 'set' object is not subscriptable"
     ]
    }
   ],
   "source": [
    "## adding eemetnt is not order while getting , due to un order nature indexing doesnot support\n",
    "color[0] ## doesnot support"
   ]
  },
  {
   "cell_type": "code",
   "execution_count": 65,
   "id": "4f46d67e-30d2-459f-9bc3-2bc190a01a2d",
   "metadata": {},
   "outputs": [
    {
     "data": {
      "text/plain": [
       "{100, 'blue', 'indigo', 'orange', 'red', 'white'}"
      ]
     },
     "execution_count": 65,
     "metadata": {},
     "output_type": "execute_result"
    }
   ],
   "source": [
    "## adding elements in set\n",
    "color.add('indigo')\n",
    "color"
   ]
  },
  {
   "cell_type": "code",
   "execution_count": 66,
   "id": "0aaa78fe-f252-4bcd-9b06-21591909ec4f",
   "metadata": {},
   "outputs": [
    {
     "data": {
      "text/plain": [
       "{100, 'blue', 'indigo', 'red', 'white'}"
      ]
     },
     "execution_count": 66,
     "metadata": {},
     "output_type": "execute_result"
    }
   ],
   "source": [
    "## remove \n",
    "color.remove('orange')\n",
    "color"
   ]
  },
  {
   "cell_type": "markdown",
   "id": "af71e9e7-6eb9-4773-b1d6-92bf52bab410",
   "metadata": {},
   "source": [
    "### Set for Mathamatics"
   ]
  },
  {
   "cell_type": "code",
   "execution_count": 71,
   "id": "e4e50d43-3ccc-40ac-9250-3cffe54ea94e",
   "metadata": {},
   "outputs": [
    {
     "data": {
      "text/plain": [
       "{'raju', 'rani'}"
      ]
     },
     "execution_count": 71,
     "metadata": {},
     "output_type": "execute_result"
    }
   ],
   "source": [
    "slaesteam = {'raju','roja','rani','ravi'}\n",
    "marketingteam={'vector','raju','rani','john'}\n",
    "\n",
    "## your ask to find employees who are workig more than 1 team\n",
    "## Intersection fetches common elemt from 2 sets\n",
    "slaesteam.intersection(marketingteam) ## one option \n",
    "slaesteam&marketingteam ## alternative"
   ]
  },
  {
   "cell_type": "code",
   "execution_count": 72,
   "id": "7187bec1-5164-4dc2-8a71-59637b9468e9",
   "metadata": {},
   "outputs": [
    {
     "data": {
      "text/plain": [
       "{'john', 'raju', 'rani', 'ravi', 'roja', 'vector'}"
      ]
     },
     "execution_count": 72,
     "metadata": {},
     "output_type": "execute_result"
    }
   ],
   "source": [
    "## your ask to find employees who are workig all teams\n",
    "## union fetches common elemt from 2 sets\n",
    "slaesteam.union(marketingteam) ## one option \n",
    "slaesteam|marketingteam ## alternative"
   ]
  },
  {
   "cell_type": "code",
   "execution_count": 73,
   "id": "b652a8fa-8b0f-426e-89b6-a16103a62400",
   "metadata": {},
   "outputs": [
    {
     "data": {
      "text/plain": [
       "{'ravi', 'roja'}"
      ]
     },
     "execution_count": 73,
     "metadata": {},
     "output_type": "execute_result"
    }
   ],
   "source": [
    "## your ask to find employees who are workig only in salesteam\n",
    "## difference fetches only salesteam who dont work for marketing team\n",
    "slaesteam.difference(marketingteam) ## one option \n",
    "slaesteam-marketingteam ## alternative"
   ]
  },
  {
   "cell_type": "code",
   "execution_count": 74,
   "id": "66bddcf1-3f1f-424d-a646-a6cbd8a222c7",
   "metadata": {},
   "outputs": [
    {
     "data": {
      "text/plain": [
       "{'john', 'ravi', 'roja', 'vector'}"
      ]
     },
     "execution_count": 74,
     "metadata": {},
     "output_type": "execute_result"
    }
   ],
   "source": [
    "## your ask to find employees who are workig only for dedicated team means exclude who works for both teams\n",
    "## symmetric_difference fetches only salesteam and marketing team who worked dedicate to the respective teams\n",
    "slaesteam.symmetric_difference(marketingteam) ## one option \n"
   ]
  },
  {
   "cell_type": "code",
   "execution_count": null,
   "id": "70db63a6-ee70-4a40-b650-866d90c471df",
   "metadata": {},
   "outputs": [],
   "source": [
    "## union vs symmetric difference\n",
    "## union gives all elements include common\n",
    "## symmetric difference gives all elements exclude commons\n"
   ]
  },
  {
   "cell_type": "code",
   "execution_count": 6,
   "id": "9500a4e3-a295-40cc-8319-97ef629d3495",
   "metadata": {},
   "outputs": [
    {
     "name": "stdout",
     "output_type": "stream",
     "text": [
      "[1, 3, 5, 7]\n"
     ]
    }
   ],
   "source": [
    "## Exercise\n",
    "##Let’s say you have two lists A and B. Identify the elements which are common in the two lists A and B and return them in a sorted manner. For example \n",
    "list_1 = [5, 1, 3, 4, 4, 5, 6, 7]\n",
    "list_2 = [3, 3, 5, 5, 1 ,7 ,2]\n",
    "\n",
    "#Type your answer here\n",
    "list_3 = sorted(list(set(list_1) & set(list_2)))\n",
    "print(list_3)\n",
    "\n"
   ]
  },
  {
   "cell_type": "code",
   "execution_count": 7,
   "id": "641d12ba-739b-414a-a273-9d0899f7136f",
   "metadata": {},
   "outputs": [
    {
     "name": "stdout",
     "output_type": "stream",
     "text": [
      "4\n"
     ]
    }
   ],
   "source": [
    "nums = set([1,1,2,3,3,3,4])\n",
    "print(len(nums))"
   ]
  },
  {
   "cell_type": "code",
   "execution_count": null,
   "id": "58c4413c-280c-4f68-b6b6-8b55391e9d31",
   "metadata": {},
   "outputs": [],
   "source": []
  },
  {
   "cell_type": "code",
   "execution_count": null,
   "id": "233bc347-30fc-4a88-9fb8-3606ff34b0c8",
   "metadata": {},
   "outputs": [],
   "source": []
  },
  {
   "cell_type": "code",
   "execution_count": null,
   "id": "10fe493d-aef9-4f67-8a0b-99c5dc7169ef",
   "metadata": {},
   "outputs": [],
   "source": []
  },
  {
   "cell_type": "code",
   "execution_count": null,
   "id": "06933e03-4488-463e-a3ec-067d07d5be76",
   "metadata": {},
   "outputs": [],
   "source": []
  },
  {
   "cell_type": "code",
   "execution_count": null,
   "id": "d61a2d57-b5fa-4b20-95eb-ae6aa089efc3",
   "metadata": {},
   "outputs": [],
   "source": []
  },
  {
   "cell_type": "code",
   "execution_count": null,
   "id": "ee2e388a-28a5-4fee-bd0a-ba25b942f8f8",
   "metadata": {},
   "outputs": [],
   "source": []
  },
  {
   "cell_type": "code",
   "execution_count": null,
   "id": "7a768c0c-7c48-44d5-bee2-f6a61d2344bd",
   "metadata": {},
   "outputs": [],
   "source": []
  },
  {
   "cell_type": "code",
   "execution_count": null,
   "id": "2d37d402-c6af-4489-b7e5-6826d9f63a1f",
   "metadata": {},
   "outputs": [],
   "source": []
  },
  {
   "cell_type": "markdown",
   "id": "362fe27a-b0f9-43c2-be42-690d7765c569",
   "metadata": {},
   "source": [
    "## <font color='red'>Dictionaries\n",
    "## dictionaries has key ,value pair \n",
    "  {key:value,key:value}\n",
    "  mutable ds, keycannot repeat\n",
    "  key is immutable data typle like int/float/string/tuple\n",
    "  eg:\n",
    "\n",
    "      {'a':'Apple'}  correct\n",
    "      {['a']:'Apple'}  invalid(list mutablenot allowed)"
   ]
  },
  {
   "cell_type": "code",
   "execution_count": 75,
   "id": "266380da-357c-4da1-a658-7eb511d49160",
   "metadata": {},
   "outputs": [],
   "source": [
    "dictionary = {'en':'english','tl':'telugu','tn':'tamil','kn':'kannada'}"
   ]
  },
  {
   "cell_type": "code",
   "execution_count": null,
   "id": "23d10858-c309-492f-9254-ccc2add532e5",
   "metadata": {},
   "outputs": [],
   "source": [
    "## real world examples\n",
    "{'water': ['pani','jel','neeru','h20']}\n"
   ]
  },
  {
   "cell_type": "code",
   "execution_count": 76,
   "id": "1814b15f-f934-48a3-8e48-37aa933aade1",
   "metadata": {},
   "outputs": [
    {
     "data": {
      "text/plain": [
       "[{'ID': 101, 'sub': 'java'},\n",
       " {'ID': 102, 'sub': 'PHP'},\n",
       " {'ID': 103, 'sub': 'JS'}]"
      ]
     },
     "execution_count": 76,
     "metadata": {},
     "output_type": "execute_result"
    }
   ],
   "source": [
    "[\n",
    "{'ID':101,'sub':'java'},\n",
    "    {'ID':102,'sub':'PHP'},\n",
    "    {'ID':103,'sub':'JS'}\n",
    "    \n",
    "]## easily read csv file data in python using dictionary"
   ]
  },
  {
   "cell_type": "code",
   "execution_count": 77,
   "id": "be6429ad-8022-4b67-814e-f293730f789a",
   "metadata": {},
   "outputs": [
    {
     "data": {
      "text/plain": [
       "{('john', 2016): 500, ('Mike', 2018): 900}"
      ]
     },
     "execution_count": 77,
     "metadata": {},
     "output_type": "execute_result"
    }
   ],
   "source": [
    "## Tuple using as a key example\n",
    "## employee and sale data\n",
    "{\n",
    "    ('john',2016):500,('Mike',2018):900\n",
    "}"
   ]
  },
  {
   "cell_type": "code",
   "execution_count": 79,
   "id": "00c262de-fde8-46aa-b81b-e7a2b31f5a07",
   "metadata": {},
   "outputs": [
    {
     "data": {
      "text/plain": [
       "dict"
      ]
     },
     "execution_count": 79,
     "metadata": {},
     "output_type": "execute_result"
    }
   ],
   "source": [
    "us = {} ## empty dictionary\n",
    "type(us)"
   ]
  },
  {
   "cell_type": "code",
   "execution_count": 80,
   "id": "42549891-12a1-493c-91b0-daf8500da65f",
   "metadata": {},
   "outputs": [
    {
     "data": {
      "text/plain": [
       "{'AL': 'Alabama', 'IL': 'Illions'}"
      ]
     },
     "execution_count": 80,
     "metadata": {},
     "output_type": "execute_result"
    }
   ],
   "source": [
    "## adding key value \n",
    "us['AL'] = 'Alabama'\n",
    "us['IL'] = 'Illions'\n",
    "us"
   ]
  },
  {
   "cell_type": "code",
   "execution_count": 82,
   "id": "5e999351-24ad-422d-b10d-7b6948bfc62e",
   "metadata": {},
   "outputs": [
    {
     "data": {
      "text/plain": [
       "{'AL': 'Alabama',\n",
       " 'IL': 'Illions',\n",
       " 'TX': 'Texas',\n",
       " 'NY': 'New York',\n",
       " 'CH': 'chikago'}"
      ]
     },
     "execution_count": 82,
     "metadata": {},
     "output_type": "execute_result"
    }
   ],
   "source": [
    "## adding multiple key vaues using update method\n",
    "us.update({'TX':'Texas','NY':'New York','CH':'chikago'})\n",
    "us\n"
   ]
  },
  {
   "cell_type": "code",
   "execution_count": 85,
   "id": "19be653b-13ed-4f0b-8af7-6cf8bbf5494b",
   "metadata": {},
   "outputs": [
    {
     "name": "stdout",
     "output_type": "stream",
     "text": [
      "Texas\n",
      "Texas\n"
     ]
    }
   ],
   "source": [
    "## access value method 1\n",
    "print(us['TX']) ## if key not there it will throw  erro\n",
    "print(us.get('TX')) ## if key not there not htow any error"
   ]
  },
  {
   "cell_type": "code",
   "execution_count": 86,
   "id": "112ed9e2-74a0-4a90-a5d9-f3484a514bc5",
   "metadata": {},
   "outputs": [
    {
     "name": "stdout",
     "output_type": "stream",
     "text": [
      "Texas\n",
      "no such key\n"
     ]
    }
   ],
   "source": [
    "print(us.get('TX','no such key')) ## if key not exists default value will get\n",
    "print(us.get('TyyyX','no such key')) ## if key not exists default value will get"
   ]
  },
  {
   "cell_type": "code",
   "execution_count": 87,
   "id": "8a0a1dc2-4c53-4036-a938-bab24aa47e98",
   "metadata": {},
   "outputs": [
    {
     "data": {
      "text/plain": [
       "{'AL': 'Alabama', 'IL': 'Illions', 'NY': 'New York', 'CH': 'chikago'}"
      ]
     },
     "execution_count": 87,
     "metadata": {},
     "output_type": "execute_result"
    }
   ],
   "source": [
    "## deleting key value pair\n",
    "del us['TX']\n",
    "us"
   ]
  },
  {
   "cell_type": "markdown",
   "id": "4d2ba8e8-ec1f-4997-b136-78bc5a2e7589",
   "metadata": {},
   "source": [
    "### Important Functions in dictionary"
   ]
  },
  {
   "cell_type": "code",
   "execution_count": 88,
   "id": "b7059eba-b311-4bb9-8667-81c32022fcdd",
   "metadata": {},
   "outputs": [
    {
     "data": {
      "text/plain": [
       "dict_keys(['AL', 'IL', 'NY', 'CH'])"
      ]
     },
     "execution_count": 88,
     "metadata": {},
     "output_type": "execute_result"
    }
   ],
   "source": [
    "## .keys returns keys\n",
    "us.keys()"
   ]
  },
  {
   "cell_type": "code",
   "execution_count": 89,
   "id": "074d1c0f-09b3-41fc-8601-c74951a15ae9",
   "metadata": {},
   "outputs": [
    {
     "data": {
      "text/plain": [
       "dict_values(['Alabama', 'Illions', 'New York', 'chikago'])"
      ]
     },
     "execution_count": 89,
     "metadata": {},
     "output_type": "execute_result"
    }
   ],
   "source": [
    "## .values retuns values\n",
    "us.values()"
   ]
  },
  {
   "cell_type": "code",
   "execution_count": 90,
   "id": "983a2885-20d9-40c3-bb4f-8d94e0d539dc",
   "metadata": {},
   "outputs": [
    {
     "data": {
      "text/plain": [
       "dict_items([('AL', 'Alabama'), ('IL', 'Illions'), ('NY', 'New York'), ('CH', 'chikago')])"
      ]
     },
     "execution_count": 90,
     "metadata": {},
     "output_type": "execute_result"
    }
   ],
   "source": [
    "## .items , returns key value pair\n",
    "us.items()"
   ]
  },
  {
   "cell_type": "markdown",
   "id": "7091d7e6-e229-4be0-a5e4-a0529f17cbb0",
   "metadata": {},
   "source": [
    "## Dictionary & Loop"
   ]
  },
  {
   "cell_type": "code",
   "execution_count": 91,
   "id": "c77b0e24-a05f-469d-a5b5-570356726d5c",
   "metadata": {},
   "outputs": [
    {
     "name": "stdout",
     "output_type": "stream",
     "text": [
      "AL\n",
      "IL\n",
      "NY\n",
      "CH\n"
     ]
    }
   ],
   "source": [
    "for guessme in us: ## if loop dictionary default returns keys\n",
    "    print(guessme) ## only returns keys"
   ]
  },
  {
   "cell_type": "code",
   "execution_count": 92,
   "id": "8e9aae89-8118-4256-bf60-9697a60c470c",
   "metadata": {},
   "outputs": [
    {
     "name": "stdout",
     "output_type": "stream",
     "text": [
      "Alabama\n",
      "Illions\n",
      "New York\n",
      "chikago\n"
     ]
    }
   ],
   "source": [
    "## values\n",
    "for guessme in us: \n",
    "    print(us.get(guessme))"
   ]
  },
  {
   "cell_type": "code",
   "execution_count": 93,
   "id": "12d8c509-64bd-4371-80d0-7190abe7861f",
   "metadata": {},
   "outputs": [
    {
     "name": "stdout",
     "output_type": "stream",
     "text": [
      "('AL', 'Alabama')\n",
      "('IL', 'Illions')\n",
      "('NY', 'New York')\n",
      "('CH', 'chikago')\n"
     ]
    }
   ],
   "source": [
    "## recieving key & value as tuple\n",
    "for guessme in us.items(): \n",
    "    print(guessme) ## tuple"
   ]
  },
  {
   "cell_type": "code",
   "execution_count": 94,
   "id": "b338cd3a-a939-47e7-954b-7b10a4641c37",
   "metadata": {},
   "outputs": [
    {
     "name": "stdout",
     "output_type": "stream",
     "text": [
      "AL Alabama\n",
      "IL Illions\n",
      "NY New York\n",
      "CH chikago\n"
     ]
    }
   ],
   "source": [
    "## unpacking key ,value\n",
    "for key,value in us.items(): \n",
    "    print(key,value)\n"
   ]
  },
  {
   "cell_type": "code",
   "execution_count": 96,
   "id": "1872f96b-ca6f-4479-8444-c548017aabf3",
   "metadata": {},
   "outputs": [
    {
     "name": "stdout",
     "output_type": "stream",
     "text": [
      "{}\n",
      "{1: 2}\n",
      "{1: 2, 2: 4}\n",
      "{1: 2, 2: 4, 3: 6}\n",
      "{1: 2, 2: 4, 3: 6, 4: 8}\n",
      "{1: 2, 2: 4, 3: 6, 4: 8, 5: 10}\n",
      "{1: 2, 2: 4, 3: 6, 4: 8, 5: 10, 6: 12}\n",
      "{1: 2, 2: 4, 3: 6, 4: 8, 5: 10, 6: 12, 7: 14}\n",
      "{1: 2, 2: 4, 3: 6, 4: 8, 5: 10, 6: 12, 7: 14, 8: 16}\n"
     ]
    }
   ],
   "source": [
    "## creating dictionary using loop\n",
    "my_dir = {}\n",
    "for x in range(1,10):\n",
    "    print(my_dir)\n",
    "    my_dir[x]=x+x\n",
    "\n"
   ]
  },
  {
   "cell_type": "markdown",
   "id": "7dde53d8-45da-47b2-ae5d-c4f8eec95fe5",
   "metadata": {},
   "source": [
    "## Activity\n"
   ]
  },
  {
   "cell_type": "code",
   "execution_count": 98,
   "id": "af7f5cc5-123a-4329-b444-9dc7379841a8",
   "metadata": {},
   "outputs": [
    {
     "name": "stdout",
     "output_type": "stream",
     "text": [
      "{45000: 0.45, 89000: 0.89, 90000: 0.9}\n"
     ]
    }
   ],
   "source": [
    "## given salries in thusnads an create dictionary with thousands and values in lakhs\n",
    "\n",
    "salaries = [45000,89000,90000]\n",
    "my_dic={}\n",
    "for sal in salaries:\n",
    "    my_dic[sal] = sal/100000\n",
    "\n",
    "print(my_dic)\n"
   ]
  },
  {
   "cell_type": "code",
   "execution_count": 8,
   "id": "52b659fc-bd0c-4ae7-95db-2ed933248633",
   "metadata": {},
   "outputs": [
    {
     "name": "stdout",
     "output_type": "stream",
     "text": [
      "Product Lead\n"
     ]
    }
   ],
   "source": [
    "Employee_data = { 101:['Shiva', 24, 'Content Strategist'] ,102:['Udit',25,'Content Strategist'], 103:['Sonam', 28,'Sr Manager'], 104:['Ansari',29,'Product Lead' ],105:['Huzefa',32,'Project Manager' ]}\n",
    "\n",
    "## get profession of employee for employe id 104\n",
    "\n",
    "print(Employee_data.get(104)[2])"
   ]
  },
  {
   "cell_type": "code",
   "execution_count": 10,
   "id": "5d9aeb5b-4d19-4343-8f2a-80724be62fb6",
   "metadata": {},
   "outputs": [
    {
     "name": "stdout",
     "output_type": "stream",
     "text": [
      "<class 'dict'>\n"
     ]
    }
   ],
   "source": [
    "d={}\n",
    "print(type(d))"
   ]
  },
  {
   "cell_type": "code",
   "execution_count": 12,
   "id": "251daae5-20b7-4f26-a44c-3e6893dce1cf",
   "metadata": {},
   "outputs": [
    {
     "name": "stdout",
     "output_type": "stream",
     "text": [
      "<class 'dict'>\n"
     ]
    }
   ],
   "source": [
    "d = {'a':1, 'b':2}\n",
    "print(type(d))"
   ]
  },
  {
   "cell_type": "code",
   "execution_count": 14,
   "id": "0a14fc4b-42ee-45ec-adfd-0ad784472bfe",
   "metadata": {},
   "outputs": [
    {
     "name": "stdout",
     "output_type": "stream",
     "text": [
      "<class 'dict'>\n"
     ]
    }
   ],
   "source": [
    "d = dict(a=1, b=2)\n",
    "print(type(d))"
   ]
  },
  {
   "cell_type": "code",
   "execution_count": 15,
   "id": "a0a51603-3d5d-4a2f-a014-db1d926ca04e",
   "metadata": {},
   "outputs": [
    {
     "ename": "SyntaxError",
     "evalue": "invalid syntax (337735659.py, line 1)",
     "output_type": "error",
     "traceback": [
      "\u001b[1;36m  Cell \u001b[1;32mIn[15], line 1\u001b[1;36m\u001b[0m\n\u001b[1;33m    d = ('a':1, 'b':2)\u001b[0m\n\u001b[1;37m            ^\u001b[0m\n\u001b[1;31mSyntaxError\u001b[0m\u001b[1;31m:\u001b[0m invalid syntax\n"
     ]
    }
   ],
   "source": [
    "d = ('a':1, 'b':2)\n",
    "d"
   ]
  },
  {
   "cell_type": "code",
   "execution_count": 24,
   "id": "516899ec-2166-4ebe-b0ee-f56aa2d1061f",
   "metadata": {},
   "outputs": [
    {
     "name": "stdout",
     "output_type": "stream",
     "text": [
      "NA\n",
      "NA\n"
     ]
    }
   ],
   "source": [
    "##From a Dictionary input_dict={'Name': 'Monty', 'Profession': 'Singer' }, get the value of a key ‘Label’ which is not a part of the dictionary,\n",
    "##in such a way that Python doesn't hit an error. If the key does not exist in the dictionary, Python should return 'NA'.\n",
    "d = {'Name': 'Monty', 'Profession': 'Singer' }\n",
    "na = d.get('Label')\n",
    "if na == None:\n",
    "    print('NA')\n",
    "else:\n",
    "    print(na)\n",
    "\n",
    "## instead of writing above code and avoid error if key is not in dictionary we can pass default value \n",
    "answer = d.get('Label','NA')\n",
    "print(answer)"
   ]
  },
  {
   "cell_type": "code",
   "execution_count": 27,
   "id": "4b20727f-ea1e-474e-bca4-148baa372f5b",
   "metadata": {},
   "outputs": [
    {
     "name": "stdout",
     "output_type": "stream",
     "text": [
      "['Amazon', 'Apple', 'RJIO', 'Twitter']\n"
     ]
    }
   ],
   "source": [
    "##Create a SORTED list of all values from the dictionary \n",
    "input_dict = {'Jack Dorsey' : 'Twitter' , 'Tim Cook' : 'Apple','Jeff Bezos' : 'Amazon' ,'Mukesh Ambani' : 'RJIO'}\n",
    "print(sorted(input_dict.values()))"
   ]
  },
  {
   "cell_type": "code",
   "execution_count": 32,
   "id": "d5d7db01-4ddf-4650-935e-de8870af3072",
   "metadata": {},
   "outputs": [
    {
     "data": {
      "text/plain": [
       "{'Python': 40}"
      ]
     },
     "execution_count": 32,
     "metadata": {},
     "output_type": "execute_result"
    }
   ],
   "source": [
    "dict_1 = {\"Python\":40, \"R\":45}\n",
    "del dict_1['R']\n",
    "dict_1"
   ]
  },
  {
   "cell_type": "code",
   "execution_count": 35,
   "id": "bea2fa2d-0045-4994-8aa7-8bb44916f97b",
   "metadata": {},
   "outputs": [
    {
     "name": "stdout",
     "output_type": "stream",
     "text": [
      "<class 'dict_keys'>\n",
      "['Python', 'R']\n"
     ]
    }
   ],
   "source": [
    "d = {'Python':40, 'R':45}\n",
    "print(type(d.keys()))\n",
    "print(list(d.keys()))"
   ]
  },
  {
   "cell_type": "markdown",
   "id": "a3298aa7-b1be-48cf-b7d2-367c858a5306",
   "metadata": {},
   "source": [
    "### <font color='red'>Boot camp week 2 live session -2 practices , 07/04/2024 5:00 pm - 7:30 pm"
   ]
  },
  {
   "cell_type": "code",
   "execution_count": 37,
   "id": "f1fe013e-0c07-4728-b252-06a2810cf1e9",
   "metadata": {},
   "outputs": [
    {
     "name": "stdout",
     "output_type": "stream",
     "text": [
      "Hello welocme to python world!\n",
      "HELLO WELOCME TO PYTHON WORLD!\n"
     ]
    }
   ],
   "source": [
    "## capitalize() only first letter make upper letter,upper() will chnage all to capital letters\n",
    "t = 'hello welocme to python world!'\n",
    "print(t.capitalize())\n",
    "print(t.upper())"
   ]
  },
  {
   "cell_type": "code",
   "execution_count": 39,
   "id": "8b863440-9859-4d1d-a410-951e82196a86",
   "metadata": {},
   "outputs": [
    {
     "ename": "TypeError",
     "evalue": "'tuple' object is not callable",
     "output_type": "error",
     "traceback": [
      "\u001b[1;31m---------------------------------------------------------------------------\u001b[0m",
      "\u001b[1;31mTypeError\u001b[0m                                 Traceback (most recent call last)",
      "Cell \u001b[1;32mIn[39], line 5\u001b[0m\n\u001b[0;32m      2\u001b[0m \u001b[38;5;28;01mdef\u001b[39;00m \u001b[38;5;21mcapitalize_nth\u001b[39m(s,n):\n\u001b[0;32m      3\u001b[0m     \u001b[38;5;28mprint\u001b[39m(s[\u001b[38;5;241m0\u001b[39m:n]\u001b[38;5;241m.\u001b[39mlower()\u001b[38;5;241m+\u001b[39ms[n:]\u001b[38;5;241m.\u001b[39mcapitalize())\n\u001b[1;32m----> 5\u001b[0m s \u001b[38;5;241m=\u001b[39m \u001b[38;5;28minput\u001b[39m(\u001b[38;5;124m'\u001b[39m\u001b[38;5;124menter string :\u001b[39m\u001b[38;5;124m'\u001b[39m)\n\u001b[0;32m      6\u001b[0m n \u001b[38;5;241m=\u001b[39m \u001b[38;5;28minput\u001b[39m(\u001b[38;5;124m'\u001b[39m\u001b[38;5;124menter inde\u001b[39m\u001b[38;5;124m'\u001b[39m)\n\u001b[0;32m      7\u001b[0m capitalize_nth(s,n)\n",
      "\u001b[1;31mTypeError\u001b[0m: 'tuple' object is not callable"
     ]
    }
   ],
   "source": [
    "## captilize n charecter from string\n",
    "def capitalize_nth(s,n):\n",
    "    print(s[0:n].lower()+s[n:].capitalize())\n",
    "\n",
    "s = input('enter string :')\n",
    "n = input('enter inde')\n",
    "capitalize_nth(s,n)"
   ]
  },
  {
   "cell_type": "code",
   "execution_count": 43,
   "id": "5881cfae-54e6-4729-bb22-dead0676f462",
   "metadata": {},
   "outputs": [
    {
     "name": "stdout",
     "output_type": "stream",
     "text": [
      "                                         Datascinece                                          \n",
      "*****************************************Datascinece******************************************\n"
     ]
    }
   ],
   "source": [
    "## center is used for formatting\n",
    "s = 'Datascinece'\n",
    "print(s.center(94))\n",
    "print(s.center(94,'*'))## optional value to replcae space with given value"
   ]
  },
  {
   "cell_type": "code",
   "execution_count": 44,
   "id": "bcbf3369-ad92-40c5-8276-a51ca84cdaed",
   "metadata": {},
   "outputs": [
    {
     "name": "stdout",
     "output_type": "stream",
     "text": [
      "1\n"
     ]
    }
   ],
   "source": [
    "# count\n",
    "txt = 'Ilove data science, Data is required'\n",
    "print(txt.count('Data'))## python case sensitive so it will check capital ,small"
   ]
  },
  {
   "cell_type": "code",
   "execution_count": 48,
   "id": "578005e6-ae8f-4e2f-8376-3f51f0aae747",
   "metadata": {},
   "outputs": [
    {
     "name": "stdout",
     "output_type": "stream",
     "text": [
      "20\n",
      "-1\n",
      "11\n"
     ]
    }
   ],
   "source": [
    "## find - find the index value start that specific word\n",
    "txt = 'Ilove data science, Data is required'\n",
    "print(txt.find('Data'))\n",
    "print(txt.find('Hello'))\n",
    "print(txt.find('scienc'))"
   ]
  },
  {
   "cell_type": "code",
   "execution_count": 54,
   "id": "91d3b338-62f8-4876-8e12-bcdb2d8ed562",
   "metadata": {},
   "outputs": [
    {
     "name": "stdout",
     "output_type": "stream",
     "text": [
      "I, ,l,o,v,e, ,d,a,t,a, ,s,c,i,e,n,c,e\n",
      "John#Peter#Vicky\n"
     ]
    }
   ],
   "source": [
    "## join\n",
    "##The join() method takes all items in an iterable and joins them into one string.\n",
    "txt = 'I love data science'\n",
    "list = ['I LOVE','DATA','SCINCE'] ## list to change string \n",
    "\n",
    "txt1 = ','.join(txt)\n",
    "print(txt1)\n",
    "\n",
    "txt = ','.join(list)\n",
    "print(txt)\n",
    "\n",
    "myTuple = (\"John\", \"Peter\", \"Vicky\")\n",
    "x = \"#\".join(myTuple)\n",
    "print(x)"
   ]
  },
  {
   "cell_type": "code",
   "execution_count": null,
   "id": "86342fe5-dbb6-4c8e-b947-00dcb2e56a2f",
   "metadata": {},
   "outputs": [],
   "source": [
    "## replace\n",
    "txt = 'I love R, R is good for  data science'\n",
    "txt.replace('R','Python')\n",
    "txt"
   ]
  },
  {
   "cell_type": "code",
   "execution_count": null,
   "id": "bf02b07b-346d-4a57-a353-cd04b24f525e",
   "metadata": {},
   "outputs": [],
   "source": [
    "## split\n",
    "## split the string and returns string\n",
    "txt = 'I love R # R is good for #  data science'\n",
    "txt.split('#')\n",
    "print(txt)"
   ]
  },
  {
   "cell_type": "code",
   "execution_count": 4,
   "id": "1494e24e-accd-448a-80f3-f0386833b224",
   "metadata": {},
   "outputs": [
    {
     "name": "stdout",
     "output_type": "stream",
     "text": [
      "datas\n",
      "dts\n"
     ]
    }
   ],
   "source": [
    "## slicing\n",
    "my = 'datascience'\n",
    "print(my[0:5:1]) ## here last is step , how many words to jump\n",
    "print(my[0:5:2]) ## jump 2 steps"
   ]
  },
  {
   "cell_type": "markdown",
   "id": "2e5c8250-5109-4605-b19f-e392bcf70cf6",
   "metadata": {},
   "source": [
    "## <font color='red' >MCQ Exercises for Boot Camp 2nd week course"
   ]
  },
  {
   "cell_type": "code",
   "execution_count": 1,
   "id": "e2440eda-dd5e-4719-8e7f-a69784ced59e",
   "metadata": {},
   "outputs": [
    {
     "ename": "TypeError",
     "evalue": "'str' object cannot be interpreted as an integer",
     "output_type": "error",
     "traceback": [
      "\u001b[1;31m---------------------------------------------------------------------------\u001b[0m",
      "\u001b[1;31mTypeError\u001b[0m                                 Traceback (most recent call last)",
      "Cell \u001b[1;32mIn[1], line 2\u001b[0m\n\u001b[0;32m      1\u001b[0m s \u001b[38;5;241m=\u001b[39m \u001b[38;5;124m'\u001b[39m\u001b[38;5;124ma$b@c@d\u001b[39m\u001b[38;5;124m'\u001b[39m\n\u001b[1;32m----> 2\u001b[0m \u001b[38;5;28mprint\u001b[39m(s\u001b[38;5;241m.\u001b[39msplit(\u001b[38;5;124m'\u001b[39m\u001b[38;5;124m@\u001b[39m\u001b[38;5;124m'\u001b[39m,\u001b[38;5;124m'\u001b[39m\u001b[38;5;124m$\u001b[39m\u001b[38;5;124m'\u001b[39m))\n",
      "\u001b[1;31mTypeError\u001b[0m: 'str' object cannot be interpreted as an integer"
     ]
    }
   ],
   "source": [
    "s = 'a$b@c@d'\n",
    "print(s.split('@','$'))## split cannot take two arguments at a time"
   ]
  },
  {
   "cell_type": "code",
   "execution_count": 3,
   "id": "f8bd720f-508c-4876-acdf-0c9d206efdda",
   "metadata": {},
   "outputs": [
    {
     "name": "stdout",
     "output_type": "stream",
     "text": [
      "banana\n"
     ]
    }
   ],
   "source": [
    "fruits = ['apple', 'mango', ['grapes', 'papaya'], ('banana', 'pomegranate')]\n",
    "print(fruits[3][0])"
   ]
  },
  {
   "cell_type": "code",
   "execution_count": 4,
   "id": "3b75ebec-988d-41a9-8900-388f14793c1c",
   "metadata": {},
   "outputs": [
    {
     "name": "stdout",
     "output_type": "stream",
     "text": [
      "None\n"
     ]
    }
   ],
   "source": [
    "list_1 = ['red' , 'orange', 'blue', 'green', 'black', 'white']\n",
    "print(list_1.sort())"
   ]
  },
  {
   "cell_type": "code",
   "execution_count": 5,
   "id": "e50dc5c1-2285-4e5d-bd61-87b8c9d4113b",
   "metadata": {},
   "outputs": [
    {
     "name": "stdout",
     "output_type": "stream",
     "text": [
      "[2, 4, 7, 9]\n",
      "[9, 4, 2, 7]\n",
      "None\n",
      "[1, 3, 6, 8]\n"
     ]
    }
   ],
   "source": [
    "num_1=[9,4,2,7]\n",
    "num_2=[8,3,6,1]\n",
    "print(sorted(num_1))\n",
    "print(num_1)\n",
    "print(num_2.sort())\n",
    "print(num_2)\n",
    "##This is the correct answer because the sort() function will modify the original list\n",
    "##, whereas the sorted() function will create a new list that has the elements of the original list in a sorted manner. "
   ]
  },
  {
   "cell_type": "code",
   "execution_count": 6,
   "id": "f4fdb9a1-00c2-4fab-a4c1-fc339babd0b0",
   "metadata": {},
   "outputs": [
    {
     "name": "stdout",
     "output_type": "stream",
     "text": [
      "('paris', 'india', 'china', 'london', 'sri lanka')\n"
     ]
    }
   ],
   "source": [
    "l = ['paris','india','china','london']\n",
    "print(tuple(l+['sri lanka']))"
   ]
  },
  {
   "cell_type": "code",
   "execution_count": 7,
   "id": "ad02486a-9e58-4658-9242-c7ba8434bf3d",
   "metadata": {},
   "outputs": [
    {
     "name": "stdout",
     "output_type": "stream",
     "text": [
      "<class 'int'>\n"
     ]
    }
   ],
   "source": [
    "var=(5)\n",
    "print(type(var))"
   ]
  },
  {
   "cell_type": "code",
   "execution_count": 8,
   "id": "be781f6b-fc57-4a8b-8cde-843bcf80d2fb",
   "metadata": {},
   "outputs": [
    {
     "name": "stdout",
     "output_type": "stream",
     "text": [
      "([1, 3, 7], 'abcd', (2, 4), 6)\n"
     ]
    }
   ],
   "source": [
    "tup=([1,3,5],\"abcd\",(2,4),6)\n",
    "tup[0][2]=7\n",
    "print(tup)"
   ]
  },
  {
   "cell_type": "code",
   "execution_count": 9,
   "id": "d1915c79-b81c-4538-b9a1-10935be12793",
   "metadata": {},
   "outputs": [
    {
     "name": "stdout",
     "output_type": "stream",
     "text": [
      "{1, 2, 4}\n"
     ]
    }
   ],
   "source": [
    "a= {1,2,4,5}\n",
    "b= {5,6,7,8}\n",
    "print(a-b)"
   ]
  },
  {
   "cell_type": "code",
   "execution_count": 10,
   "id": "77230544-8bc1-4eb0-aa68-42a292e0ef02",
   "metadata": {},
   "outputs": [
    {
     "ename": "TypeError",
     "evalue": "unsupported operand type(s) for *: 'set' and 'int'",
     "output_type": "error",
     "traceback": [
      "\u001b[1;31m---------------------------------------------------------------------------\u001b[0m",
      "\u001b[1;31mTypeError\u001b[0m                                 Traceback (most recent call last)",
      "Cell \u001b[1;32mIn[10], line 2\u001b[0m\n\u001b[0;32m      1\u001b[0m s\u001b[38;5;241m=\u001b[39m {\u001b[38;5;241m3\u001b[39m,\u001b[38;5;241m4\u001b[39m,\u001b[38;5;241m5\u001b[39m}\n\u001b[1;32m----> 2\u001b[0m s\u001b[38;5;241m*\u001b[39m\u001b[38;5;241m2\u001b[39m\n",
      "\u001b[1;31mTypeError\u001b[0m: unsupported operand type(s) for *: 'set' and 'int'"
     ]
    }
   ],
   "source": [
    "s= {3,4,5}\n",
    "s*2\n",
    "##The multiplication operation is not supported by sets \n",
    "##but by lists and tuples. Run the code in a Jupyter Notebook by defining ‘s’ as a list or a tuple."
   ]
  },
  {
   "cell_type": "code",
   "execution_count": 11,
   "id": "ae01472a-93c2-41b4-8902-41ff498092ed",
   "metadata": {},
   "outputs": [
    {
     "name": "stdout",
     "output_type": "stream",
     "text": [
      "5\n"
     ]
    }
   ],
   "source": [
    "numbers= {1,0,6,1,4,0,7}\n",
    "print(len(numbers))"
   ]
  },
  {
   "cell_type": "code",
   "execution_count": 12,
   "id": "4d18697e-6635-4d5d-917d-06254742e3fd",
   "metadata": {},
   "outputs": [
    {
     "ename": "KeyError",
     "evalue": "1",
     "output_type": "error",
     "traceback": [
      "\u001b[1;31m---------------------------------------------------------------------------\u001b[0m",
      "\u001b[1;31mKeyError\u001b[0m                                  Traceback (most recent call last)",
      "Cell \u001b[1;32mIn[12], line 2\u001b[0m\n\u001b[0;32m      1\u001b[0m \u001b[38;5;28mdict\u001b[39m\u001b[38;5;241m=\u001b[39m {\u001b[38;5;124m'\u001b[39m\u001b[38;5;124mab\u001b[39m\u001b[38;5;124m'\u001b[39m:\u001b[38;5;241m12\u001b[39m,\u001b[38;5;124m'\u001b[39m\u001b[38;5;124mcd\u001b[39m\u001b[38;5;124m'\u001b[39m:\u001b[38;5;241m34\u001b[39m,\u001b[38;5;124m'\u001b[39m\u001b[38;5;124mef\u001b[39m\u001b[38;5;124m'\u001b[39m:\u001b[38;5;241m56\u001b[39m}\n\u001b[1;32m----> 2\u001b[0m \u001b[38;5;28mprint\u001b[39m(\u001b[38;5;28mdict\u001b[39m[\u001b[38;5;241m1\u001b[39m])\n",
      "\u001b[1;31mKeyError\u001b[0m: 1"
     ]
    }
   ],
   "source": [
    "dict= {'ab':12,'cd':34,'ef':56}\n",
    "print(dict[1])"
   ]
  },
  {
   "cell_type": "code",
   "execution_count": 13,
   "id": "973a8dbc-fad8-41f0-a96b-9c1ab2f32766",
   "metadata": {},
   "outputs": [
    {
     "name": "stdout",
     "output_type": "stream",
     "text": [
      "dict_keys(['John', 'Alex'])\n"
     ]
    }
   ],
   "source": [
    "marks= {'John':45,'Alex':60}\n",
    "print(marks.keys())"
   ]
  },
  {
   "cell_type": "code",
   "execution_count": 14,
   "id": "53325bc4-e829-42d0-94b3-48e640b36d95",
   "metadata": {},
   "outputs": [
    {
     "data": {
      "text/plain": [
       "True"
      ]
     },
     "execution_count": 14,
     "metadata": {},
     "output_type": "execute_result"
    }
   ],
   "source": [
    "d = {\"Python\":40, \"R\":45}\n",
    "\"Python\" in d"
   ]
  },
  {
   "cell_type": "code",
   "execution_count": 15,
   "id": "98327597-30e2-4c77-996c-088bd3db92c7",
   "metadata": {},
   "outputs": [
    {
     "name": "stdout",
     "output_type": "stream",
     "text": [
      "1\n",
      "2\n",
      "3\n"
     ]
    }
   ],
   "source": [
    "input_dict= {1:\"one\",2:\"two\",3:\"three\"}\n",
    "for i in input_dict:\n",
    "  print(i)"
   ]
  },
  {
   "cell_type": "code",
   "execution_count": 16,
   "id": "f01b39a2-3fea-4b15-b1fa-5a508571375a",
   "metadata": {},
   "outputs": [
    {
     "name": "stdout",
     "output_type": "stream",
     "text": [
      "8\n"
     ]
    }
   ],
   "source": [
    "input_str=\"I love programming in python\"\n",
    "count=0\n",
    "l=['a','e','i','o','u']\n",
    "for i in input_str.lower():\n",
    "  if i in l:\n",
    "  \tcount=count+1\n",
    "print(count)"
   ]
  },
  {
   "cell_type": "code",
   "execution_count": 13,
   "id": "ad0a7065-fc05-491b-932e-381b535a13e7",
   "metadata": {},
   "outputs": [
    {
     "name": "stdin",
     "output_type": "stream",
     "text": [
      " 8,9,99,45,5,7,0\n"
     ]
    },
    {
     "name": "stdout",
     "output_type": "stream",
     "text": [
      "7\n",
      "173\n"
     ]
    }
   ],
   "source": [
    "##Suppose you want to know the total score of the Indian cricket team in a given match. To do so, your task is to find the\n",
    "##sum of all the scores of the Indian team players. The scores are provided as a list, with each element as an individual \n",
    "##score of the players. Also, \n",
    "##there is a condition that if the number of elements in the list is more than 11, then it is an invalid input and the output should be -1.\n",
    "\n",
    "##Sample Input : [11, 13, 101, 14, 33, 141]\n",
    "##Sample Output : 313\n",
    "##Sample Input : [11, 13, 101, 14, 33, 141, 12, 144, 54, 67, 8, 11]\n",
    "##Sample Output : -1\n",
    "\n",
    "import ast ## abstract synta is used to change pythoncode to abstract and vice versa\n",
    "\n",
    "#Take input \n",
    "numbers =  ast.literal_eval(input())\n",
    "#Write your code here\n",
    "output = 0\n",
    "print(len(numbers))\n",
    "if len(numbers)>11:\n",
    "    output = -1\n",
    "else:\n",
    "    output = sum(numbers)\n",
    "print(output)\n",
    "\n",
    "\n",
    "## Other approach using function\n",
    "##function for calculating the total scores that takes the scores list as an argument\n",
    "##take scores list as input\n",
    "scores=ast.literal_eval(input())\n",
    "def calc_score(scores):\n",
    "#If the number of score entries in the list is greater than 11, return -1\n",
    "    if len(scores)>11:\n",
    "        return(-1)        \n",
    "#calculate the sum of scores\n",
    "    else:\n",
    "        return(sum(scores))\n",
    "print(calc_score(scores))\n",
    "\n"
   ]
  },
  {
   "cell_type": "code",
   "execution_count": 29,
   "id": "34872097-d82b-4eeb-9dbc-a519c7336d11",
   "metadata": {},
   "outputs": [
    {
     "name": "stdin",
     "output_type": "stream",
     "text": [
      " 'vizag','srikakulam'\n",
      " 8\n"
     ]
    },
    {
     "name": "stdout",
     "output_type": "stream",
     "text": [
      "8\n",
      "2\n",
      "Total count  1\n"
     ]
    }
   ],
   "source": [
    "import ast\n",
    "import sys\n",
    "\n",
    "\n",
    "input_list = ast.literal_eval(input())\n",
    "input_list1 = int(input())\n",
    "print(input_list1)\n",
    "print(len(input_list))\n",
    "count=0\n",
    "for k in input_list:\n",
    "    if len(k)>=input_list1:\n",
    "        count = count+1\n",
    "\n",
    "print('Total count ',count)"
   ]
  },
  {
   "cell_type": "code",
   "execution_count": 54,
   "id": "4de927ed-01a7-4793-9600-1f19fba50dcd",
   "metadata": {},
   "outputs": [
    {
     "name": "stdin",
     "output_type": "stream",
     "text": [
      " 'Python', '123', 'Data'\n",
      " 4\n"
     ]
    },
    {
     "name": "stdout",
     "output_type": "stream",
     "text": [
      "['Python', '127', 'Data']\n"
     ]
    }
   ],
   "source": [
    "##Given a list of strings, increment the value of the numeric strings by 'k’. \n",
    "##Hint: The function isdigit() may be useful here.\n",
    "##['Python', '123', 'Data']\n",
    "##  4\n",
    "##Sample Output : ['Python', '127', 'Data']\n",
    "\n",
    "#Input has been taken for you\n",
    "import ast\n",
    "input_list = ast.literal_eval(input())\n",
    "K = int(input())\n",
    "output_list = []\n",
    "\n",
    "for i in range(len(input_list)):\n",
    "    if input_list[i].isdigit():\n",
    "        output_list.append(str(int(input_list[i]) + K))\n",
    "    else:\n",
    "        output_list.append(input_list[i])\n",
    "print(output_list)        "
   ]
  },
  {
   "cell_type": "code",
   "execution_count": null,
   "id": "9e8756a7-376d-429e-8f3e-3dc9aac3d757",
   "metadata": {},
   "outputs": [],
   "source": [
    "## other approach\n",
    "\n",
    "import ast\n",
    "#reading the input list\n",
    "input_list = ast.literal_eval(input())\n",
    "K = int(input())\n",
    "\n",
    "# Function that takes the input list and increment value as an argument \n",
    "def check(L, K):\n",
    "    for i in range(len(L)):\n",
    "        # incrementing on testing for digit, increment by K or else continue the loop \n",
    "        if L[i].isdigit(): \n",
    "            L[i] = str(int(L[i])+K)\n",
    "        else: \n",
    "            continue\n",
    "    return L\n",
    "\n",
    "\n",
    "#calling the function\n",
    "transformed_list = check(input_list, K)\n",
    "\n",
    "#print the result\n",
    "print(transformed_list)\n"
   ]
  },
  {
   "cell_type": "code",
   "execution_count": 56,
   "id": "91c40f58-71f4-4434-b163-670e2cecfd5f",
   "metadata": {},
   "outputs": [
    {
     "name": "stdin",
     "output_type": "stream",
     "text": [
      " ['Mumbai', 'Delhi', 'Australia', 'Nigeria', 'USA', 'London', 'Canada']\n",
      " 2\n"
     ]
    },
    {
     "name": "stdout",
     "output_type": "stream",
     "text": [
      "['Delhi', 'Australia', 'Nigeria', 'USA', 'London', 'Canada']\n"
     ]
    }
   ],
   "source": [
    "#read the input using the ast sys\n",
    "import ast\n",
    "input_list = ast.literal_eval(input())\n",
    "K = int(input())\n",
    "#Write the code here\n",
    "print(input_list[K-1:])"
   ]
  },
  {
   "cell_type": "code",
   "execution_count": 69,
   "id": "9ed8c264-22e3-445e-bba7-e31b9897cd53",
   "metadata": {},
   "outputs": [
    {
     "name": "stdout",
     "output_type": "stream",
     "text": [
      "3\n"
     ]
    }
   ],
   "source": [
    "##Sample Input - I lovE PRogrAMMing\n",
    "##Sample Output - 6\n",
    "##Explanation - AMMING is the largest substring with all characters in uppercase continuously \n",
    "\n",
    "def find_largest_uppercase_substring(s):\n",
    "    max_length = 0\n",
    "    current_length = 0\n",
    "\n",
    "    for char in s:\n",
    "        if char.isupper():\n",
    "            current_length += 1\n",
    "        else:\n",
    "            max_length = max(max_length, current_length)\n",
    "            current_length = 0\n",
    "\n",
    "    # Check if the last substring is the largest\n",
    "    max_length = max(max_length, current_length)\n",
    "\n",
    "    return max_length\n",
    "\n",
    "# Example string\n",
    "my_string = \"I lovE PROogrAMmng\"\n",
    "\n",
    "# Find the length of the largest substring of uppercase characters\n",
    "result = find_largest_uppercase_substring(my_string)\n",
    "print(result)\n",
    "    \n"
   ]
  },
  {
   "cell_type": "code",
   "execution_count": 80,
   "id": "eb782498-e251-4a04-95e6-8699a5abc803",
   "metadata": {},
   "outputs": [
    {
     "name": "stdin",
     "output_type": "stream",
     "text": [
      " [(45,77), (88,87), (67,98), (33,31)]\n"
     ]
    },
    {
     "name": "stdout",
     "output_type": "stream",
     "text": [
      "Sorted list: [(67, 98), (88, 87), (45, 77), (33, 31)]\n"
     ]
    }
   ],
   "source": [
    "##Sample Input - [(45,77), (88,87), (67,98), (33,31)]\n",
    "##In (45,77), which is the first element in the list, 45 and 77 are the scores of a student in aptitude and physics respectively.\n",
    "##Sample Output - [ (67,98), (88,87), (45,77),(33,31)]\n",
    "\n",
    "import ast\n",
    "input_list = ast.literal_eval(input())\n",
    "# Sort the list based on the second element of each tuple\n",
    "sorted_list = sorted(input_list, key=lambda x: x[1],reverse=True)\n",
    "\n",
    "print(\"Sorted list:\", sorted_list)"
   ]
  },
  {
   "cell_type": "code",
   "execution_count": null,
   "id": "574b7f8c-b26c-48c7-b5d4-662895e4c0d1",
   "metadata": {},
   "outputs": [],
   "source": [
    "## other approach\n",
    "##Sample Input - [(45,77), (88,87), (67,98), (33,31)]\n",
    "##In (45,77), which is the first element in the list, 45 and 77 are the scores of a student in aptitude and physics respectively.\n",
    "##Sample Output - [ (67,98), (88,87), (45,77),(33,31)]\n",
    "\n",
    "import ast\n",
    "#Take input\n",
    "input_list = input()\n",
    "tup = ast.literal_eval(input_list)    \n",
    "# Function to sort the list by second item of tuple \n",
    "def sort(tuples): \n",
    "    return sorted(tuples, key=last , reverse=True)     \n",
    "# key is set to sort using second element of tuple  \n",
    "def last(n): \n",
    "    return n[-1]    \n",
    "# printing the sorted list of tuples \n",
    "print(sort(tup))\n"
   ]
  },
  {
   "cell_type": "code",
   "execution_count": 91,
   "id": "c21db8af-3bc5-4b02-8dc9-4aca08d0b1cc",
   "metadata": {},
   "outputs": [
    {
     "name": "stdin",
     "output_type": "stream",
     "text": [
      " 2,2,4\n"
     ]
    },
    {
     "name": "stdout",
     "output_type": "stream",
     "text": [
      "Happy Number\n"
     ]
    }
   ],
   "source": [
    "##Given an integer ‘n’, your task is to write a\n",
    "##Python code to find whether ‘n’ is divisible by all its digits or not. \n",
    "##If they divide the number, then the number ‘n’ is a happy number. Otherwise, it is a sad number.\n",
    "##The number ‘n’ may be provided with commas. At first, you have to clean the number \n",
    "##(by removing the commas involved) and then check whether the number is happy or sad.\n",
    "\n",
    "##Sample Input - 2,128\n",
    "##Sample Output - Happy Number\n",
    "\n",
    "inp = input()\n",
    "strrep = inp.replace(',','')\n",
    "int1 = int(strrep)\n",
    "cout=0\n",
    "for i in range(0,len(strrep)):\n",
    "    if int1%(int(strrep[i]))==0:\n",
    "        count=1\n",
    "    else:\n",
    "        count=0\n",
    "        break\n",
    "\n",
    "if count==1:\n",
    "    print ('Happy Number')\n",
    "else:\n",
    "    print ('Sad Number')"
   ]
  },
  {
   "cell_type": "code",
   "execution_count": null,
   "id": "1b87a532-f2c8-4f58-819a-c8550f04cb91",
   "metadata": {},
   "outputs": [],
   "source": [
    "## alternative approach\n",
    "# reading input\n",
    "test_str = input()\n",
    "\n",
    "#replace special characters in number, here it is comma (,)\n",
    "cleaned_test_str = test_str.replace(\",\",\"\")\n",
    "\n",
    "#convert to integer\n",
    "n = int(cleaned_test_str)\n",
    "\n",
    "# Function to check if all digits of n divide it or not\n",
    "def allDigitsDivide(n):\n",
    "    temp = n\n",
    "    while (temp > 0):\n",
    "        # Taking the digit of the number into a digit variable.\n",
    "        digit = temp % 10\n",
    "\n",
    "         #check if the digit is non-zero as any number dividing zero is invalid\n",
    "         #also check if it gives a remainder of zero when it divides n\n",
    "        if not(digit != 0 and n % digit == 0):\n",
    "\t        return False\n",
    "        temp = temp // 10\n",
    "    \n",
    "    #If the function did not return anything until the while loop is over, \n",
    "    #it means that the number was divisible by all of its digits.\n",
    "    return True\n",
    "    \n",
    "#call the allDigitsDivide function\n",
    "if (allDigitsDivide(n)):\n",
    "    print(\"Happy Number\")\n",
    "else:\n",
    "    print(\"Sad Number\" )\n"
   ]
  },
  {
   "cell_type": "code",
   "execution_count": 96,
   "id": "534d9a26-3d0f-4746-9f9a-e16213a05e07",
   "metadata": {},
   "outputs": [
    {
     "name": "stdout",
     "output_type": "stream",
     "text": [
      "{'Atletico Madrid': 'D', 'Juventus': 'G', 'Chelsea': 'H'}\n"
     ]
    }
   ],
   "source": [
    " ##{'Atletico Madrid' : ’D’ , ‘Juventus’: ‘B’, ‘Chelsea’: ‘C’ }\n",
    "##[[‘Juventus’, ‘G’], [‘Chelsea’, ‘H’]]\n",
    "\n",
    "#Take input here\n",
    "#we will take input using ast sys\n",
    "import ast\n",
    "#reading the input dictionary\n",
    "##input_dictionary = input()\n",
    "##convert_dictionary = ast.literal_eval(input_dictionary)\n",
    "convert_dictionary = {'Atletico Madrid' : 'D' , 'Juventus': 'B', 'Chelsea': 'C' }\n",
    "#reading the input list\n",
    "##input_list = input()\n",
    "##convert_list = ast.literal_eval(input_list)\n",
    "convert_list = [['Juventus', 'G'], ['Chelsea', 'H']]\n",
    "#Write code here\n",
    "for k in convert_dictionary:\n",
    "    for l in convert_list:\n",
    "        if k==l[0]:\n",
    "            convert_dictionary[k]=l[1]\n",
    "\n",
    "print(convert_dictionary)\n",
    "        \n",
    "    \n"
   ]
  },
  {
   "cell_type": "code",
   "execution_count": null,
   "id": "bb121708-c8a5-42fc-9898-8ec1d2e343bf",
   "metadata": {},
   "outputs": [],
   "source": [
    "## other approach\n",
    "import ast\n",
    "#reading the input dictionary\n",
    "input_dict = ast.literal_eval(input())\n",
    "\n",
    "#reading the input list\n",
    "new_recruit_scores = ast.literal_eval(input())\n",
    "\n",
    "#Function to update the keys of the dictionary\n",
    "def check(d,l):\n",
    "    #loop through each key-value pair in the dictionary\n",
    "    for key in d.keys():\n",
    "        # loop through the list\n",
    "        for ele in l:\n",
    "            #check if any element of the sub list matches the key\n",
    "            if ele[0]==key:\n",
    "                #update the value\n",
    "                d[key] = ele[1] \n",
    "            else: \n",
    "                pass\n",
    "    return d\n",
    "\n",
    "#calling the function\n",
    "transformed_dictionary = check(input_dict, input_list)\n",
    "#print the result\n",
    "print(transformed_dictionary)\n"
   ]
  },
  {
   "cell_type": "code",
   "execution_count": 112,
   "id": "9bcb0ec4-eceb-4262-bdcf-cb996e0ef991",
   "metadata": {},
   "outputs": [
    {
     "name": "stdin",
     "output_type": "stream",
     "text": [
      " ['10', '5', '6', '9', '7']\n",
      " ['10', '9.8', '7.2', '1.66',  '4.3']\n"
     ]
    },
    {
     "name": "stdout",
     "output_type": "stream",
     "text": [
      "Selected\n"
     ]
    }
   ],
   "source": [
    "import ast\n",
    "#reading the input dictionary\n",
    "team_scores1 = ast.literal_eval(input())\n",
    "team_scores = [float(x) for x in team_scores1]\n",
    "#reading the input list\n",
    "new_recruit_scores1 = ast.literal_eval(input())\n",
    "new_recruit_scores = [float(x) for x in new_recruit_scores1]\n",
    "def recruit_or_reject(team_scores, new_recruit_scores):\n",
    "    # Check if the length of team_scores and new_recruit_scores is the same\n",
    "    if len(team_scores) != len(new_recruit_scores):\n",
    "        return \"Rejected\"\n",
    "\n",
    "    # Calculate the average scores for each parameter\n",
    "    team_avg = sum(team_scores) / len(team_scores)\n",
    "\n",
    "    # Check each parameter\n",
    "    count=0\n",
    "    for team_score, new_recruit_score in zip(team_scores, new_recruit_scores):\n",
    "        if new_recruit_score < team_score:\n",
    "            count = count+1\n",
    "        ##if abs(new_recruit_score - team_score) > 1:\n",
    "            ##return \"Rejected\"\n",
    "    if count >2:\n",
    "        return \"Rejected\"\n",
    "\n",
    "    return \"Selected\"\n",
    "# Check if the new recruit can be selected\n",
    "result = recruit_or_reject(team_scores, new_recruit_scores)\n",
    "print(result)"
   ]
  },
  {
   "cell_type": "code",
   "execution_count": 110,
   "id": "f9e922e8-a72e-4621-8dc9-7a89d76ca2fb",
   "metadata": {},
   "outputs": [
    {
     "name": "stdin",
     "output_type": "stream",
     "text": [
      " {'a':'1'}\n",
      " {'b':'2'}\n"
     ]
    },
    {
     "name": "stdout",
     "output_type": "stream",
     "text": [
      "None\n",
      "{'a': '1', 'b': '2'}\n"
     ]
    }
   ],
   "source": [
    "import ast\n",
    "#reading the input dictionary\n",
    "team_scores1 = ast.literal_eval(input())\n",
    "#reading the input list\n",
    "new_recruit_scores1 = ast.literal_eval(input())\n",
    "print(team_scores1.update(new_recruit_scores1)) ##update for merge two dics\n",
    "## another approach un packing\n",
    "print({**team_scores1,**new_recruit_scores1})\n"
   ]
  },
  {
   "cell_type": "code",
   "execution_count": null,
   "id": "606ed420-c830-4cd8-943a-69017cb3fd85",
   "metadata": {},
   "outputs": [],
   "source": []
  },
  {
   "cell_type": "code",
   "execution_count": null,
   "id": "cf5c4026-2ae3-462c-8746-9d1df7c80dc6",
   "metadata": {},
   "outputs": [],
   "source": []
  },
  {
   "cell_type": "code",
   "execution_count": null,
   "id": "f810ff31-af3c-4748-826d-597c07d56bf1",
   "metadata": {},
   "outputs": [],
   "source": []
  }
 ],
 "metadata": {
  "kernelspec": {
   "display_name": "Python 3 (ipykernel)",
   "language": "python",
   "name": "python3"
  },
  "language_info": {
   "codemirror_mode": {
    "name": "ipython",
    "version": 3
   },
   "file_extension": ".py",
   "mimetype": "text/x-python",
   "name": "python",
   "nbconvert_exporter": "python",
   "pygments_lexer": "ipython3",
   "version": "3.11.7"
  }
 },
 "nbformat": 4,
 "nbformat_minor": 5
}
