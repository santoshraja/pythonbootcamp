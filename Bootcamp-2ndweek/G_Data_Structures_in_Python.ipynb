{
  "nbformat": 4,
  "nbformat_minor": 0,
  "metadata": {
    "colab": {
      "provenance": []
    },
    "kernelspec": {
      "name": "python3",
      "display_name": "Python 3"
    },
    "language_info": {
      "name": "python"
    }
  },
  "cells": [
    {
      "cell_type": "markdown",
      "source": [
        "#   <font color='Brown'> Introduction to Python Data Structures\n",
        "    \n",
        "#### <font color='Blue'> DS C67 + DS 30\n",
        "---\n",
        "\n",
        "\n",
        "<span style='color:green'> - Arpendu Ganguly</span>"
      ],
      "metadata": {
        "id": "5FUAXbRuz7AI"
      }
    },
    {
      "cell_type": "markdown",
      "source": [
        "## Python In Built Data Structures\n",
        "\n",
        "\n",
        "\n",
        "*   **Lists:**Just Like Arrays, which is an ordered collection of heterogenous data, it is mutable\n",
        "*   **Tuples:**Collection of Python Objects like Lists, which are immutable\n",
        "*   **Dictionary:** Stores Heterogenous objects that are mutables but unordered in a key-value pair\n",
        "*   **Sets:**Unordered but mutable collection of elements that contain unique values\n",
        "\n",
        "\n",
        "\n"
      ],
      "metadata": {
        "id": "yAH7i1noyk-6"
      }
    },
    {
      "cell_type": "code",
      "source": [
        "#Default compoud data type --> tuple when combining variable types\n",
        "x = 'UpGrad'\n",
        "y = 1000\n",
        "\n",
        "\n",
        "z = x,y\n",
        "print(z)\n",
        "print(type(z))"
      ],
      "metadata": {
        "id": "fjrhK3Hgt_8s"
      },
      "execution_count": null,
      "outputs": []
    },
    {
      "cell_type": "code",
      "source": [
        "#Default compoud data type --> tuple when combining variable types\n",
        "x = 'UpGrad'\n",
        "y = 1000\n",
        "\n",
        "\n",
        "z = [x,y] # explicity defining the elements\n",
        "z = list([x,y])\n",
        "print(z)\n",
        "print(type(z))"
      ],
      "metadata": {
        "id": "6FgWgljau0KF"
      },
      "execution_count": null,
      "outputs": []
    },
    {
      "cell_type": "markdown",
      "source": [
        "## 1. Lists\n",
        "\n",
        "Lists can store multiple data types and are mutable (can be edited). Lists are one of the most extensive used data types in the industry."
      ],
      "metadata": {
        "id": "0Ys3Lt8S1FHY"
      }
    },
    {
      "cell_type": "markdown",
      "source": [
        "### 1.1. Creating a Lists"
      ],
      "metadata": {
        "id": "ZxKCm8lk1jAG"
      }
    },
    {
      "cell_type": "code",
      "source": [
        "# Defining variables\n",
        "# area variables (in square meters)\n",
        "hall = 11.25\n",
        "kit = 18.0\n",
        "liv = 20.0\n",
        "bed = 10.75\n",
        "bath = 9.50"
      ],
      "metadata": {
        "id": "1Pf5FYRe1EZN"
      },
      "execution_count": null,
      "outputs": []
    },
    {
      "cell_type": "code",
      "source": [
        "areas = list([hall, kit,liv,bed,bath]) #1st approach\n",
        "areas = [hall, kit,liv,bed,bath] #2nd approach\n",
        "print(areas)"
      ],
      "metadata": {
        "id": "4i-Tc5pevigA"
      },
      "execution_count": null,
      "outputs": []
    },
    {
      "cell_type": "code",
      "source": [
        "# Create list areas\n",
        "areas = [hall,kit,liv,bed,bath] #1st Approach using square brackets"
      ],
      "metadata": {
        "id": "ACf8U2p80NoQ"
      },
      "execution_count": null,
      "outputs": []
    },
    {
      "cell_type": "code",
      "source": [
        "print(areas)\n",
        "print(type(areas))"
      ],
      "metadata": {
        "id": "cBTzIaPm1r6H"
      },
      "execution_count": null,
      "outputs": []
    },
    {
      "cell_type": "code",
      "source": [
        "areas = list([hall,kit,liv,bed,bath]) #2nd Approach using 'list' keyword"
      ],
      "metadata": {
        "id": "0pJfeCK61sxa"
      },
      "execution_count": null,
      "outputs": []
    },
    {
      "cell_type": "code",
      "source": [
        "print(areas)\n",
        "print(type(areas))"
      ],
      "metadata": {
        "id": "HnvVaf6E1yGz"
      },
      "execution_count": null,
      "outputs": []
    },
    {
      "cell_type": "markdown",
      "source": [
        "## 1.2. Subsetting a List\n",
        "\n",
        "Subsetting your list, which means selecting multiple elements from your list. Use the following syntax:\n",
        "\n",
        "*   Slice your list, which means selecting multiple elements from your list. Use the following syntax: **my_list[start:end]**\n",
        "*   **The start index will be included, while the end index is not.**\n",
        "\n",
        "\n"
      ],
      "metadata": {
        "id": "GrTtvNCf2MPb"
      }
    },
    {
      "cell_type": "code",
      "source": [
        "# Create the areas list\n",
        "areas = [\"hallway\", 11.25, \"kitchen\", 18.0, \"living room\", 20.0, \"bedroom\", 10.75, \"bathroom\", 9.50]\n",
        "print(areas)"
      ],
      "metadata": {
        "id": "SQhove472_qL"
      },
      "execution_count": null,
      "outputs": []
    },
    {
      "cell_type": "code",
      "source": [
        "len(areas)\n",
        "print(areas[7:9])"
      ],
      "metadata": {
        "id": "OpNKX7_3zj-M"
      },
      "execution_count": null,
      "outputs": []
    },
    {
      "cell_type": "code",
      "source": [
        "# need to access all the elements\n",
        "print(areas[:])"
      ],
      "metadata": {
        "id": "wLqiNDX-woNf"
      },
      "execution_count": null,
      "outputs": []
    },
    {
      "cell_type": "code",
      "source": [
        "# indexing only one element\n",
        "print(\"indexing from left to right-->\",areas[7]) # indexing from left to right\n",
        "print(\"indexing from right to left-->\",areas[-3]) # indexing from right to left"
      ],
      "metadata": {
        "id": "geTo2s-NwyLF"
      },
      "execution_count": null,
      "outputs": []
    },
    {
      "cell_type": "code",
      "source": [
        "#extracting element --> #last index is not included\n",
        "n=4\n",
        "print(areas) #Negative Indexing (last 2 element)\n",
        "print('extract the first n elements of area list--> ',areas[:n]) # extract the first 4 elements of area list\n",
        "print('extract the last n elements of area list-->t',areas[-n:]) # extract the last 4 elements of area list\n",
        "print('extract all the elements except the nth index of area list--> ',areas[:-n]) #Negative Indexing (all except last n element)"
      ],
      "metadata": {
        "id": "P4InZdGQxwyh"
      },
      "execution_count": null,
      "outputs": []
    },
    {
      "cell_type": "code",
      "source": [
        "# Print out second element from areas\n",
        "print(areas[1])#0 Based Indexing"
      ],
      "metadata": {
        "id": "rBkFzAQu1z_G"
      },
      "execution_count": null,
      "outputs": []
    },
    {
      "cell_type": "code",
      "source": [
        "# Print out last element from areas\n",
        "print(areas[-1])"
      ],
      "metadata": {
        "id": "IR3usWG72ZHu"
      },
      "execution_count": null,
      "outputs": []
    },
    {
      "cell_type": "code",
      "source": [
        "print(areas[:])# All Elements of List using"
      ],
      "metadata": {
        "id": "5mHE11ga2jRb"
      },
      "execution_count": null,
      "outputs": []
    },
    {
      "cell_type": "code",
      "source": [
        "print(areas[0:2])#first Two - 1st approach with 0 included as starting index"
      ],
      "metadata": {
        "id": "WJ35t5Hy3M4R"
      },
      "execution_count": null,
      "outputs": []
    },
    {
      "cell_type": "code",
      "source": [
        "print(areas[:2])##first Two - 2nd approach without 0 included as starting index"
      ],
      "metadata": {
        "id": "bTFSHxYp3TwT"
      },
      "execution_count": null,
      "outputs": []
    },
    {
      "cell_type": "code",
      "source": [
        "print(areas)"
      ],
      "metadata": {
        "id": "j0U4SFsc0MHL"
      },
      "execution_count": null,
      "outputs": []
    },
    {
      "cell_type": "code",
      "source": [
        "n = 2\n",
        "print(areas[::])\n",
        "print(areas[::n])## where n refers to the no. of jump"
      ],
      "metadata": {
        "id": "KG0LzF7M5aJP"
      },
      "execution_count": null,
      "outputs": []
    },
    {
      "cell_type": "code",
      "source": [
        "#QQ\n",
        "print(areas[2:4])"
      ],
      "metadata": {
        "id": "pgeZ8Y-q3YBO"
      },
      "execution_count": null,
      "outputs": []
    },
    {
      "cell_type": "code",
      "source": [
        "print(areas[:-1]) #Negative Indexing (all except last n element)"
      ],
      "metadata": {
        "id": "EDjFQAGs4dJY"
      },
      "execution_count": null,
      "outputs": []
    },
    {
      "cell_type": "code",
      "source": [
        "print(areas[-2:]) #Negative Indexing (last n element)"
      ],
      "metadata": {
        "id": "nBoSPzMG6haH"
      },
      "execution_count": null,
      "outputs": []
    },
    {
      "cell_type": "markdown",
      "source": [
        "## 1.3. Nested Lists\n",
        "\n",
        "Lists within lists are referred to Nested Lists"
      ],
      "metadata": {
        "id": "1X43CbhS7MlC"
      }
    },
    {
      "cell_type": "code",
      "source": [
        "# area variables (in square meters)\n",
        "hall = 11.25\n",
        "kit = 18.0\n",
        "liv = 20.0\n",
        "bed = 10.75\n",
        "bath = 9.50"
      ],
      "metadata": {
        "id": "bDOZrX_k4315"
      },
      "execution_count": null,
      "outputs": []
    },
    {
      "cell_type": "code",
      "source": [
        "# house information as list of lists\n",
        "house = [[\"hallway\", hall],\n",
        "         [\"kitchen\", [10.0,20.0]],\n",
        "         [\"living room\", liv],\n",
        "         [\"bedroom\", bed],\n",
        "         [\"bathroom\",bath]]\n",
        "\n",
        "print(\"nested list:\", house)"
      ],
      "metadata": {
        "id": "i8T3VZ9I82lR"
      },
      "execution_count": null,
      "outputs": []
    },
    {
      "cell_type": "code",
      "source": [
        "#extract the area of living room:\n",
        "#house[2][1] # one way\n",
        "house[1][1][1]"
      ],
      "metadata": {
        "id": "ncrbKi4q2lLR"
      },
      "execution_count": null,
      "outputs": []
    },
    {
      "cell_type": "markdown",
      "source": [
        "### 1.4 Subsetting lists within lists"
      ],
      "metadata": {
        "id": "cCUNTzhy9Ouo"
      }
    },
    {
      "cell_type": "code",
      "source": [
        "house[0]"
      ],
      "metadata": {
        "id": "j7j3OHDO9NnD"
      },
      "execution_count": null,
      "outputs": []
    },
    {
      "cell_type": "code",
      "source": [
        "house[0][1]"
      ],
      "metadata": {
        "id": "cprYnEzX9Ekn"
      },
      "execution_count": null,
      "outputs": []
    },
    {
      "cell_type": "code",
      "source": [
        "house[0][1] = 12.25\n",
        "print(house)"
      ],
      "metadata": {
        "id": "uzIvWS_P9dm9"
      },
      "execution_count": null,
      "outputs": []
    },
    {
      "cell_type": "code",
      "source": [
        "print(house[1][1][0])"
      ],
      "metadata": {
        "id": "8MPLFIqa9hph"
      },
      "execution_count": null,
      "outputs": []
    },
    {
      "cell_type": "markdown",
      "source": [
        "### 1.5 Extending & Appending a lists"
      ],
      "metadata": {
        "id": "zFPLiAdv-tj2"
      }
    },
    {
      "cell_type": "code",
      "source": [
        "areas = [\"hallway\", 11.25, \"kitchen\", 18.0, \"chill zone\", 20.0,\n",
        "         \"bedroom\", 10.75, \"bathroom\", 10.50]"
      ],
      "metadata": {
        "id": "ilOESpux-se7"
      },
      "execution_count": null,
      "outputs": []
    },
    {
      "cell_type": "markdown",
      "source": [],
      "metadata": {
        "id": "RuOmc2Gx65A7"
      }
    },
    {
      "cell_type": "code",
      "source": [
        "new_elements = [\"poolhouse\", 24.5]\n",
        "areas.append(new_elements)"
      ],
      "metadata": {
        "id": "r5T_C3EE5QyL"
      },
      "execution_count": null,
      "outputs": []
    },
    {
      "cell_type": "code",
      "source": [
        "print(areas)"
      ],
      "metadata": {
        "id": "O3LX6IBT51bt"
      },
      "execution_count": null,
      "outputs": []
    },
    {
      "cell_type": "code",
      "source": [
        "areas.extend(new_elements) # add the new elements individually\n",
        "print(areas)"
      ],
      "metadata": {
        "id": "f6qUVlcE59SO"
      },
      "execution_count": null,
      "outputs": []
    },
    {
      "cell_type": "code",
      "source": [
        "new_elements = [4.5]\n",
        "areas = areas + new_elements\n",
        "areas.insert(-1,\"poolhouse\")\n",
        "print(areas)"
      ],
      "metadata": {
        "id": "Iv5IUhFJ6C06"
      },
      "execution_count": null,
      "outputs": []
    },
    {
      "cell_type": "code",
      "source": [],
      "metadata": {
        "id": "V5o1tI6p6Kwk"
      },
      "execution_count": null,
      "outputs": []
    },
    {
      "cell_type": "code",
      "source": [
        "print(areas.append(new_elements))# add the new elements as a single list\n"
      ],
      "metadata": {
        "id": "NUF3IjAV5VjM"
      },
      "execution_count": null,
      "outputs": []
    },
    {
      "cell_type": "code",
      "source": [
        "new_elements = [\"poolhouse\", 24.5]\n",
        "print(areas)\n",
        "areas.extend(new_elements)#1st approach using .extend\n",
        "print(areas)"
      ],
      "metadata": {
        "id": "rhua96Pk9zeM"
      },
      "execution_count": null,
      "outputs": []
    },
    {
      "cell_type": "code",
      "source": [],
      "metadata": {
        "id": "ItW6lNuP5Uyl"
      },
      "execution_count": null,
      "outputs": []
    },
    {
      "cell_type": "code",
      "source": [
        "print(areas)\n",
        "areas = areas+new_elements#2nd approach using + add 2 lists\n",
        "print(areas)\n"
      ],
      "metadata": {
        "id": "zV60Ih0D-6se"
      },
      "execution_count": null,
      "outputs": []
    },
    {
      "cell_type": "code",
      "source": [
        "areas.append(new_elements)#Using the append function\n",
        "print(areas)"
      ],
      "metadata": {
        "id": "Oe89mheT-9pB"
      },
      "execution_count": null,
      "outputs": []
    },
    {
      "cell_type": "markdown",
      "source": [
        "### 1.6 Deleting List Elements"
      ],
      "metadata": {
        "id": "qFuqap8H_Owy"
      }
    },
    {
      "cell_type": "code",
      "source": [
        "x = [\"a\", \"b\", \"c\", \"d\"]\n",
        "x"
      ],
      "metadata": {
        "id": "sZ1IjAl__OEl"
      },
      "execution_count": null,
      "outputs": []
    },
    {
      "cell_type": "code",
      "source": [
        "del(x[:2]) # Deleting individual elements from a List\n",
        "x"
      ],
      "metadata": {
        "id": "T_f8D_T7_Ga2"
      },
      "execution_count": null,
      "outputs": []
    },
    {
      "cell_type": "code",
      "source": [
        "del(x[:])\n",
        "x"
      ],
      "metadata": {
        "id": "lhG3Sk0a_bUC"
      },
      "execution_count": null,
      "outputs": []
    },
    {
      "cell_type": "code",
      "source": [
        "x.clear() # Deleting the entire list\n",
        "x"
      ],
      "metadata": {
        "id": "VQHdQYGx_epR"
      },
      "execution_count": null,
      "outputs": []
    },
    {
      "cell_type": "code",
      "source": [
        "x = [\"a\",\"b\",\"c\",\"d\"]\n",
        "#x.insert(-1,\"e\")\n",
        "x.insert(len(x),\"e\")\n",
        "x\n"
      ],
      "metadata": {
        "id": "2DJUWr3G7ZiX"
      },
      "execution_count": null,
      "outputs": []
    },
    {
      "cell_type": "markdown",
      "source": [
        "### 1.7 Reversing List Elements"
      ],
      "metadata": {
        "id": "nF2B0oCb_6zm"
      }
    },
    {
      "cell_type": "code",
      "source": [
        "x.reverse()# reverses the sequence of the list\n",
        "print(x)"
      ],
      "metadata": {
        "id": "q1imNxCN_5Ag"
      },
      "execution_count": null,
      "outputs": []
    },
    {
      "cell_type": "markdown",
      "source": [
        "### 2.Tuples\n",
        "\n",
        "\n",
        "Collection of Python Objects like Lists but are immutable"
      ],
      "metadata": {
        "id": "P9zXfRSGAT1n"
      }
    },
    {
      "cell_type": "code",
      "source": [
        "a = 1\n",
        "b = 2.0\n",
        "c = \"character_string\"\n",
        "d = True\n",
        "\n",
        "# By Default multiple elements get stored as an tuple\n",
        "mul_element = a,b,c,d\n",
        "print(mul_element)\n",
        "print(type(mul_element))"
      ],
      "metadata": {
        "id": "RQh1WbFtAXQA"
      },
      "execution_count": null,
      "outputs": []
    },
    {
      "cell_type": "code",
      "source": [
        "x = (1, 'a', 2, 'b',True,2.1) # Defining a tuple\n",
        "print(x)\n",
        "print(type(x))"
      ],
      "metadata": {
        "id": "JyL3HJDhAbfS"
      },
      "execution_count": null,
      "outputs": []
    },
    {
      "cell_type": "code",
      "source": [
        "x_list = [1, 'a', 2, 'b',True,2.1]\n",
        "x_tuple = tuple(x_list)\n",
        "print(x_tuple)\n",
        "print(type(x_tuple))"
      ],
      "metadata": {
        "id": "f9gJLbNlAyUZ"
      },
      "execution_count": null,
      "outputs": []
    },
    {
      "cell_type": "code",
      "source": [
        "x_tuple = tuple(x_list)\n",
        "print(x_tuple)\n",
        "print(type(x_tuple))"
      ],
      "metadata": {
        "id": "_w8SqecHAsFv"
      },
      "execution_count": null,
      "outputs": []
    },
    {
      "cell_type": "code",
      "source": [
        "x[1]=\"Gan\""
      ],
      "metadata": {
        "id": "V9ybu8bUBGse"
      },
      "execution_count": null,
      "outputs": []
    },
    {
      "cell_type": "markdown",
      "source": [
        "## 3. Dictionary\n",
        "\n",
        "A dictionary is a collection which is unordered, changeable and indexed. In Python dictionaries are written with curly brackets, and they have keys and values."
      ],
      "metadata": {
        "id": "gKEbkq8eB34z"
      }
    },
    {
      "cell_type": "code",
      "source": [
        "# Create and print a dictionary:\n",
        "thisdict ={\n",
        "  \"brand\": \"Ford\",\n",
        "    \"model\": \"Mustang\",\n",
        "      \"year\": 1964\n",
        "}\n",
        "print(thisdict)\n",
        "print(type(thisdict))\n"
      ],
      "metadata": {
        "id": "tU0zYqytBILT"
      },
      "execution_count": null,
      "outputs": []
    },
    {
      "cell_type": "code",
      "source": [
        "#Accessing the key of dicitonary\n",
        "thisdict.keys()"
      ],
      "metadata": {
        "id": "PpzULtKTCD9I"
      },
      "execution_count": null,
      "outputs": []
    },
    {
      "cell_type": "code",
      "source": [
        "#Accessing the values of the dicitonary\n",
        "thisdict.values()"
      ],
      "metadata": {
        "id": "rKJCOq-mCGil"
      },
      "execution_count": null,
      "outputs": []
    },
    {
      "cell_type": "code",
      "source": [
        "print(thisdict['model'],thisdict['year'])"
      ],
      "metadata": {
        "id": "67ZPHbv4B4Kp"
      },
      "execution_count": null,
      "outputs": []
    },
    {
      "cell_type": "code",
      "source": [
        "#### Accessing Items from a key\n",
        "x = thisdict[\"brand\"]# Accessing Single Item\n",
        "x"
      ],
      "metadata": {
        "id": "4yH7beGWCIqn"
      },
      "execution_count": null,
      "outputs": []
    },
    {
      "cell_type": "code",
      "source": [
        "x = thisdict[\"model\"],thisdict[\"year\"] # Accessing Multiple Items --> Default Output is Tuple\n",
        "x1 = [thisdict[\"model\"],thisdict[\"year\"]]# Accessing Multiple Items --> Output is List\n",
        "print(x)\n",
        "print(x1)"
      ],
      "metadata": {
        "id": "Ub38ZBR9CPhd"
      },
      "execution_count": null,
      "outputs": []
    },
    {
      "cell_type": "code",
      "source": [
        "#ictionary with Multiple Values for one key\n",
        "thisdict1 ={\n",
        "  \"brand\": [\"Ford\", \"Audi\"], #Dictionary with Multiple Keys\n",
        "  \"model\": [\"Mustang\",\"A7\"],\n",
        "  \"year\": 1964\n",
        "}\n",
        "print(thisdict1)"
      ],
      "metadata": {
        "id": "Zc1OHOvhCS0C"
      },
      "execution_count": null,
      "outputs": []
    },
    {
      "cell_type": "code",
      "source": [
        "print(thisdict1['model'][0])"
      ],
      "metadata": {
        "id": "VI-A_Dt-CVqL"
      },
      "execution_count": null,
      "outputs": []
    },
    {
      "cell_type": "code",
      "source": [
        "# Keys are always unique, in case they are not the latest one are kept\n",
        "thisdict1 ={\n",
        "  \"brand\": [\"Ford\", \"Audi\"], #Dictionary with Multiple Keys\n",
        "  \"brand\": [\"Mustang\",\"A7\"],\n",
        "  \"year\": 1964\n",
        "}\n",
        "print(thisdict1)"
      ],
      "metadata": {
        "id": "wcZOpKV3Cb6V"
      },
      "execution_count": null,
      "outputs": []
    },
    {
      "cell_type": "code",
      "source": [
        "thisdict1['model'] = [\"Ford\", \"Audi\"]"
      ],
      "metadata": {
        "id": "1QCOj9YXD7qZ"
      },
      "execution_count": null,
      "outputs": []
    },
    {
      "cell_type": "code",
      "source": [
        "thisdict1"
      ],
      "metadata": {
        "id": "bcFG-FKJECf2"
      },
      "execution_count": null,
      "outputs": []
    },
    {
      "cell_type": "code",
      "source": [
        "thisdict1[\"model_new\"]=thisdict1.pop(\"model\")# 1 Approach: Using the Pop Method\n",
        "thisdict1"
      ],
      "metadata": {
        "id": "zY3AELS2EC39"
      },
      "execution_count": null,
      "outputs": []
    },
    {
      "cell_type": "code",
      "source": [
        "thisdict1['year'] = 2024"
      ],
      "metadata": {
        "id": "wJaqIcS_C36B"
      },
      "execution_count": null,
      "outputs": []
    },
    {
      "cell_type": "code",
      "source": [
        "thisdict1['brand'][1]=\"A8\""
      ],
      "metadata": {
        "id": "3wRRJH0lC8tI"
      },
      "execution_count": null,
      "outputs": []
    },
    {
      "cell_type": "code",
      "source": [
        "thisdict1"
      ],
      "metadata": {
        "id": "-Ag_53D9C__0"
      },
      "execution_count": null,
      "outputs": []
    },
    {
      "cell_type": "code",
      "source": [
        "thisdict1[\"year\"] = 2022 #Updating the only one key-value pair\n",
        "thisdict1"
      ],
      "metadata": {
        "id": "IETFBRVDCf87"
      },
      "execution_count": null,
      "outputs": []
    },
    {
      "cell_type": "code",
      "source": [
        "# Deleting elements from a Dictionary\n",
        "# Create and print a dictionary:\n",
        "thisdict ={\n",
        "  \"brand\": \"Ford\",\n",
        "    \"model\": \"Mustang\",\n",
        "      \"year\": 1964\n",
        "}\n",
        "\n",
        "print(thisdict)\n",
        "thisdict.pop(\"brand\")\n",
        "\n",
        "print(thisdict)"
      ],
      "metadata": {
        "id": "EeOP3HV_CjIu"
      },
      "execution_count": null,
      "outputs": []
    },
    {
      "cell_type": "code",
      "source": [
        "# Deleting elements from a Dictionary\n",
        "# Create and print a dictionary:\n",
        "thisdict ={\n",
        "  \"brand\": \"Ford\",\n",
        "    \"model\": \"Mustang\",\n",
        "      \"year\": 1964\n",
        "}\n",
        "\n",
        "print(thisdict)\n"
      ],
      "metadata": {
        "id": "sG8MC5QyFuUW"
      },
      "execution_count": null,
      "outputs": []
    },
    {
      "cell_type": "code",
      "source": [
        "thisdict.pop(\"brand\")\n",
        "print(thisdict)"
      ],
      "metadata": {
        "id": "V4M3LuiaFv-G"
      },
      "execution_count": null,
      "outputs": []
    },
    {
      "cell_type": "code",
      "source": [
        "del thisdict[\"brand\"]\n",
        "thisdict"
      ],
      "metadata": {
        "id": "QVmtQkAHF6lX"
      },
      "execution_count": null,
      "outputs": []
    },
    {
      "cell_type": "code",
      "source": [
        "x = [1,2,3,4]\n",
        "x"
      ],
      "metadata": {
        "id": "UWE2QXiBG6Nq"
      },
      "execution_count": null,
      "outputs": []
    },
    {
      "cell_type": "code",
      "source": [
        "del x[1] # key word"
      ],
      "metadata": {
        "id": "AjQAkFvIHJTm"
      },
      "execution_count": null,
      "outputs": []
    },
    {
      "cell_type": "code",
      "source": [
        "del x[1:] # key word"
      ],
      "metadata": {
        "id": "NoomWYgCH9G-"
      },
      "execution_count": null,
      "outputs": []
    },
    {
      "cell_type": "code",
      "source": [
        "x"
      ],
      "metadata": {
        "id": "_ynmXeqQH_gh"
      },
      "execution_count": null,
      "outputs": []
    },
    {
      "cell_type": "code",
      "source": [
        "x.pop(1)"
      ],
      "metadata": {
        "id": "KLL0HqXoHOPI"
      },
      "execution_count": null,
      "outputs": []
    },
    {
      "cell_type": "code",
      "source": [
        "x"
      ],
      "metadata": {
        "id": "UJmmO_QHHcCq"
      },
      "execution_count": null,
      "outputs": []
    },
    {
      "cell_type": "code",
      "source": [
        "# del is a keyword -- pop is a method\n",
        "# del will not return any value -- but pop returns the deleted value"
      ],
      "metadata": {
        "id": "IeCNEcixHrvO"
      },
      "execution_count": null,
      "outputs": []
    },
    {
      "cell_type": "code",
      "source": [
        "# Updating elements within a Dictionary\n",
        "# Create and print a dictionary:\n",
        "thisdict ={\n",
        "  \"brand\": \"Ford\",\n",
        "    \"model\": [\"Mustang\",\"Fortuner\"],\n",
        "      \"year\": 1964\n",
        "}\n",
        "\n",
        "thisdict[\"brand_new\"]=thisdict.pop(\"brand\")# 1 Approach: Using the Pop Method\n",
        "thisdict"
      ],
      "metadata": {
        "id": "ytFLavL5C3c1"
      },
      "execution_count": null,
      "outputs": []
    },
    {
      "cell_type": "code",
      "source": [
        "thisdict['model'][1]"
      ],
      "metadata": {
        "id": "L-gBuMC8EXvt"
      },
      "execution_count": null,
      "outputs": []
    },
    {
      "cell_type": "code",
      "source": [
        "thisdict['no_of_units'] = 2000\n",
        "print(thisdict)"
      ],
      "metadata": {
        "id": "3VtfGoe2DtVR"
      },
      "execution_count": null,
      "outputs": []
    },
    {
      "cell_type": "code",
      "source": [
        "#Adding Multiple Dictionaries\n",
        "#Approach 1: Using the .update method [We do not create a new dictionary, we update the existing one]\n",
        "dict1 = {'a1': 1, 'b1': 8}\n",
        "dict2 = {'a2': 4, 'b2': 10}\n",
        "dict3 = {'a3': 5, 'b3': 12}\n",
        "\n",
        "print(dict1)\n",
        "print(dict2)\n",
        "print(dict3)\n",
        "\n",
        "print(\"post updating the dictionary 1-->\")\n",
        "dict1.update(**dict2,**dict3)\n",
        "print(dict1)"
      ],
      "metadata": {
        "id": "q_Bh3ch3DOve"
      },
      "execution_count": null,
      "outputs": []
    },
    {
      "cell_type": "code",
      "source": [
        "#Approach 2: Using the ** method by creating a new dictionary\n",
        "dict1 = {'a1': 1, 'b1': 8}\n",
        "dict2 = {'a2': 4, 'b2': 10}\n",
        "dict3 = {'a3': 5, 'b3': 12}\n",
        "\n",
        "print(dict1)\n",
        "print(dict2)\n",
        "print(dict3)\n",
        "\n",
        "print(\"post updating the dictionary-->\")\n",
        "dict_all = {**dict1,**dict2,**dict3}\n",
        "print(dict_all)"
      ],
      "metadata": {
        "id": "xe1o6bOZDbS5"
      },
      "execution_count": null,
      "outputs": []
    },
    {
      "cell_type": "code",
      "source": [
        "###  Dictionaries of Dictionaries\n",
        "europe = {'spain': { 'capital':['madrid','madrid_1'], 'population':46.77},#\n",
        "           'france': { 'capital':'paris', 'population':66.03},\n",
        "           'germany': { 'capital':'berlin', 'population':80.62},\n",
        "           'norway': { 'capital':'oslo', 'population':5.084 }}\n",
        "\n",
        "print(europe)"
      ],
      "metadata": {
        "id": "RqS77QlwDjht"
      },
      "execution_count": null,
      "outputs": []
    },
    {
      "cell_type": "code",
      "source": [
        "print(europe.keys())"
      ],
      "metadata": {
        "id": "-l6OdMllJ_cm"
      },
      "execution_count": null,
      "outputs": []
    },
    {
      "cell_type": "code",
      "source": [
        "europe['france'].keys()"
      ],
      "metadata": {
        "id": "DsfvkEw5EO5b"
      },
      "execution_count": null,
      "outputs": []
    },
    {
      "cell_type": "code",
      "source": [
        "europe['spain']['capital'] = [europe['spain']['capital'][0],'madrid_1']"
      ],
      "metadata": {
        "id": "nXqzRyoPKKNl"
      },
      "execution_count": null,
      "outputs": []
    },
    {
      "cell_type": "code",
      "source": [
        "del europe['spain']['capital'][1]"
      ],
      "metadata": {
        "id": "e2BGjpRtKV3f"
      },
      "execution_count": null,
      "outputs": []
    },
    {
      "cell_type": "code",
      "source": [
        "europe"
      ],
      "metadata": {
        "id": "L5tWSSWyKab-"
      },
      "execution_count": null,
      "outputs": []
    },
    {
      "cell_type": "code",
      "source": [
        "europe['france']['capital']"
      ],
      "metadata": {
        "id": "sI48Z_w-F-CS"
      },
      "execution_count": null,
      "outputs": []
    },
    {
      "cell_type": "markdown",
      "source": [
        "## 4. Sets\n",
        "A Set is an unordered collection data type that is iterable, mutable and has no duplicate elements.\n",
        "The major advantage of using a set, as opposed to a list, is that it has a highly optimized method for checking whether a specific element is contained in the set.\n"
      ],
      "metadata": {
        "id": "gU6zXTcwFl3K"
      }
    },
    {
      "cell_type": "code",
      "source": [
        "s1 = {1,2,3,4}\n",
        "\n",
        "type(s1)"
      ],
      "metadata": {
        "id": "OCtrScGxETw3"
      },
      "execution_count": null,
      "outputs": []
    },
    {
      "cell_type": "code",
      "source": [
        "s1 = {1,1,1,1,1,4,1000}\n",
        "print(s1)"
      ],
      "metadata": {
        "id": "uW5KhuteF0P9"
      },
      "execution_count": null,
      "outputs": []
    },
    {
      "cell_type": "code",
      "source": [
        "#Adding Elements\n",
        "s1 = {1,2,3,4}\n",
        "print(s1)\n",
        "s1.add(5) # can't add a pre-existing element\n",
        "print(s1)"
      ],
      "metadata": {
        "id": "BvC6RPwXF56C"
      },
      "execution_count": null,
      "outputs": []
    },
    {
      "cell_type": "code",
      "source": [
        "#Remove\n",
        "s1.remove(5)\n",
        "print(s1)"
      ],
      "metadata": {
        "id": "zfNhNsl8GAey"
      },
      "execution_count": null,
      "outputs": []
    },
    {
      "cell_type": "code",
      "source": [
        "#Remove all the elements\n",
        "s1.clear()\n",
        "s1"
      ],
      "metadata": {
        "id": "a16jTvYoGE9l"
      },
      "execution_count": null,
      "outputs": []
    },
    {
      "cell_type": "code",
      "source": [
        "# If all elements of b exist in a , then b is called a subset of a\n",
        "# If all elemnts of b exists in a  , then a is called superset of b\n",
        "\n",
        "\n",
        "a = set([1,2,3,4,5]) # Superset\n",
        "b = set([1,2,3]) #Subset"
      ],
      "metadata": {
        "id": "PlvisP2BGIXR"
      },
      "execution_count": null,
      "outputs": []
    },
    {
      "cell_type": "code",
      "source": [
        "b = set([1,2,3]) #Subset\n",
        "print(b)"
      ],
      "metadata": {
        "id": "rdFEJrfLKNG8"
      },
      "execution_count": null,
      "outputs": []
    },
    {
      "cell_type": "code",
      "source": [
        "print(4 in b)"
      ],
      "metadata": {
        "id": "sHTN1LgyKR-u"
      },
      "execution_count": null,
      "outputs": []
    },
    {
      "cell_type": "code",
      "source": [
        "print(b.issubset(a))\n",
        "print(a.issuperset(b))\n"
      ],
      "metadata": {
        "id": "Pfz1FObZGQgL"
      },
      "execution_count": null,
      "outputs": []
    },
    {
      "cell_type": "code",
      "source": [
        "print(a.union(b))\n",
        "print(a.update(b))\n",
        "print(a.intersection(b))\n",
        "print(a.difference(b))\n",
        "print(b.difference(a))"
      ],
      "metadata": {
        "id": "6OkxIZJzGVXe"
      },
      "execution_count": null,
      "outputs": []
    },
    {
      "cell_type": "markdown",
      "source": [
        "That's all Folks! Thank you!"
      ],
      "metadata": {
        "id": "SwsY4MJSGixh"
      }
    }
  ]
}