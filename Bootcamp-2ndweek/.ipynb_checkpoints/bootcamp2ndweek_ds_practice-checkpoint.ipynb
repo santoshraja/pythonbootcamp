{
 "cells": [
  {
   "cell_type": "markdown",
   "id": "67a5445e-5921-4361-97cb-24b78e07fe2f",
   "metadata": {},
   "source": [
    "### <font color='red'> List Append ,Extend"
   ]
  },
  {
   "cell_type": "code",
   "execution_count": 5,
   "id": "bfca9cc1-7ae8-4e2b-8ce1-f9daa0cd6d0f",
   "metadata": {},
   "outputs": [
    {
     "name": "stdout",
     "output_type": "stream",
     "text": [
      "[1, 2, 3, 'raja', [6, 7]]\n"
     ]
    }
   ],
   "source": [
    "l = [1,2,3,'raja']\n",
    "#append will append the list \n",
    "l.append([6,7])\n",
    "print(l)"
   ]
  },
  {
   "cell_type": "code",
   "execution_count": 6,
   "id": "ffd83921-0327-4012-b739-b4adb96ec693",
   "metadata": {},
   "outputs": [
    {
     "data": {
      "text/plain": [
       "[1, 2, 3, 'raja', [6, 7], 9, 0, 4]"
      ]
     },
     "execution_count": 6,
     "metadata": {},
     "output_type": "execute_result"
    }
   ],
   "source": [
    "#extend means added list will add individual values\n",
    "l.extend([9,0,4])\n",
    "l"
   ]
  },
  {
   "cell_type": "code",
   "execution_count": 7,
   "id": "72ce9ff2-bac9-4175-a4fa-123477742413",
   "metadata": {},
   "outputs": [
    {
     "data": {
      "text/plain": [
       "[1, 2, 3, 'raja', [6, 7], 9, 0, 4, 10, 'santosh']"
      ]
     },
     "execution_count": 7,
     "metadata": {},
     "output_type": "execute_result"
    }
   ],
   "source": [
    "l=l+[10,'santosh']\n",
    "l"
   ]
  },
  {
   "cell_type": "markdown",
   "id": "8cfd206d-49fd-4d1c-9875-dedf81891259",
   "metadata": {},
   "source": [
    "### <font color='green'> pop() remove()\n",
    "### <font color='green'>pop by default remove last item in the list or specify index pop(idex)\n",
    "### <font color='green'>remove removes the first item bydeafult\n"
   ]
  },
  {
   "cell_type": "code",
   "execution_count": 13,
   "id": "be84943a-d39b-495d-b3af-804080de32a0",
   "metadata": {},
   "outputs": [
    {
     "name": "stdout",
     "output_type": "stream",
     "text": [
      "list before pop [1, 2, 3, 'raja']\n",
      "list after pop [1, 2, 3]\n"
     ]
    }
   ],
   "source": [
    "l = [1,2,3,'raja']\n",
    "print('list before pop',l)\n",
    "l1= l.pop() ## remove last entry by default\n",
    "print('list after pop',l)"
   ]
  },
  {
   "cell_type": "code",
   "execution_count": 14,
   "id": "f6949eaa-0ca1-466f-8e06-a53b68f9f0ca",
   "metadata": {},
   "outputs": [
    {
     "name": "stdout",
     "output_type": "stream",
     "text": [
      "list after pop [1, 3]\n"
     ]
    }
   ],
   "source": [
    "l2 = l.pop(1)\n",
    "print('list after pop',l)\n"
   ]
  },
  {
   "cell_type": "code",
   "execution_count": 15,
   "id": "800ab7c5-4664-429f-9e90-fe36e7eac293",
   "metadata": {},
   "outputs": [
    {
     "ename": "TypeError",
     "evalue": "list.remove() takes exactly one argument (0 given)",
     "output_type": "error",
     "traceback": [
      "\u001b[1;31m---------------------------------------------------------------------------\u001b[0m",
      "\u001b[1;31mTypeError\u001b[0m                                 Traceback (most recent call last)",
      "Cell \u001b[1;32mIn[15], line 2\u001b[0m\n\u001b[0;32m      1\u001b[0m l \u001b[38;5;241m=\u001b[39m [\u001b[38;5;241m1\u001b[39m,\u001b[38;5;241m2\u001b[39m,\u001b[38;5;241m3\u001b[39m,\u001b[38;5;124m'\u001b[39m\u001b[38;5;124mraja\u001b[39m\u001b[38;5;124m'\u001b[39m,\u001b[38;5;124m'\u001b[39m\u001b[38;5;124msantosh\u001b[39m\u001b[38;5;124m'\u001b[39m,\u001b[38;5;241m0\u001b[39m,\u001b[38;5;241m5\u001b[39m,\u001b[38;5;241m7\u001b[39m,\u001b[38;5;124m'\u001b[39m\u001b[38;5;124mthe\u001b[39m\u001b[38;5;124m'\u001b[39m]\n\u001b[1;32m----> 2\u001b[0m l1 \u001b[38;5;241m=\u001b[39m l\u001b[38;5;241m.\u001b[39mremove()\n\u001b[0;32m      3\u001b[0m \u001b[38;5;28mprint\u001b[39m(\u001b[38;5;124m'\u001b[39m\u001b[38;5;124mlist after pop\u001b[39m\u001b[38;5;124m'\u001b[39m,l1,l)\n",
      "\u001b[1;31mTypeError\u001b[0m: list.remove() takes exactly one argument (0 given)"
     ]
    }
   ],
   "source": [
    "l = [1,2,3,'raja','santosh',0,5,7,2,3,1,'the']\n",
    "l1 = l.remove()\n",
    "print('list after remove',l1,l)"
   ]
  },
  {
   "cell_type": "code",
   "execution_count": 16,
   "id": "6e88cf56-ead3-4464-a259-db8a52ad703f",
   "metadata": {},
   "outputs": [
    {
     "name": "stdout",
     "output_type": "stream",
     "text": [
      "list after remove None [1, 3, 'raja', 'santosh', 0, 5, 7, 'the']\n"
     ]
    }
   ],
   "source": [
    "l1 = l.remove(2)\n",
    "print('list after remove',l1,l)\n"
   ]
  },
  {
   "cell_type": "code",
   "execution_count": 17,
   "id": "2f7dbe4e-e2a4-45d0-b736-1295773a2c35",
   "metadata": {},
   "outputs": [
    {
     "name": "stdout",
     "output_type": "stream",
     "text": [
      "list after remove [1, 3, 'raja', 'santosh', 0, 5, 7]\n"
     ]
    }
   ],
   "source": [
    "l2 = l.remove('the')\n",
    "print('list after remove',l)"
   ]
  },
  {
   "cell_type": "code",
   "execution_count": 18,
   "id": "ab158772-3781-4406-b33c-2c7c4686a1f1",
   "metadata": {},
   "outputs": [
    {
     "name": "stdout",
     "output_type": "stream",
     "text": [
      "before sort [1, 3, 'raja', 'santosh', 0, 5, 7]\n"
     ]
    },
    {
     "ename": "TypeError",
     "evalue": "'<' not supported between instances of 'str' and 'int'",
     "output_type": "error",
     "traceback": [
      "\u001b[1;31m---------------------------------------------------------------------------\u001b[0m",
      "\u001b[1;31mTypeError\u001b[0m                                 Traceback (most recent call last)",
      "Cell \u001b[1;32mIn[18], line 2\u001b[0m\n\u001b[0;32m      1\u001b[0m \u001b[38;5;28mprint\u001b[39m(\u001b[38;5;124m'\u001b[39m\u001b[38;5;124mbefore sort\u001b[39m\u001b[38;5;124m'\u001b[39m,l)\n\u001b[1;32m----> 2\u001b[0m l\u001b[38;5;241m.\u001b[39msort()\n\u001b[0;32m      3\u001b[0m \u001b[38;5;28mprint\u001b[39m(\u001b[38;5;124m'\u001b[39m\u001b[38;5;124mafter sort\u001b[39m\u001b[38;5;124m'\u001b[39m,l)\n",
      "\u001b[1;31mTypeError\u001b[0m: '<' not supported between instances of 'str' and 'int'"
     ]
    }
   ],
   "source": [
    "print('before sort',l)\n",
    "l.sort() ## not supported because it has both int and string mixed data types\n",
    "print('after sort',l)"
   ]
  },
  {
   "cell_type": "code",
   "execution_count": 19,
   "id": "eea38bf8-7eaf-4fe5-94e2-16792c5776e1",
   "metadata": {},
   "outputs": [
    {
     "name": "stdout",
     "output_type": "stream",
     "text": [
      "before sort [1, 7, 3, 4, 9, 5]\n",
      "after sort [1, 3, 4, 5, 7, 9]\n"
     ]
    }
   ],
   "source": [
    "l=[1,7,3,4,9,5]\n",
    "print('before sort',l)\n",
    "l.sort()\n",
    "print('after sort',l)"
   ]
  },
  {
   "cell_type": "code",
   "execution_count": 21,
   "id": "386ea5bf-47cb-454f-a88f-90f0004e0686",
   "metadata": {},
   "outputs": [
    {
     "name": "stdout",
     "output_type": "stream",
     "text": [
      "after reverse sort [9, 7, 5, 4, 3, 1]\n"
     ]
    }
   ],
   "source": [
    "l.sort(reverse=True)\n",
    "print('after reverse sort',l)"
   ]
  },
  {
   "cell_type": "markdown",
   "id": "045401e1-3cb3-455f-b93f-e36c976d9f61",
   "metadata": {},
   "source": [
    "### <font color='green'> difference between sort and sorted"
   ]
  },
  {
   "cell_type": "code",
   "execution_count": 22,
   "id": "e85e1746-5689-491f-bbcd-87fac5048ed2",
   "metadata": {},
   "outputs": [
    {
     "name": "stdout",
     "output_type": "stream",
     "text": [
      "a :  ['bluberry', 'kiwi', 'mango', 'ornage']\n",
      "b : None\n"
     ]
    }
   ],
   "source": [
    "a = ['ornage','bluberry','mango','kiwi']\n",
    "b= a.sort()\n",
    "print('a : ',a) ## after sorting applied, a list will be sorted and b will not store any value\n",
    "print('b :',b)"
   ]
  },
  {
   "cell_type": "code",
   "execution_count": 23,
   "id": "129e5e22-c52c-49c7-80f2-dfc0cb530306",
   "metadata": {},
   "outputs": [
    {
     "name": "stdout",
     "output_type": "stream",
     "text": [
      "a :  ['ornage', 'bluberry', 'mango', 'kiwi']\n",
      "b : ['bluberry', 'kiwi', 'mango', 'ornage']\n"
     ]
    }
   ],
   "source": [
    "a = ['ornage','bluberry','mango','kiwi']\n",
    "b = sorted(a)\n",
    "print('a : ',a) ## after sorted method applied, a will be as it is and b list will be stored sorted list values\n",
    "print('b :',b)"
   ]
  },
  {
   "cell_type": "markdown",
   "id": "bae37d8f-0c35-41bb-b67a-4bb752de4340",
   "metadata": {},
   "source": [
    "### <font color='blue'> Exercise\n"
   ]
  },
  {
   "cell_type": "code",
   "execution_count": 24,
   "id": "f8b9a267-d54a-4326-9197-5b476966cf1c",
   "metadata": {},
   "outputs": [
    {
     "name": "stdout",
     "output_type": "stream",
     "text": [
      "2\n"
     ]
    }
   ],
   "source": [
    "##Suppose list_1 is [2, 33, 222, 14, 25]. What is list_1[-5]?\n",
    "list_1 = [2, 33, 222, 14, 25]\n",
    "print(list_1[-5]) ##list with negitive index will star from end with \"-1\" answe should be '2'"
   ]
  },
  {
   "cell_type": "code",
   "execution_count": 25,
   "id": "834731c8-5c8d-4ba4-ad19-2ffa67effc72",
   "metadata": {},
   "outputs": [
    {
     "name": "stdout",
     "output_type": "stream",
     "text": [
      "[]\n"
     ]
    }
   ],
   "source": [
    "word = ['1','2','3','4']\n",
    "word[ : ] = [ ] \n",
    "print(word)\n",
    "\n",
    "##Answer :  We are indexing all the elements of the list 'word' to an empty list; hence, \n",
    "##the final output would be an empty list. Hence, this method can also be used to delete all the \n",
    "##items from a list."
   ]
  },
  {
   "cell_type": "code",
   "execution_count": 26,
   "id": "fa6b99eb-089f-436f-a58f-e39986923257",
   "metadata": {},
   "outputs": [
    {
     "name": "stdout",
     "output_type": "stream",
     "text": [
      "['five', 'four', 'one', 'six', 'three', 'two']\n",
      "['one', 'two', 'three', 'four', 'five', 'six']\n"
     ]
    }
   ],
   "source": [
    "L = ['one','two','three', 'four', 'five', 'six']\n",
    "print(sorted(L))\n",
    "print (L)\n",
    "\n",
    "## Answer : sorted(L) will return a sorted list, and when it comes to strings, \n",
    "##it happens based on the character ASCII values. First, it compares the ASCII values of \n",
    "##the first characters and sorts the strings. If the first characters have the same value, then \n",
    "##it proceeds to the second characters and compares their ASCII values; if this matches again, \n",
    "##then it proceeds to the third characters, \n",
    "##and this continues until you have sorted them. In this way, the strings are sorted in a list."
   ]
  },
  {
   "cell_type": "code",
   "execution_count": 29,
   "id": "c0115faf-820c-4198-9ea8-c9bf69c6f11c",
   "metadata": {},
   "outputs": [
    {
     "name": "stdout",
     "output_type": "stream",
     "text": [
      "['SAS', 'R', 'PYTHON', 'SPSS']\n",
      "['SAS', 'R', 'PYTHON']\n",
      "['SAS', 'R', 'PYTHON', 'SPARK']\n"
     ]
    }
   ],
   "source": [
    "##Remove SPSS from input_list=['SAS', 'R', 'PYTHON', 'SPSS'] and add 'SPARK' in its place.\n",
    "\n",
    "input_list = ['SAS', 'R', 'PYTHON', 'SPSS']\n",
    "# Write code to remove 'SPSS'\n",
    "input_list.remove('SPSS')\n",
    "input_list.append('SPARK')\n",
    "# Write code to append 'SPARK'\n",
    "print(input_list)"
   ]
  },
  {
   "cell_type": "code",
   "execution_count": 34,
   "id": "b524fa49-b834-40b4-9875-b2b5fe2b8c7b",
   "metadata": {},
   "outputs": [
    {
     "name": "stdout",
     "output_type": "stream",
     "text": [
      "Pythons syntax is easy to learn & Pythons syntax is very clear\n",
      "Pythons syntax is easy to learn & Pythons syntax is very clear Pythons syntax is easy to learn * Pythons syntax is very clear\n",
      "P # y # t # h # o # n # s #   # s # y # n # t # a # x #   # i # s #   # e # a # s # y #   # t # o #   # l # e # a # r # n #   # & #   # P # y # t # h # o # n # s #   # s # y # n # t # a # x #   # i # s #   # v # e # r # y #   # c # l # e # a # r\n"
     ]
    }
   ],
   "source": [
    "##Convert a list ['Pythons syntax is easy to learn', 'Pythons syntax is very clear'] to a string using ‘&’. The sample output of this string will be:\n",
    "##Pythons syntax is easy to learn & Pythons syntax is very clear\n",
    "input_str = ['Pythons syntax is easy to learn', 'Pythons syntax is very clear']\n",
    "sentence = input_str[0]+' & '+input_str[1]\n",
    "print(sentence)\n",
    "## other way and optimized way to do same solution as below\n",
    "string_1 = ' & '.join(input_str) ## join will take only one argument\n",
    "string_2 = ' * '.join(input_str) # if you apply join for list it will append the list items and provide a string \n",
    "string_3 = ' # '.join(string_1) ## if you apply join for string it will take each char and append the '#'\n",
    "print(string_1,string_2)\n",
    "print(string_3)"
   ]
  },
  {
   "cell_type": "markdown",
   "id": "1a4d9a85-88c4-441e-98c3-3af2a94d4bb7",
   "metadata": {},
   "source": [
    "### <font color='green'>shadowcopying \n"
   ]
  },
  {
   "cell_type": "code",
   "execution_count": 35,
   "id": "2bce4bfa-c54c-408a-a9b3-aa45520ca28f",
   "metadata": {},
   "outputs": [
    {
     "name": "stdout",
     "output_type": "stream",
     "text": [
      "['mango', 'ornage', 'blue berries'] ['mango', 'ornage', 'blue berries']\n"
     ]
    }
   ],
   "source": [
    "a = ['mango','ornage','blue berries']\n",
    "b=a ## copy a list to b , is a shadow copy , if you change in a list automatically changes effected in b list\n",
    "print(a,b)"
   ]
  },
  {
   "cell_type": "code",
   "execution_count": 36,
   "id": "e9a5639e-8e6f-436c-ad66-348f74de917c",
   "metadata": {},
   "outputs": [
    {
     "name": "stdout",
     "output_type": "stream",
     "text": [
      "['Apple', 'ornage', 'blue berries'] ['Apple', 'ornage', 'blue berries']\n"
     ]
    }
   ],
   "source": [
    "a[0]='Apple'\n",
    "print(a,b) ## changed in two lists"
   ]
  },
  {
   "cell_type": "code",
   "execution_count": 37,
   "id": "0df712c8-96a5-4cf6-a353-36da508b68d2",
   "metadata": {},
   "outputs": [
    {
     "name": "stdout",
     "output_type": "stream",
     "text": [
      "['mango', 'ornage', 'blue berries'] ['mango', 'ornage', 'blue berries']\n"
     ]
    }
   ],
   "source": [
    "## inorer to aviod change b list even if a changed \n",
    "a = ['mango','ornage','blue berries']\n",
    "b=a[:]\n",
    "print(a,b)"
   ]
  },
  {
   "cell_type": "code",
   "execution_count": 38,
   "id": "0d7c8fd0-029d-4533-b73f-982946c9bf22",
   "metadata": {},
   "outputs": [
    {
     "name": "stdout",
     "output_type": "stream",
     "text": [
      "['Apple', 'ornage', 'blue berries'] ['mango', 'ornage', 'blue berries']\n"
     ]
    }
   ],
   "source": [
    "a[0]='Apple'\n",
    "print(a,b) # now b will not change"
   ]
  },
  {
   "cell_type": "markdown",
   "id": "2f064009-d062-478a-b9a2-0fe668701b5d",
   "metadata": {},
   "source": [
    "### <font color='blue'>Exercise"
   ]
  },
  {
   "cell_type": "code",
   "execution_count": 39,
   "id": "36c9a3ef-ea27-4511-8b9b-6edb2dba6f24",
   "metadata": {},
   "outputs": [
    {
     "name": "stdout",
     "output_type": "stream",
     "text": [
      "Python\n"
     ]
    }
   ],
   "source": [
    "##How will I extract Python from the nested list\n",
    "input_list =  [['SAS','R'],['Tableau','SQL'],['Python','Java']]\n",
    "print(input_list[2][0])"
   ]
  },
  {
   "cell_type": "code",
   "execution_count": 40,
   "id": "31e9f23d-f9ce-4ee6-a542-fbecbffc9f91",
   "metadata": {},
   "outputs": [
    {
     "name": "stdout",
     "output_type": "stream",
     "text": [
      "Ravi\n",
      "Kumar\n",
      "003\n"
     ]
    }
   ],
   "source": [
    "##Split the string input_str = 'Kumar_Ravi_003' to the person's second name, first name and unique customer code.\n",
    "##In this example, second_name= 'Kumar', first_name= 'Ravi', customer_code = '003'.\n",
    "input_str = 'Kumar_Ravi_003'\n",
    "userInfoList = input_str.split(\"_\")\n",
    "print(f'{userInfoList[1]}\\n{userInfoList[0]}\\n{userInfoList[2]}')"
   ]
  },
  {
   "cell_type": "markdown",
   "id": "5b2611d5-4834-4bac-8d27-a5c6fe98cce3",
   "metadata": {},
   "source": [
    "### <font color='red'>Boot camp week 2 live session practices , 06/04/2024 2:00 pm - 5:00 pm"
   ]
  },
  {
   "cell_type": "code",
   "execution_count": null,
   "id": "73d62753-f7dc-4fe9-8ace-936b9a62d9fb",
   "metadata": {},
   "outputs": [],
   "source": []
  }
 ],
 "metadata": {
  "kernelspec": {
   "display_name": "Python 3 (ipykernel)",
   "language": "python",
   "name": "python3"
  },
  "language_info": {
   "codemirror_mode": {
    "name": "ipython",
    "version": 3
   },
   "file_extension": ".py",
   "mimetype": "text/x-python",
   "name": "python",
   "nbconvert_exporter": "python",
   "pygments_lexer": "ipython3",
   "version": "3.11.7"
  }
 },
 "nbformat": 4,
 "nbformat_minor": 5
}
